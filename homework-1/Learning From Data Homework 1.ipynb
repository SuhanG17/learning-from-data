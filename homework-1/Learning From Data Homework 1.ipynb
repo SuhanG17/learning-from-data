{
 "cells": [
  {
   "cell_type": "markdown",
   "metadata": {},
   "source": [
    "# Learning From Data Homework 1\n",
    "\n",
    "https://work.caltech.edu/homework/hw1.pdf"
   ]
  },
  {
   "cell_type": "markdown",
   "metadata": {},
   "source": [
    "# 1\n",
    "\n",
    "(i) Not learning, just pure statistics and assumptions\n",
    "\n",
    "(ii) Supervised learning using a labeled set\n",
    "\n",
    "(iii) Reinforcement learning\n",
    "\n",
    "**Answer: \\[d\\]**"
   ]
  },
  {
   "cell_type": "markdown",
   "metadata": {},
   "source": [
    "# 2\n",
    "\n",
    "Most suitable problems for ML: Detecting potential fraud and  determining the optimal cycle for traffic lights in a busy intersection.\n",
    "\n",
    "(ii) and (iv), **answer A**"
   ]
  },
  {
   "cell_type": "markdown",
   "metadata": {},
   "source": [
    "# 3\n",
    "\n",
    "We have 2 opaque bags, each containing 2 balls. One bag has 2 black balls and\n",
    "the other has a black ball and a white ball. You pick a bag at random and\n",
    "then pick one of the balls in that bag at random. When you look at the ball,\n",
    "it is black. You now pick the second ball from that same bag. What is the\n",
    "probability that this ball is also black?\n",
    "\n",
    "Answer:\n",
    "\n",
    "Pick a bag at random. \n",
    "\n",
    "A black ball was picked up, meaning that there is a 2/3 chance of being in the blackblack bag and 1/3 of being in the whiteblack bag.\n",
    "\n",
    "The chance of the other ball being black is then equal to the chance of being in the blackblack bag, so 2/3."
   ]
  },
  {
   "cell_type": "markdown",
   "metadata": {},
   "source": [
    "Or using more formal bayesian logic:\n",
    "\n",
    "P(black|blackblack) = 1  \n",
    "P(black|whiteblack) = 0.5  \n",
    "P(blackblack) = 0.5  \n",
    "P(whiteblack) = 0.5  \n",
    "P(blackblack|black) = P(black|blackblack)*P(blackblack)/P(black)  \n",
    "P(whiteblack|black) = P(black|whiteblack)*P(whiteblack)/P(black)\n",
    "\n",
    "Bayes theorem:\n",
    "\n",
    "$P(A \\cap B) = P(A|B) P(B) = P(B|A)P(A)$\n",
    "\n",
    "$P(A|B) = P(A\\cap B)/P(B) = P(B|A)P(A)/P(B) $"
   ]
  },
  {
   "cell_type": "code",
   "execution_count": 13,
   "metadata": {},
   "outputs": [
    {
     "data": {
      "text/plain": [
       "0.6666666666666666"
      ]
     },
     "execution_count": 13,
     "metadata": {},
     "output_type": "execute_result"
    }
   ],
   "source": [
    "# Thus\n",
    "P_black = 0.75\n",
    "P_white = 0.25\n",
    "P_blackblack = 0.5\n",
    "P_whiteblack = 0.5\n",
    "P_black_given_blackblack = 1.0\n",
    "P_black_given_whiteblack = 0.5\n",
    "P_blackblack_given_black = P_black_given_blackblack * P_blackblack / P_black\n",
    "P_whiteblack_given_black = P_black_given_whiteblack * P_whiteblack / P_black\n",
    "\n",
    "P_second_also_black = P_blackblack_given_black * 1 + P_whiteblack_given_black * 0\n",
    "P_second_also_black"
   ]
  },
  {
   "cell_type": "markdown",
   "metadata": {},
   "source": [
    "**Answer: d**"
   ]
  },
  {
   "cell_type": "markdown",
   "metadata": {},
   "source": [
    "# 4\n",
    "\n",
    "Consider a sample of 10 marbles drawn from a bin containing red and green marbles.\n",
    "The probability that any marble we draw is red is µ = 0.55 (independently, with\n",
    "replacement). We address the probability of getting no red marbles (ν = 0) in the\n",
    "following cases:\n",
    "\n",
    "We draw only one such sample. Compute the probability that ν = 0. The\n",
    "closest answer is (‘closest answer’ means: |your answer−given option| is closest\n",
    "to 0):\n",
    "\n",
    "[a] 7.331 × 10−6  \n",
    "[b] 3.405 × 10−4  \n",
    "[c] 0.289  \n",
    "[d] 0.450  \n",
    "[e] 0.550  "
   ]
  },
  {
   "cell_type": "code",
   "execution_count": 3,
   "metadata": {},
   "outputs": [
    {
     "data": {
      "text/plain": [
       "0.00034050628916015635"
      ]
     },
     "execution_count": 3,
     "metadata": {},
     "output_type": "execute_result"
    }
   ],
   "source": [
    "0.45**10"
   ]
  },
  {
   "cell_type": "markdown",
   "metadata": {},
   "source": [
    "**answer: b**"
   ]
  },
  {
   "cell_type": "markdown",
   "metadata": {},
   "source": [
    "# 5\n",
    "\n",
    "We draw 1,000 independent samples. Compute the probability that (at least)\n",
    "one of the samples has ν = 0. The closest answer is:\n",
    "\n",
    "[a] 7.331 × 10−6  \n",
    "[b] 3.405 × 10−4  \n",
    "[c] 0.289  \n",
    "[d] 0.450  \n",
    "[e] 0.550  "
   ]
  },
  {
   "cell_type": "code",
   "execution_count": 10,
   "metadata": {},
   "outputs": [
    {
     "data": {
      "text/plain": [
       "1.0"
      ]
     },
     "execution_count": 10,
     "metadata": {},
     "output_type": "execute_result"
    }
   ],
   "source": [
    "sample_prob = 0.45**10\n",
    "all_sample_prob = 1 - sample_prob**1000\n",
    "all_sample_prob"
   ]
  },
  {
   "cell_type": "code",
   "execution_count": 11,
   "metadata": {},
   "outputs": [
    {
     "data": {
      "text/plain": [
       "0.28863119784980995"
      ]
     },
     "execution_count": 11,
     "metadata": {},
     "output_type": "execute_result"
    }
   ],
   "source": [
    "# probability of one sample having v=0 is 0.45^10\n",
    "# P(at least one sample has v=0)\n",
    "# = 1 - P(no samples have v=0)\n",
    "# P(no samples have v=0)\n",
    "# = P(sample has v>0)^1000\n",
    "# P(sample has v>0) = 1 - P(sample has v=0)\n",
    "P_sample_0 = 0.45**10\n",
    "1 - (1 - 0.45**10)**1000"
   ]
  },
  {
   "cell_type": "markdown",
   "metadata": {},
   "source": [
    "**Answer C**"
   ]
  },
  {
   "cell_type": "markdown",
   "metadata": {},
   "source": [
    "# 6"
   ]
  },
  {
   "cell_type": "code",
   "execution_count": null,
   "metadata": {},
   "outputs": [],
   "source": [
    "todo\n"
   ]
  }
 ],
 "metadata": {
  "kernelspec": {
   "display_name": "Python 3",
   "language": "python",
   "name": "python3"
  },
  "language_info": {
   "codemirror_mode": {
    "name": "ipython",
    "version": 3
   },
   "file_extension": ".py",
   "mimetype": "text/x-python",
   "name": "python",
   "nbconvert_exporter": "python",
   "pygments_lexer": "ipython3",
   "version": "3.6.8"
  }
 },
 "nbformat": 4,
 "nbformat_minor": 2
}
