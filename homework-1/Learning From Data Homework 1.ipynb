{
 "cells": [
  {
   "cell_type": "markdown",
   "metadata": {},
   "source": [
    "# Learning From Data Homework 1\n",
    "\n",
    "https://work.caltech.edu/homework/hw1.pdf"
   ]
  },
  {
   "cell_type": "markdown",
   "metadata": {},
   "source": [
    "# 1\n",
    "\n",
    "(i) Not learning, just pure statistics and assumptions\n",
    "\n",
    "(ii) Supervised learning using a labeled set\n",
    "\n",
    "(iii) Reinforcement learning\n",
    "\n",
    "**Answer: \\[d\\]**"
   ]
  },
  {
   "cell_type": "markdown",
   "metadata": {},
   "source": [
    "# 2\n",
    "\n",
    "Most suitable problems for ML: Detecting potential fraud and  determining the optimal cycle for traffic lights in a busy intersection.\n",
    "\n",
    "(ii) and (iv), **answer A**"
   ]
  },
  {
   "cell_type": "markdown",
   "metadata": {},
   "source": [
    "# 3\n",
    "\n",
    "We have 2 opaque bags, each containing 2 balls. One bag has 2 black balls and\n",
    "the other has a black ball and a white ball. You pick a bag at random and\n",
    "then pick one of the balls in that bag at random. When you look at the ball,\n",
    "it is black. You now pick the second ball from that same bag. What is the\n",
    "probability that this ball is also black?\n",
    "\n",
    "Answer:\n",
    "\n",
    "Pick a bag at random. \n",
    "\n",
    "A black ball was picked up, meaning that there is a 2/3 chance of being in the blackblack bag and 1/3 of being in the whiteblack bag.\n",
    "\n",
    "The chance of the other ball being black is then equal to the chance of being in the blackblack bag, so 2/3."
   ]
  },
  {
   "cell_type": "markdown",
   "metadata": {},
   "source": [
    "Or using more formal bayesian logic:\n",
    "\n",
    "P(black|blackblack) = 1  \n",
    "P(black|whiteblack) = 0.5  \n",
    "P(blackblack) = 0.5  \n",
    "P(whiteblack) = 0.5  \n",
    "P(blackblack|black) = P(black|blackblack)*P(blackblack)/P(black)  \n",
    "P(whiteblack|black) = P(black|whiteblack)*P(whiteblack)/P(black)\n",
    "\n",
    "Bayes theorem:\n",
    "\n",
    "$P(A \\cap B) = P(A|B) P(B) = P(B|A)P(A)$\n",
    "\n",
    "$P(A|B) = P(A\\cap B)/P(B) = P(B|A)P(A)/P(B) $"
   ]
  },
  {
   "cell_type": "code",
   "execution_count": 13,
   "metadata": {},
   "outputs": [
    {
     "data": {
      "text/plain": [
       "0.6666666666666666"
      ]
     },
     "execution_count": 13,
     "metadata": {},
     "output_type": "execute_result"
    }
   ],
   "source": [
    "# Thus\n",
    "P_black = 0.75\n",
    "P_white = 0.25\n",
    "P_blackblack = 0.5\n",
    "P_whiteblack = 0.5\n",
    "P_black_given_blackblack = 1.0\n",
    "P_black_given_whiteblack = 0.5\n",
    "P_blackblack_given_black = P_black_given_blackblack * P_blackblack / P_black\n",
    "P_whiteblack_given_black = P_black_given_whiteblack * P_whiteblack / P_black\n",
    "\n",
    "P_second_also_black = P_blackblack_given_black * 1 + P_whiteblack_given_black * 0\n",
    "P_second_also_black"
   ]
  },
  {
   "cell_type": "markdown",
   "metadata": {},
   "source": [
    "**Answer: d**"
   ]
  },
  {
   "cell_type": "markdown",
   "metadata": {},
   "source": [
    "# 4\n",
    "\n",
    "Consider a sample of 10 marbles drawn from a bin containing red and green marbles.\n",
    "The probability that any marble we draw is red is µ = 0.55 (independently, with\n",
    "replacement). We address the probability of getting no red marbles (ν = 0) in the\n",
    "following cases:\n",
    "\n",
    "We draw only one such sample. Compute the probability that ν = 0. The\n",
    "closest answer is (‘closest answer’ means: |your answer−given option| is closest\n",
    "to 0):\n",
    "\n",
    "[a] 7.331 × 10−6  \n",
    "[b] 3.405 × 10−4  \n",
    "[c] 0.289  \n",
    "[d] 0.450  \n",
    "[e] 0.550  "
   ]
  },
  {
   "cell_type": "code",
   "execution_count": 3,
   "metadata": {},
   "outputs": [
    {
     "data": {
      "text/plain": [
       "0.00034050628916015635"
      ]
     },
     "execution_count": 3,
     "metadata": {},
     "output_type": "execute_result"
    }
   ],
   "source": [
    "0.45**10"
   ]
  },
  {
   "cell_type": "markdown",
   "metadata": {},
   "source": [
    "**answer: b**"
   ]
  },
  {
   "cell_type": "markdown",
   "metadata": {},
   "source": [
    "# 5\n",
    "\n",
    "We draw 1,000 independent samples. Compute the probability that (at least)\n",
    "one of the samples has ν = 0. The closest answer is:\n",
    "\n",
    "[a] 7.331 × 10−6  \n",
    "[b] 3.405 × 10−4  \n",
    "[c] 0.289  \n",
    "[d] 0.450  \n",
    "[e] 0.550  "
   ]
  },
  {
   "cell_type": "code",
   "execution_count": 10,
   "metadata": {},
   "outputs": [
    {
     "data": {
      "text/plain": [
       "1.0"
      ]
     },
     "execution_count": 10,
     "metadata": {},
     "output_type": "execute_result"
    }
   ],
   "source": [
    "sample_prob = 0.45**10\n",
    "all_sample_prob = 1 - sample_prob**1000\n",
    "all_sample_prob"
   ]
  },
  {
   "cell_type": "code",
   "execution_count": 11,
   "metadata": {},
   "outputs": [
    {
     "data": {
      "text/plain": [
       "0.28863119784980995"
      ]
     },
     "execution_count": 11,
     "metadata": {},
     "output_type": "execute_result"
    }
   ],
   "source": [
    "# probability of one sample having v=0 is 0.45^10\n",
    "# P(at least one sample has v=0)\n",
    "# = 1 - P(no samples have v=0)\n",
    "# P(no samples have v=0)\n",
    "# = P(sample has v>0)^1000\n",
    "# P(sample has v>0) = 1 - P(sample has v=0)\n",
    "P_sample_0 = 0.45**10\n",
    "1 - (1 - 0.45**10)**1000"
   ]
  },
  {
   "cell_type": "markdown",
   "metadata": {},
   "source": [
    "**Answer C**"
   ]
  },
  {
   "cell_type": "markdown",
   "metadata": {},
   "source": [
    "# 6"
   ]
  },
  {
   "cell_type": "code",
   "execution_count": 34,
   "metadata": {},
   "outputs": [
    {
     "name": "stdout",
     "output_type": "stream",
     "text": [
      "12\n",
      "12\n",
      "12\n",
      "12\n"
     ]
    }
   ],
   "source": [
    "def bk_funcs():\n",
    "    for i in range(256):\n",
    "        yield [int(b) for b in \"{:08b}\".format(i)]\n",
    "\n",
    "score_a = 0\n",
    "score_b = 0\n",
    "score_c = 0\n",
    "score_d = 0\n",
    "\n",
    "for f in bk_funcs():\n",
    "    # Known data\n",
    "    if f[0] != 0:\n",
    "        continue\n",
    "    if f[1] != 1:\n",
    "        continue\n",
    "    if f[2] != 1:\n",
    "        continue\n",
    "    if f[3] != 0:\n",
    "        continue\n",
    "    if f[4] != 1:\n",
    "        continue\n",
    "        \n",
    "    score_a += int(f[5] == 1) + int(f[6] == 1) + int(f[7] == 1)\n",
    "    score_b += int(f[5] == 0) + int(f[6] == 0) + int(f[7] == 0)\n",
    "    score_c += int(f[5] == 1) + int(f[6] == 0) + int(f[7] == 1)\n",
    "    score_d += int(f[5] == 0) + int(f[6] == 1) + int(f[7] == 0)\n",
    "    \n",
    "print(score_a)\n",
    "print(score_b)\n",
    "print(score_c)\n",
    "print(score_d)\n",
    "                    \n"
   ]
  },
  {
   "cell_type": "markdown",
   "metadata": {},
   "source": [
    "They are all equal, equivalent scores for g in a through d. **Answer E.**"
   ]
  },
  {
   "cell_type": "markdown",
   "metadata": {},
   "source": [
    "# The Perceptron Learning Algorithm"
   ]
  },
  {
   "cell_type": "code",
   "execution_count": 131,
   "metadata": {
    "scrolled": false
   },
   "outputs": [],
   "source": [
    "import random\n",
    "import matplotlib.pyplot as plt\n",
    "import numpy as np\n",
    "\n",
    "def random_point():\n",
    "    x0, y0 = random.uniform(-1, 1), random.uniform(-1, 1)\n",
    "    return (x0, y0)\n",
    "\n",
    "class Dataset:\n",
    "    def target_func(self, p):\n",
    "        if self.target_a*p[0] + self.target_b > p[1]:\n",
    "            return -1\n",
    "        else:\n",
    "            return 1\n",
    "        \n",
    "    def __init__(self, num_points):\n",
    "        p0 = random_point()\n",
    "        p1 = random_point()\n",
    "        self.target_a = (p1[1] - p0[1]) / (p1[0] - p0[0])\n",
    "        self.target_b = p0[1] - self.target_a * p0[0]\n",
    "        \n",
    "        self.xs = []\n",
    "        self.ys = []\n",
    "        for i in range(num_points):\n",
    "            xn = random_point()\n",
    "            self.xs.append(xn)\n",
    "            self.ys.append(self.target_func(xn))\n",
    "            \n",
    "    def plot(self):\n",
    "        cs = [\"red\" if y > 0 else \"blue\" for y in self.ys]\n",
    "        plt.scatter([x[0] for x in self.xs], [x[1] for x in self.xs], c=cs)\n",
    "        plt.plot((-1, 1), \n",
    "                 (-self.target_a+self.target_b, self.target_a+self.target_b))\n",
    "        plt.gca().set_aspect(1)\n",
    "        plt.xlim([-1, 1])\n",
    "        plt.ylim([-1, 1])\n",
    "        plt.title(\"Target function\")\n",
    "        plt.show()\n",
    "        \n",
    "class PLA:\n",
    "    def candidate_func(self, p):\n",
    "        return int(np.sign(self.w[0]*1 + self.w[1]*p[0] + self.w[2]*p[1]))\n",
    "        \n",
    "    def __init__(self, dataset):\n",
    "        self.w = np.array([0, 0, 0])\n",
    "        self.dataset = dataset\n",
    "        \n",
    "    def fit(self, plot_iters=False):\n",
    "        self.w = np.array([0, 0, 0])\n",
    "        num_iters = 0\n",
    "        \n",
    "        while True:\n",
    "            misclassified_points = []\n",
    "            for (x, y) in zip(self.dataset.xs, self.dataset.ys):\n",
    "                if self.candidate_func(x) != y:\n",
    "                    misclassified_points.append((np.array([1, x[0], x[1]]), y))\n",
    "            if len(misclassified_points) > 0:\n",
    "                num_iters += 1\n",
    "                x, y = random.choice(misclassified_points)\n",
    "                self.w = self.w + y*x\n",
    "                if plot_iters:\n",
    "                    self.plot()\n",
    "            else:\n",
    "                return num_iters\n",
    "        \n",
    "    def plot(self):\n",
    "        cs = [\"red\" if y > 0 else \"blue\" for y in self.dataset.ys]\n",
    "        plt.scatter([x[0] for x in self.dataset.xs], [x[1] for x in self.dataset.xs], c=cs)\n",
    "        y_left = (self.w[1] - self.w[0]) / self.w[2]\n",
    "        y_right = (-self.w[1] - self.w[0]) / self.w[2]\n",
    "        plt.plot((-1,1), (y_left, y_right))\n",
    "        plt.gca().set_aspect(1)\n",
    "        plt.xlim([-1, 1])\n",
    "        plt.ylim([-1, 1])\n",
    "        plt.title(\"Candidate function found with PLA\")\n",
    "        plt.show()\n",
    "        \n"
   ]
  },
  {
   "cell_type": "markdown",
   "metadata": {},
   "source": [
    "Visual verification that things are actually working"
   ]
  },
  {
   "cell_type": "code",
   "execution_count": 133,
   "metadata": {},
   "outputs": [
    {
     "data": {
      "image/png": "[encoded data removed]",
      "text/plain": [
       "<Figure size 432x288 with 1 Axes>"
      ]
     },
     "metadata": {
      "needs_background": "light"
     },
     "output_type": "display_data"
    },
    {
     "data": {
      "image/png": "[encoded data removed]",
      "text/plain": [
       "<Figure size 432x288 with 1 Axes>"
      ]
     },
     "metadata": {
      "needs_background": "light"
     },
     "output_type": "display_data"
    },
    {
     "data": {
      "image/png": "[encoded data removed]",
      "text/plain": [
       "<Figure size 432x288 with 1 Axes>"
      ]
     },
     "metadata": {
      "needs_background": "light"
     },
     "output_type": "display_data"
    },
    {
     "data": {
      "image/png": "[encoded data removed]",
      "text/plain": [
       "<Figure size 432x288 with 1 Axes>"
      ]
     },
     "metadata": {
      "needs_background": "light"
     },
     "output_type": "display_data"
    },
    {
     "data": {
      "image/png": "[encoded data removed]",
      "text/plain": [
       "<Figure size 432x288 with 1 Axes>"
      ]
     },
     "metadata": {
      "needs_background": "light"
     },
     "output_type": "display_data"
    },
    {
     "data": {
      "image/png": "[encoded data removed]",
      "text/plain": [
       "<Figure size 432x288 with 1 Axes>"
      ]
     },
     "metadata": {
      "needs_background": "light"
     },
     "output_type": "display_data"
    }
   ],
   "source": [
    "   \n",
    "ds = Dataset(num_points=10)\n",
    "\n",
    "\n",
    "pla = PLA(dataset=ds)\n",
    "pla.fit(plot_iters=True)\n",
    "ds.plot()\n"
   ]
  },
  {
   "cell_type": "markdown",
   "metadata": {},
   "source": [
    "# 7\n",
    "Take N = 10. How many iterations does it take on average for the PLA to\n",
    "converge for N = 10 training points?"
   ]
  },
  {
   "cell_type": "code",
   "execution_count": 156,
   "metadata": {},
   "outputs": [
    {
     "name": "stdout",
     "output_type": "stream",
     "text": [
      "Mean iters: 10.3585\n",
      "P(wrong classification) 0.108792\n"
     ]
    }
   ],
   "source": [
    "num_iters = []\n",
    "n_correct_classified = 0\n",
    "n_wrong_classified = 0\n",
    "for i in range(2000):\n",
    "    ds = Dataset(num_points=10)\n",
    "    pla = PLA(dataset=ds)\n",
    "    num_iters.append(pla.fit())\n",
    "    for j in range(1000):\n",
    "        p = random_point()\n",
    "        if ds.target_func(p) == pla.candidate_func(p):\n",
    "            n_correct_classified += 1\n",
    "        else:\n",
    "            n_wrong_classified += 1\n",
    "\n",
    "\n",
    "print(\"Mean iters:\", np.mean(num_iters))\n",
    "\n",
    "print(\"P(wrong classification)\", float(n_wrong_classified)/(n_correct_classified+n_wrong_classified))"
   ]
  },
  {
   "cell_type": "markdown",
   "metadata": {},
   "source": [
    "**Answer: Around 10 iterations, so alternative B**"
   ]
  },
  {
   "cell_type": "markdown",
   "metadata": {},
   "source": [
    "# 8\n",
    "\n",
    "Which of the following is closest to P[f(x) 6= g(x)] for N = 10?\n",
    "\n",
    "**Answer: Around 0.10, so alternative C**"
   ]
  },
  {
   "cell_type": "markdown",
   "metadata": {},
   "source": [
    "# 9\n",
    "\n",
    "Now, try N = 100. How many iterations does it take on average for the PLA\n",
    "to converge for N = 100 training points? Pick the value closest to your results."
   ]
  },
  {
   "cell_type": "code",
   "execution_count": 157,
   "metadata": {},
   "outputs": [
    {
     "name": "stdout",
     "output_type": "stream",
     "text": [
      "Mean iters: 115.903\n",
      "P(wrong classification) 0.01293\n"
     ]
    }
   ],
   "source": [
    "num_iters = []\n",
    "n_correct_classified = 0\n",
    "n_wrong_classified = 0\n",
    "for i in range(1000):\n",
    "    ds = Dataset(num_points=100)\n",
    "    pla = PLA(dataset=ds)\n",
    "    num_iters.append(pla.fit())\n",
    "    for j in range(100):\n",
    "        p = random_point()\n",
    "        if ds.target_func(p) == pla.candidate_func(p):\n",
    "            n_correct_classified += 1\n",
    "        else:\n",
    "            n_wrong_classified += 1\n",
    "\n",
    "\n",
    "print(\"Mean iters:\", np.mean(num_iters))\n",
    "\n",
    "print(\"P(wrong classification)\", float(n_wrong_classified)/(n_correct_classified+n_wrong_classified))"
   ]
  },
  {
   "cell_type": "markdown",
   "metadata": {},
   "source": [
    "**Answer: Around 100 iterations, so alternative B**"
   ]
  },
  {
   "cell_type": "markdown",
   "metadata": {},
   "source": [
    "# 10\n",
    "\n",
    "Which of the following is closest to P[f(x) 6= g(x)] for N = 100?\n",
    "\n",
    "**Answer: Around 0.01, so alternative B**"
   ]
  }
 ],
 "metadata": {
  "kernelspec": {
   "display_name": "Python 3",
   "language": "python",
   "name": "python3"
  },
  "language_info": {
   "codemirror_mode": {
    "name": "ipython",
    "version": 3
   },
   "file_extension": ".py",
   "mimetype": "text/x-python",
   "name": "python",
   "nbconvert_exporter": "python",
   "pygments_lexer": "ipython3",
   "version": "3.6.8"
  }
 },
 "nbformat": 4,
 "nbformat_minor": 2
}
