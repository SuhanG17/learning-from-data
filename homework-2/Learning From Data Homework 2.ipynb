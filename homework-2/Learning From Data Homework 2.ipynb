{
 "cells": [
  {
   "cell_type": "markdown",
   "metadata": {},
   "source": [
    "# Learning From Data Homework #2\n",
    "\n",
    "https://work.caltech.edu/homework/hw2.pdf"
   ]
  },
  {
   "cell_type": "markdown",
   "metadata": {},
   "source": [
    "## Hoeffding Inequality\n",
    "\n",
    "Run a computer simulation for flipping 1,000 virtual fair coins. Flip each coin independently 10 times. Focus on 3 coins as follows: c1 is the first coin flipped, crand is a\n",
    "coin chosen randomly from the 1,000, and cmin is the coin which had the minimum\n",
    "frequency of heads (pick the earlier one in case of a tie). Let ν1, νrand, and νmin be\n",
    "the fraction of heads obtained for the 3 respective coins out of the 10 tosses.\n",
    "Run the experiment 100,000 times in order to get a full distribution of ν1, νrand, and\n",
    "νmin (note that crand and cmin will change from run to run).\n",
    "\n",
    "1. The average value of νmin is closest to:  \n",
    "[a] 0  \n",
    "[b] **0.01** <---  \n",
    "[c] 0.1  \n",
    "[d] 0.5   \n",
    "[e] 0.67  \n",
    "\n",
    "2. Which coin(s) has a distribution of ν that satisfies the (single-bin) Hoeffding\n",
    "Inequality?   \n",
    "[a] c1 only  \n",
    "[b] crand only  \n",
    "[c] cmin only  \n",
    "[d] **c1 and crand** <--  \n",
    "[e] cmin and crand  "
   ]
  },
  {
   "cell_type": "code",
   "execution_count": 43,
   "metadata": {},
   "outputs": [],
   "source": [
    "import numpy as np\n",
    "\n",
    "v1s = []\n",
    "vrands = []\n",
    "vmins = []\n",
    "\n",
    "for i in range(100000):\n",
    "\n",
    "    # 1 = heads, 0 = tails\n",
    "    C = np.random.randint(0, 1+1, [1000, 10])\n",
    "\n",
    "    c1 = C[0,:]\n",
    "    crand = C[np.random.randint(0, 1000),:]\n",
    "    cmin = C[np.argmin(np.sum(C, axis=1)),:]\n",
    "\n",
    "    v1s.append(np.mean(c1))\n",
    "    vrands.append(np.mean(crand))\n",
    "    vmins.append(np.mean(cmin))\n"
   ]
  },
  {
   "cell_type": "code",
   "execution_count": 44,
   "metadata": {},
   "outputs": [
    {
     "data": {
      "image/png": "[encoded data removed]",
      "text/plain": [
       "<Figure size 432x288 with 1 Axes>"
      ]
     },
     "metadata": {
      "needs_background": "light"
     },
     "output_type": "display_data"
    },
    {
     "data": {
      "image/png": "[encoded data removed]",
      "text/plain": [
       "<Figure size 432x288 with 1 Axes>"
      ]
     },
     "metadata": {
      "needs_background": "light"
     },
     "output_type": "display_data"
    },
    {
     "data": {
      "image/png": "[encoded data removed]",
      "text/plain": [
       "<Figure size 432x288 with 1 Axes>"
      ]
     },
     "metadata": {
      "needs_background": "light"
     },
     "output_type": "display_data"
    },
    {
     "name": "stdout",
     "output_type": "stream",
     "text": [
      "Mean of vmin is  0.037752999999999995\n"
     ]
    }
   ],
   "source": [
    "plt.hist(v1s, bins=np.linspace(0, 10, 11)/10)\n",
    "plt.title(\"v1 distribution\")\n",
    "plt.show()\n",
    "\n",
    "plt.hist(vrands, bins=np.linspace(0, 10, 11)/10)\n",
    "plt.title(\"vrand distribution\")\n",
    "plt.show()\n",
    "\n",
    "plt.hist(vmins, bins=np.linspace(0, 10, 11)/10)\n",
    "plt.title(\"vmin distribution\")\n",
    "plt.show()\n",
    "\n",
    "print(\"Mean of vmin is \", np.mean(vmins))"
   ]
  },
  {
   "cell_type": "markdown",
   "metadata": {},
   "source": [
    "## Error and Noise\n",
    "\n",
    "Consider the bin model for a hypothesis h that makes an error with probability µ in\n",
    "approximating a deterministic target function f (both h and f are binary functions).\n",
    "If we use the same h to approximate a noisy version of f given by:\n",
    "\n",
    "P(y | x) = λ y for f(x) and 1 − λ for y $\\neq$ f(x)\n",
    "\n",
    "3. What is the probability of error that h makes in approximating y? Hint: Two\n",
    "wrongs can make a right!\n",
    "\n",
    "[a] µ  \n",
    "[b] λ  \n",
    "[c] 1-µ  \n",
    "[d] (1 − λ) ∗ µ + λ ∗ (1 − µ)  \n",
    "[e] **(1 − λ) ∗ (1 − µ) + λ ∗ µ  ** <-- answer  \n",
    "\n"
   ]
  },
  {
   "cell_type": "markdown",
   "metadata": {},
   "source": [
    "A) h(x) fails to approximate f(x). But y != f(x) due to noise. Same answer, so counts as correct.\n",
    "B) h(x) = f(x). But y!= f(x) due to noise. Different answers, so incorrect.\n",
    "C) h(x) != f(x), and y=f(x). Different answers, so incorrect.\n",
    "D) h(x) = f(x), and y=f(x). Same answers, so correct.\n",
    "\n",
    "Answer is sum of B) and C).\n",
    "\n",
    "$$ P(B) + P(C) = (1 - \\mu)(1-\\lambda) + \\mu\\lambda $$\n",
    "\n",
    "which is alternative [e]"
   ]
  },
  {
   "cell_type": "markdown",
   "metadata": {},
   "source": [
    "4. At what value of λ will the performance of h be independent of µ?\n",
    "[a] 0  \n",
    "[b] 0.5  \n",
    "[c] 1/√2  \n",
    "[d] 1  \n",
    "[e] No values of λ  "
   ]
  },
  {
   "cell_type": "markdown",
   "metadata": {},
   "source": [
    "**Answer:** (alternative [b])\n",
    "\n",
    "$$ P(h(x)=y) = \\mu + \\lambda(1-2\\mu) $$\n",
    "\n",
    "If we choose $\\lambda=\\frac12$ we get\n",
    "\n",
    "$$ P(h(x)=y) = \\frac12 $$\n",
    "\n",
    "which is independent of $\\mu$."
   ]
  },
  {
   "cell_type": "markdown",
   "metadata": {},
   "source": [
    "## Linear Regression\n",
    "\n",
    "In these problems, we will explore how Linear Regression for classification works. As\n",
    "with the Perceptron Learning Algorithm in Homework # 1, you will create your own\n",
    "target function f and data set D. Take d = 2 so you can visualize the problem, and\n",
    "assume X = [−1, 1] × [−1, 1] with uniform probability of picking each x ∈ X . In\n",
    "each run, choose a random line in the plane as your target function f (do this by\n",
    "taking two random, uniformly distributed points in [−1, 1] × [−1, 1] and taking the\n",
    "line passing through them), where one side of the line maps to +1 and the other maps\n",
    "to −1. Choose the inputs xn of the data set as random points (uniformly in X ), and\n",
    "evaluate the target function on each xn to get the corresponding output yn.\n",
    "5. Take N = 100. Use Linear Regression to find g and evaluate Ein, the fraction of\n",
    "in-sample points which got classified incorrectly. Repeat the experiment 1000\n",
    "times and take the average (keep the g’s as they will be used again in Problem\n",
    "6). Which of the following values is closest to the average Ein? (Closest is the\n",
    "option that makes the expression |your answer −given option| closest to 0. Use\n",
    "this definition of closest here and throughout.)\n"
   ]
  },
  {
   "cell_type": "code",
   "execution_count": 85,
   "metadata": {},
   "outputs": [
    {
     "name": "stdout",
     "output_type": "stream",
     "text": [
      "0.03854000000000012\n"
     ]
    }
   ],
   "source": [
    "import numpy as np\n",
    "from matplotlib import pyplot as plt\n",
    "\n",
    "d = 2\n",
    "\n",
    "class Dataset:\n",
    "    def __init__(self, N):\n",
    "        self.X = 2*np.random.rand(N, d+1)-1\n",
    "        self.X[:,0] = 1.0\n",
    "        X = self.X\n",
    "        xa = 2*np.random.rand() - 1\n",
    "        ya = 2*np.random.rand() - 1\n",
    "        xb = 2*np.random.rand() - 1\n",
    "        yb = 2*np.random.rand() - 1\n",
    "        xa, xb = min(xa, xb), max(xa, xb)\n",
    "        self.xa = xa\n",
    "        self.ya = ya\n",
    "        self.xb = xb\n",
    "        self.yb = yb\n",
    "        self.a = (yb-ya)/(xb-xa)\n",
    "        self.y = self.evaluate(X)\n",
    "        \n",
    "    def evaluate(self, X):\n",
    "        return 2*(X[:,2] > self.ya + (X[:,1] - self.xa)*self.a)-1\n",
    "        \n",
    "    def plot(self, y=None):\n",
    "        above = self.X[np.where(self.y < 0)]\n",
    "        below = self.X[np.where(self.y >= 0)]\n",
    "        plt.scatter(above[:,1], above[:,2], marker=\"x\")\n",
    "        plt.scatter(below[:,1], below[:,2], marker=\"o\")\n",
    "        if not y is None:\n",
    "            wrong = np.where(y != self.y)\n",
    "            plt.scatter(self.X[wrong,1], self.X[wrong,2], c=\"red\")\n",
    "        plt.plot([self.xa, self.xb], [self.ya, self.yb])\n",
    "        plt.show()\n",
    "        \n",
    "        \n",
    "def fit_ls(X, y):\n",
    "    return np.linalg.solve(X.T@X, X.T@y)\n",
    "\n",
    "def evaluate(X, w):\n",
    "    return np.sign(X@w)\n",
    "\n",
    "N = 100\n",
    "gs = np.zeros([1000, N])\n",
    "\n",
    "total_Ein = 0.0\n",
    "for i in range(1000):\n",
    "    ds = Dataset(N)\n",
    "    w_ls = fit_ls(ds.X, ds.y)\n",
    "    total_Ein += np.sum(evaluate(ds.X, w_ls) != ds.y)/N\n",
    "    \n",
    "print(total_Ein/1000)"
   ]
  }
 ],
 "metadata": {
  "kernelspec": {
   "display_name": "Python [default]",
   "language": "python",
   "name": "python3"
  },
  "language_info": {
   "codemirror_mode": {
    "name": "ipython",
    "version": 3
   },
   "file_extension": ".py",
   "mimetype": "text/x-python",
   "name": "python",
   "nbconvert_exporter": "python",
   "pygments_lexer": "ipython3",
   "version": "3.5.6"
  }
 },
 "nbformat": 4,
 "nbformat_minor": 2
}
