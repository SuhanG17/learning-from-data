{
 "cells": [
  {
   "cell_type": "markdown",
   "metadata": {},
   "source": [
    "# Learning From Data HW7"
   ]
  },
  {
   "cell_type": "markdown",
   "metadata": {},
   "source": [
    "Imports"
   ]
  },
  {
   "cell_type": "code",
   "execution_count": 68,
   "metadata": {},
   "outputs": [],
   "source": [
    "import numpy as np\n",
    "import sklearn as sk\n",
    "from sklearn.model_selection import train_test_split\n",
    "from sklearn.linear_model import LinearRegression\n",
    "from sklearn.metrics import mean_squared_error\n",
    "import matplotlib.pyplot as plt"
   ]
  },
  {
   "cell_type": "markdown",
   "metadata": {},
   "source": [
    "# Validation"
   ]
  },
  {
   "cell_type": "markdown",
   "metadata": {},
   "source": [
    "Load all the data"
   ]
  },
  {
   "cell_type": "code",
   "execution_count": 17,
   "metadata": {},
   "outputs": [
    {
     "name": "stdout",
     "output_type": "stream",
     "text": [
      "(25, 2)\n",
      "(10, 2)\n"
     ]
    }
   ],
   "source": [
    "data_test = np.loadtxt(\"out.dta\")\n",
    "X_test, y_test = data_test[:,:-1], data_test[:,-1]\n",
    "\n",
    "data = np.loadtxt(\"in.dta\")\n",
    "X, y = data[:,:-1], data[:,-1]\n",
    "\n",
    "X_train, X_val, y_train, y_val = train_test_split(\n",
    "    X, y, train_size=25, shuffle=False)\n",
    "\n",
    "print(X_train.shape)\n",
    "print(X_val.shape)"
   ]
  },
  {
   "cell_type": "markdown",
   "metadata": {},
   "source": [
    "Define nonlinear transformations"
   ]
  },
  {
   "cell_type": "code",
   "execution_count": 44,
   "metadata": {},
   "outputs": [],
   "source": [
    "phis = [\n",
    "    lambda X: np.ones((X.shape[0],1)),\n",
    "    lambda X: X[:,0],\n",
    "    lambda X: X[:,1],\n",
    "    lambda X: X[:,0]**2,\n",
    "    lambda X: X[:,1]**2,\n",
    "    lambda X: X[:,0]*X[:,1],\n",
    "    lambda X: np.abs(X[:,0] - X[:,1]),\n",
    "    lambda X: np.abs(X[:,0] + X[:,1]),\n",
    "]\n",
    "\n",
    "k = 3\n",
    "Zs = lambda k: lambda X: np.column_stack([phi(X) for phi in phis[:k+1]])"
   ]
  },
  {
   "cell_type": "markdown",
   "metadata": {},
   "source": [
    "# 1\n",
    "\n",
    "For which model is the classification error on the validation set smallest?"
   ]
  },
  {
   "cell_type": "code",
   "execution_count": 61,
   "metadata": {},
   "outputs": [
    {
     "name": "stdout",
     "output_type": "stream",
     "text": [
      "k= 0 validation classification error: 0.4\n",
      "k= 1 validation classification error: 0.5\n",
      "k= 2 validation classification error: 0.7\n",
      "k= 3 validation classification error: 0.3\n",
      "k= 4 validation classification error: 0.5\n",
      "k= 5 validation classification error: 0.2\n",
      "k= 6 validation classification error: 0.0\n",
      "k= 7 validation classification error: 0.1\n"
     ]
    }
   ],
   "source": [
    "for k in range(8):\n",
    "    reg1 = LinearRegression(fit_intercept=False).fit(Zs(k)(X_train), y_train)\n",
    "    y_val_pred = np.sign(reg1.predict(Zs(k)(X_val)))\n",
    "    print(\"k=\", k, \"validation classification error:\", np.mean(y_val_pred != y_val))"
   ]
  },
  {
   "cell_type": "markdown",
   "metadata": {},
   "source": [
    "The classification error is smallest for k=6. **Alternative 1D**"
   ]
  },
  {
   "cell_type": "markdown",
   "metadata": {},
   "source": [
    "# 2\n",
    "\n",
    "For which model is out-of-sample classification error smallest?"
   ]
  },
  {
   "cell_type": "code",
   "execution_count": 62,
   "metadata": {},
   "outputs": [
    {
     "name": "stdout",
     "output_type": "stream",
     "text": [
      "k= 0 test classification error: 0.472\n",
      "k= 1 test classification error: 0.488\n",
      "k= 2 test classification error: 0.648\n",
      "k= 3 test classification error: 0.42\n",
      "k= 4 test classification error: 0.416\n",
      "k= 5 test classification error: 0.188\n",
      "k= 6 test classification error: 0.084\n",
      "k= 7 test classification error: 0.072\n"
     ]
    }
   ],
   "source": [
    "for k in range(8):\n",
    "    reg2 = LinearRegression(fit_intercept=False).fit(Zs(k)(X_train), y_train)\n",
    "    y_test_pred = np.sign(reg2.predict(Zs(k)(X_test)))\n",
    "    print(\"k=\", k, \"test classification error:\", np.mean(y_test_pred != y_test))"
   ]
  },
  {
   "cell_type": "markdown",
   "metadata": {},
   "source": [
    "The out-of-sample classification error is smallest for k=7. **Alternative 2E**"
   ]
  },
  {
   "cell_type": "markdown",
   "metadata": {},
   "source": [
    "# 3\n",
    "\n",
    "Reverse the role of the training and validation sets. For which model is the classification error on the validation set smallest?"
   ]
  },
  {
   "cell_type": "code",
   "execution_count": 63,
   "metadata": {},
   "outputs": [
    {
     "name": "stdout",
     "output_type": "stream",
     "text": [
      "k= 0 validation classification error: 0.44\n",
      "k= 1 validation classification error: 0.44\n",
      "k= 2 validation classification error: 0.44\n",
      "k= 3 validation classification error: 0.28\n",
      "k= 4 validation classification error: 0.36\n",
      "k= 5 validation classification error: 0.2\n",
      "k= 6 validation classification error: 0.08\n",
      "k= 7 validation classification error: 0.12\n"
     ]
    }
   ],
   "source": [
    "# Swap validation and training data\n",
    "X_train, X_val, y_train, y_val = X_val, X_train, y_val, y_train\n",
    "\n",
    "for k in range(8):\n",
    "    reg3 = LinearRegression(fit_intercept=False).fit(Zs(k)(X_train), y_train)\n",
    "    y_val_pred = np.sign(reg3.predict(Zs(k)(X_val)))\n",
    "    print(\"k=\", k, \"validation classification error:\", np.mean(y_val_pred != y_val))\n",
    "\n",
    "# Swap validation and training data back again\n",
    "X_val, X_train, y_val, y_train = X_train, X_val, y_train, y_val"
   ]
  },
  {
   "cell_type": "markdown",
   "metadata": {},
   "source": [
    "The error is smallest for k=6. **Alternative 3D**"
   ]
  },
  {
   "cell_type": "markdown",
   "metadata": {},
   "source": [
    "# 4\n",
    "Reverse the role of the training and validation sets. For which model is the classification error on the testing set smallest?"
   ]
  },
  {
   "cell_type": "code",
   "execution_count": 64,
   "metadata": {},
   "outputs": [
    {
     "name": "stdout",
     "output_type": "stream",
     "text": [
      "k= 0 test classification error: 0.472\n",
      "k= 1 test classification error: 0.472\n",
      "k= 2 test classification error: 0.5\n",
      "k= 3 test classification error: 0.396\n",
      "k= 4 test classification error: 0.388\n",
      "k= 5 test classification error: 0.284\n",
      "k= 6 test classification error: 0.192\n",
      "k= 7 test classification error: 0.196\n"
     ]
    }
   ],
   "source": [
    "# Swap validation and training data\n",
    "X_train, X_val, y_train, y_val = X_val, X_train, y_val, y_train\n",
    "\n",
    "for k in range(8):\n",
    "    reg4 = LinearRegression(fit_intercept=False).fit(Zs(k)(X_train), y_train)\n",
    "    y_test_pred = np.sign(reg4.predict(Zs(k)(X_test)))\n",
    "    print(\"k=\", k, \"test classification error:\", np.mean(y_test_pred != y_test))\n",
    "\n",
    "# Swap validation and training data back again\n",
    "X_val, X_train, y_val, y_train = X_train, X_val, y_train, y_val"
   ]
  },
  {
   "cell_type": "markdown",
   "metadata": {},
   "source": [
    "The error is lowest for k=6, **Alternative 4D**"
   ]
  },
  {
   "cell_type": "markdown",
   "metadata": {},
   "source": [
    "# 5\n",
    "What out-of-sample classification error did the models in Problem 1 and 3 have, respectively?"
   ]
  },
  {
   "cell_type": "code",
   "execution_count": 66,
   "metadata": {},
   "outputs": [
    {
     "name": "stdout",
     "output_type": "stream",
     "text": [
      "k1= 6 test classification error: 0.084\n",
      "k3= 6 test classification error: 0.192\n"
     ]
    }
   ],
   "source": [
    "# Training with thes testing set\n",
    "k1 = 6\n",
    "reg1 = LinearRegression(fit_intercept=False).fit(Zs(k1)(X_train), y_train)\n",
    "y_test_pred = np.sign(reg1.predict(Zs(k1)(X_test)))\n",
    "print(\"k1=\", k1, \"test classification error:\", np.mean(y_test_pred != y_test))\n",
    "\n",
    "# Training with the validation set\n",
    "k3 = 6\n",
    "reg3 = LinearRegression(fit_intercept=False).fit(Zs(k3)(X_val), y_val)\n",
    "y_test_pred = np.sign(reg3.predict(Zs(k3)(X_test)))\n",
    "print(\"k3=\", k3, \"test classification error:\", np.mean(y_test_pred != y_test))"
   ]
  },
  {
   "cell_type": "markdown",
   "metadata": {},
   "source": [
    "Which is closest to **Alternative 5B**"
   ]
  },
  {
   "cell_type": "markdown",
   "metadata": {},
   "source": [
    "# 6"
   ]
  },
  {
   "cell_type": "markdown",
   "metadata": {},
   "source": [
    "Two uniformly distributed variables on [0, 1]. What is the expected value of the minimum of those two random variables?"
   ]
  },
  {
   "cell_type": "code",
   "execution_count": 87,
   "metadata": {},
   "outputs": [
    {
     "data": {
      "image/png": "[encoded data removed]",
      "text/plain": [
       "<Figure size 432x288 with 1 Axes>"
      ]
     },
     "metadata": {
      "needs_background": "light"
     },
     "output_type": "display_data"
    },
    {
     "data": {
      "text/plain": [
       "0.33409696530823246"
      ]
     },
     "execution_count": 87,
     "metadata": {},
     "output_type": "execute_result"
    }
   ],
   "source": [
    "es = np.random.rand(100000, 2)\n",
    "e = np.min(es, axis=1)\n",
    "plt.hist(e)\n",
    "plt.show()\n",
    "np.mean(e)"
   ]
  },
  {
   "cell_type": "markdown",
   "metadata": {},
   "source": [
    "$$P(e_1 < e_2) = 0.5$$"
   ]
  },
  {
   "cell_type": "markdown",
   "metadata": {},
   "source": [
    "$$ E[e_1|e_1 < x] = \\frac x2 $$"
   ]
  },
  {
   "cell_type": "markdown",
   "metadata": {},
   "source": [
    "$$ E[e] = P(e_1 < e_2) E[e_1|e_1<e_2] + P(e_2 < e_1) E[e_2|e_2<e_1] = 2 P(e_1 < e_2) E[e_1|e_1<e_2] $$"
   ]
  },
  {
   "cell_type": "markdown",
   "metadata": {},
   "source": [
    "$$ E[e] = 2\\int_{x=0}^1 P(e_1 < x) E[e_1|e_1 < x]\\, dx $$"
   ]
  },
  {
   "cell_type": "markdown",
   "metadata": {},
   "source": [
    "$$ E[e] = 2\\int_0^1 x \\cdot \\frac x2 \\, dx $$"
   ]
  },
  {
   "cell_type": "markdown",
   "metadata": {},
   "source": [
    "$$ E[e] = \\int_0^1 x^2 = \\frac13 $$"
   ]
  },
  {
   "cell_type": "markdown",
   "metadata": {},
   "source": [
    "Which is closest to **Alternative 6D: 0.4**"
   ]
  },
  {
   "cell_type": "markdown",
   "metadata": {},
   "source": [
    "# Cross Validation"
   ]
  },
  {
   "cell_type": "markdown",
   "metadata": {},
   "source": [
    "# 7"
   ]
  },
  {
   "cell_type": "markdown",
   "metadata": {},
   "source": [
    "Leave-one-out cross validation for constant and linear models.\n",
    "\n",
    "H0: b  \n",
    "H1: b + ax\n",
    "\n",
    "on the points\n",
    "\n",
    "A: (-1 ,0)  \n",
    "B: ($\\rho$, 1)  \n",
    "C: (1, 0)"
   ]
  },
  {
   "cell_type": "code",
   "execution_count": 112,
   "metadata": {
    "scrolled": false
   },
   "outputs": [
    {
     "data": {
      "image/png": "[encoded data removed]",
      "text/plain": [
       "<Figure size 432x288 with 1 Axes>"
      ]
     },
     "metadata": {
      "needs_background": "light"
     },
     "output_type": "display_data"
    },
    {
     "data": {
      "image/png": "[encoded data removed]",
      "text/plain": [
       "<Figure size 432x288 with 1 Axes>"
      ]
     },
     "metadata": {
      "needs_background": "light"
     },
     "output_type": "display_data"
    },
    {
     "data": {
      "image/png": "[encoded data removed]",
      "text/plain": [
       "<Figure size 432x288 with 1 Axes>"
      ]
     },
     "metadata": {
      "needs_background": "light"
     },
     "output_type": "display_data"
    }
   ],
   "source": [
    "rho = 3\n",
    "\n",
    "xA, yA = -1, 0\n",
    "xB, yB = rho, 1\n",
    "xC, yC = 1, 0\n",
    "\n",
    "def h0A(x):\n",
    "    return 1/2\n",
    "\n",
    "def h0B(x):\n",
    "    return 0\n",
    "\n",
    "def h0C(x):\n",
    "    return 1/2\n",
    "\n",
    "def h1A(x):\n",
    "    return (1-x)/(1-rho)\n",
    "\n",
    "def h1B(x):\n",
    "    return 0\n",
    "\n",
    "def h1C(x):\n",
    "    return (x+1)/(1+rho)\n",
    "\n",
    "plt.title(\"Three H1 hypotheses\")\n",
    "plt.plot([-1, 5], [h1A(-1), h1A(5)])\n",
    "plt.plot([-1, 5], [h1B(-1), h1B(5)])\n",
    "plt.plot([-1, 5], [h1C(-1), h1C(5)])\n",
    "plt.legend([\"H1A\", \"H1B\", \"H1C\"])\n",
    "plt.scatter([xA, xB, xC], [yA, yB, yC])\n",
    "plt.show()\n",
    "\n",
    "plt.title(\"Three H0 hypotheses\")\n",
    "plt.plot([-1, 5], [h0A(-5), h0A(5)])\n",
    "plt.plot([-1, 5], [h0B(-5), h0B(4)])\n",
    "plt.plot([-1, 5], [h0C(-5), h0C(5)])\n",
    "plt.legend([\"H0A\", \"H0B\", \"H0C\"])\n",
    "plt.scatter([xA, xB, xC], [yA, yB, yC])\n",
    "plt.show()\n",
    "\n",
    "plt.title(\"e0 and e1 as function of rho\")\n",
    "rr = np.linspace(0, 5, 1000)\n",
    "e0 = 1/2\n",
    "e1 = 1/3 * (1 + 4/(1-rr)**2 + 4/(1+rr)**2)\n",
    "plt.plot(rr, e1)\n",
    "plt.plot([0, 5], [e0, e0])\n",
    "plt.ylim([0, 5])\n",
    "plt.show()\n",
    "\n"
   ]
  },
  {
   "cell_type": "markdown",
   "metadata": {},
   "source": [
    "Solve for exact $\\rho$ with SymPy"
   ]
  },
  {
   "cell_type": "code",
   "execution_count": 125,
   "metadata": {},
   "outputs": [
    {
     "data": {
      "text/plain": [
       "[-I*sqrt(-9 + 4*sqrt(6)),\n",
       " I*sqrt(-9 + 4*sqrt(6)),\n",
       " -sqrt(9 + 4*sqrt(6)),\n",
       " sqrt(9 + 4*sqrt(6))]"
      ]
     },
     "execution_count": 125,
     "metadata": {},
     "output_type": "execute_result"
    }
   ],
   "source": [
    "import sympy as sp\n",
    "expr = sp.sympify(\"1/3 * (1 + 4/(1-r)**2 + 4/(1+r)**2) - 1/2\")\n",
    "sp.solve(expr, \"r\")"
   ]
  },
  {
   "cell_type": "markdown",
   "metadata": {},
   "source": [
    "And we get $\\rho = \\sqrt{9 + 4\\sqrt{6}}$"
   ]
  },
  {
   "cell_type": "markdown",
   "metadata": {},
   "source": [
    "These are the solutions of the quartic equation $\\rho^4 - 18\\rho^2 - 15 = 0$. \n",
    "The only valid solution (real and positive) is the solution shown above."
   ]
  },
  {
   "cell_type": "code",
   "execution_count": 131,
   "metadata": {},
   "outputs": [
    {
     "data": {
      "text/plain": [
       "[-I*sqrt(-9 + 4*sqrt(6)),\n",
       " I*sqrt(-9 + 4*sqrt(6)),\n",
       " -sqrt(9 + 4*sqrt(6)),\n",
       " sqrt(9 + 4*sqrt(6))]"
      ]
     },
     "execution_count": 131,
     "metadata": {},
     "output_type": "execute_result"
    }
   ],
   "source": [
    "sp.solve(sp.sympify(\"r**4 - 18*r**2 - 15\"))"
   ]
  },
  {
   "cell_type": "markdown",
   "metadata": {},
   "source": [
    "Which is **Alternative 7C**"
   ]
  },
  {
   "cell_type": "markdown",
   "metadata": {},
   "source": [
    "# PLA vs. SVM"
   ]
  },
  {
   "cell_type": "markdown",
   "metadata": {},
   "source": [
    "## Intermission: Solving quadratic optimization problems with cvxopt"
   ]
  },
  {
   "cell_type": "code",
   "execution_count": 132,
   "metadata": {
    "scrolled": true
   },
   "outputs": [
    {
     "ename": "ModuleNotFoundError",
     "evalue": "No module named 'cvxopt'",
     "output_type": "error",
     "traceback": [
      "\u001b[0;31m---------------------------------------------------------------------------\u001b[0m",
      "\u001b[0;31mModuleNotFoundError\u001b[0m                       Traceback (most recent call last)",
      "\u001b[0;32m<ipython-input-132-01f8b2e0f668>\u001b[0m in \u001b[0;36m<module>\u001b[0;34m\u001b[0m\n\u001b[0;32m----> 1\u001b[0;31m \u001b[0;32mimport\u001b[0m \u001b[0mcvxopt\u001b[0m\u001b[0;34m\u001b[0m\u001b[0;34m\u001b[0m\u001b[0m\n\u001b[0m",
      "\u001b[0;31mModuleNotFoundError\u001b[0m: No module named 'cvxopt'"
     ]
    }
   ],
   "source": [
    "import cvxopt"
   ]
  },
  {
   "cell_type": "markdown",
   "metadata": {},
   "source": [
    "```\n",
    "!conda install -c anaconda cvxopt\n",
    "```"
   ]
  },
  {
   "cell_type": "code",
   "execution_count": 135,
   "metadata": {},
   "outputs": [],
   "source": [
    "import cvxopt"
   ]
  },
  {
   "cell_type": "code",
   "execution_count": 139,
   "metadata": {
    "scrolled": false
   },
   "outputs": [],
   "source": [
    "#help(cvxopt.solvers.qp)"
   ]
  },
  {
   "cell_type": "markdown",
   "metadata": {},
   "source": [
    "```\n",
    "Help on function qp in module cvxopt.coneprog:\n",
    "\n",
    "qp(P, q, G=None, h=None, A=None, b=None, solver=None, kktsolver=None, initvals=None, **kwargs)\n",
    "    Solves a quadratic program\n",
    "    \n",
    "        minimize    (1/2)*x'*P*x + q'*x\n",
    "        subject to  G*x <= h\n",
    "                    A*x = b.\n",
    "    \n",
    "    \n",
    "    Input arguments.\n",
    "    \n",
    "        P is a n x n dense or sparse 'd' matrix with the lower triangular\n",
    "        part of P stored in the lower triangle.  Must be positive\n",
    "        semidefinite.\n",
    "    \n",
    "        q is an n x 1 dense 'd' matrix.\n",
    "    \n",
    "        G is an m x n dense or sparse 'd' matrix.\n",
    "    \n",
    "        h is an m x 1 dense 'd' matrix.\n",
    "    \n",
    "        A is a p x n dense or sparse 'd' matrix.\n",
    "    \n",
    "        b is a p x 1 dense 'd' matrix or None.\n",
    "    \n",
    "        solver is None or 'mosek'.\n",
    "    \n",
    "        The default values for G, h, A and b are empty matrices with\n",
    "        zero rows.\n",
    "```"
   ]
  },
  {
   "cell_type": "markdown",
   "metadata": {},
   "source": [
    "**Example** (copied from https://optimization.mccormick.northwestern.edu/index.php/Quadratic_programming#Numerical_example)."
   ]
  },
  {
   "cell_type": "markdown",
   "metadata": {},
   "source": [
    "Minimize $ f(x) = 3x_1^2 + x_2^2 + 2x_1 x_2 + x_1 + 6x_2 + 2 $\n",
    "\n",
    "such that $2x_1 + 3x_2 \\ge 4$ and $x_1\\ge 0$ and $x_2 \\ge 0$."
   ]
  },
  {
   "cell_type": "markdown",
   "metadata": {},
   "source": [
    "---"
   ]
  },
  {
   "cell_type": "markdown",
   "metadata": {},
   "source": [
    "First rewrite to matrix form.\n",
    "\n",
    "Minimize $ f(\\mathbf x) = \\frac12 \\mathbf x^T P \\mathbf x + \\mathbf q^T \\mathbf x $\n",
    "\n",
    "Minimize $ f(\\mathbf x) = \\frac12 \\mathbf x^T\n",
    "\\begin{bmatrix}\n",
    "1.5 & 1 \\\\ 1 & 0.5\n",
    "\\end{bmatrix}\n",
    "\\mathbf x +\n",
    "\\begin{bmatrix}\n",
    "1 & 6 \\\\\n",
    "\\end{bmatrix}\n",
    "\\mathbf x $"
   ]
  },
  {
   "cell_type": "markdown",
   "metadata": {},
   "source": [
    "Subject to $G \\mathbf x \\le h $.\n",
    "\n",
    "Subject to $\\begin{bmatrix}\n",
    "-2 & -3 \\\\\n",
    "-1 & 0 \\\\\n",
    "0 & -1 \\\\\n",
    "\\end{bmatrix}\n",
    "\\mathbf x \\le \\begin{bmatrix}\n",
    "4 \\\\\n",
    "0 \\\\\n",
    "0 \\\\\n",
    "\\end{bmatrix}$."
   ]
  },
  {
   "cell_type": "code",
   "execution_count": 277,
   "metadata": {},
   "outputs": [],
   "source": [
    "%matplotlib inline\n",
    "from cvxopt.solvers import qp\n",
    "\n",
    "def f_original(x):\n",
    "    return 3*x[:,0]**2 + x[:,1]**2 + 2*x[:,0]*x[:,1] + x[:,0] + 6*x[:,1] + 2\n",
    "\n",
    "def f_matrix(x):\n",
    "    P = np.array([[1.5, 1],\n",
    "                  [1, 0.5]])\n",
    "    q = np.array([[1], [6]])\n",
    "    return 1/2 * x.T @ P @ x + q.T @ x\n",
    "\n",
    "def constraints_satisfied(x):\n",
    "    G = np.array([\n",
    "        [-2, 3],\n",
    "        [-1, 0],\n",
    "        [0, -1],\n",
    "    ])\n",
    "    h = np.array([[4], [0], [0]])\n",
    "    return G @ x <= h"
   ]
  },
  {
   "cell_type": "markdown",
   "metadata": {},
   "source": [
    "Plot the function and constraints to get an idea."
   ]
  },
  {
   "cell_type": "code",
   "execution_count": 278,
   "metadata": {},
   "outputs": [
    {
     "data": {
      "image/png": "[encoded data removed]",
      "text/plain": [
       "<Figure size 432x288 with 1 Axes>"
      ]
     },
     "metadata": {
      "needs_background": "light"
     },
     "output_type": "display_data"
    }
   ],
   "source": [
    "xx, yy = np.linspace(-2, 20, 90), np.linspace(-5, 5, 190)\n",
    "XX, YY = np.meshgrid(xx, yy)\n",
    "ZZ_matrix = np.zeros(XX.shape)\n",
    "ZZ_original = np.zeros(XX.shape)\n",
    "constraints = np.zeros(XX.shape)\n",
    "\n",
    "for iy in range(XX.shape[0]):\n",
    "    for ix in range(XX.shape[1]):\n",
    "        x = np.array([[XX[iy,ix]], [YY[iy,ix]]])\n",
    "        ZZ_matrix[iy,ix] = f_matrix(x)\n",
    "        ZZ_original[iy,ix] = f_matrix(x)\n",
    "        if np.all(constraints_satisfied(x)):\n",
    "            constraints[iy,ix] = 1\n",
    "\n",
    "plt.xlabel(\"x\")\n",
    "plt.ylabel(\"y\")\n",
    "plt.contourf(XX, YY, ZZ_matrix, 20)\n",
    "plt.contour(XX, YY, constraints)\n",
    "\n",
    "plt.show()"
   ]
  },
  {
   "cell_type": "markdown",
   "metadata": {},
   "source": [
    "Looks like the minimum within the constraints is around $(0,0)$."
   ]
  },
  {
   "cell_type": "markdown",
   "metadata": {},
   "source": [
    "Now back to cvxopt again.\n",
    "```\n",
    "qp(P, q, G=None, h=None, A=None, b=None, solver=None, kktsolver=None, initvals=None, **kwargs)\n",
    "    Solves a quadratic program\n",
    "\n",
    "        minimize    (1/2)*x'*P*x + q'*x\n",
    "        subject to  G*x <= h\n",
    "                    A*x = b.\n",
    "```"
   ]
  },
  {
   "cell_type": "code",
   "execution_count": 288,
   "metadata": {},
   "outputs": [
    {
     "ename": "ValueError",
     "evalue": "use of function valued P, G, A requires a user-provided kktsolver",
     "output_type": "error",
     "traceback": [
      "\u001b[0;31m---------------------------------------------------------------------------\u001b[0m",
      "\u001b[0;31mValueError\u001b[0m                                Traceback (most recent call last)",
      "\u001b[0;32m<ipython-input-288-dd361aac8ffb>\u001b[0m in \u001b[0;36m<module>\u001b[0;34m\u001b[0m\n\u001b[1;32m     15\u001b[0m               [0.0]])\n\u001b[1;32m     16\u001b[0m \u001b[0;34m\u001b[0m\u001b[0m\n\u001b[0;32m---> 17\u001b[0;31m \u001b[0mqp\u001b[0m\u001b[0;34m(\u001b[0m\u001b[0mP\u001b[0m\u001b[0;34m,\u001b[0m \u001b[0mq\u001b[0m\u001b[0;34m,\u001b[0m \u001b[0mG\u001b[0m\u001b[0;34m,\u001b[0m \u001b[0mh\u001b[0m\u001b[0;34m)\u001b[0m\u001b[0;34m\u001b[0m\u001b[0;34m\u001b[0m\u001b[0m\n\u001b[0m",
      "\u001b[0;32m~/anaconda3/lib/python3.6/site-packages/cvxopt/coneprog.py\u001b[0m in \u001b[0;36mqp\u001b[0;34m(P, q, G, h, A, b, solver, kktsolver, initvals, **kwargs)\u001b[0m\n\u001b[1;32m   4485\u001b[0m             'residual as dual infeasibility certificate': dinfres}\n\u001b[1;32m   4486\u001b[0m \u001b[0;34m\u001b[0m\u001b[0m\n\u001b[0;32m-> 4487\u001b[0;31m     \u001b[0;32mreturn\u001b[0m \u001b[0mconeqp\u001b[0m\u001b[0;34m(\u001b[0m\u001b[0mP\u001b[0m\u001b[0;34m,\u001b[0m \u001b[0mq\u001b[0m\u001b[0;34m,\u001b[0m \u001b[0mG\u001b[0m\u001b[0;34m,\u001b[0m \u001b[0mh\u001b[0m\u001b[0;34m,\u001b[0m \u001b[0;32mNone\u001b[0m\u001b[0;34m,\u001b[0m \u001b[0mA\u001b[0m\u001b[0;34m,\u001b[0m  \u001b[0mb\u001b[0m\u001b[0;34m,\u001b[0m \u001b[0minitvals\u001b[0m\u001b[0;34m,\u001b[0m \u001b[0mkktsolver\u001b[0m \u001b[0;34m=\u001b[0m \u001b[0mkktsolver\u001b[0m\u001b[0;34m,\u001b[0m \u001b[0moptions\u001b[0m \u001b[0;34m=\u001b[0m \u001b[0moptions\u001b[0m\u001b[0;34m)\u001b[0m\u001b[0;34m\u001b[0m\u001b[0;34m\u001b[0m\u001b[0m\n\u001b[0m",
      "\u001b[0;32m~/anaconda3/lib/python3.6/site-packages/cvxopt/coneprog.py\u001b[0m in \u001b[0;36mconeqp\u001b[0;34m(P, q, G, h, dims, A, b, initvals, kktsolver, xnewcopy, xdot, xaxpy, xscal, ynewcopy, ydot, yaxpy, yscal, **kwargs)\u001b[0m\n\u001b[1;32m   1820\u001b[0m     if (not matrixP or (not matrixG and G is not None) or\n\u001b[1;32m   1821\u001b[0m         (not matrixA and A is not None)) and not customkkt:\n\u001b[0;32m-> 1822\u001b[0;31m         raise ValueError(\"use of function valued P, G, A requires a \"\\\n\u001b[0m\u001b[1;32m   1823\u001b[0m             \"user-provided kktsolver\")\n\u001b[1;32m   1824\u001b[0m     customx = (xnewcopy != None or xdot != None or xaxpy != None or\n",
      "\u001b[0;31mValueError\u001b[0m: use of function valued P, G, A requires a user-provided kktsolver"
     ]
    }
   ],
   "source": [
    "P = np.array([[1.5, 1],\n",
    "              [1.0, 0.5]])\n",
    "\n",
    "q = np.array([[1.0], \n",
    "              [6.0]])\n",
    "\n",
    "G = np.array([\n",
    "    [-2.0, 3.0],\n",
    "    [-1.0, 0.0],\n",
    "    [0.0, -1.0],\n",
    "])\n",
    "    \n",
    "h = np.array([[4.0], \n",
    "              [0.0], \n",
    "              [0.0]])\n",
    "\n",
    "qp(P, q, G, h)"
   ]
  },
  {
   "cell_type": "markdown",
   "metadata": {},
   "source": [
    " > ValueError: use of function valued P, G, A requires a user-provided kktsolver"
   ]
  },
  {
   "cell_type": "markdown",
   "metadata": {},
   "source": [
    "After some googling, looks like cvxopt does not support NumPy matrices. \n",
    "We will have to do the conversion ourselves.\n",
    "\n",
    "> TypeError: 'q' must be a 'd' matrix with one column\n",
    "\n",
    "Also the inputs must be doubles, not integers."
   ]
  },
  {
   "cell_type": "code",
   "execution_count": 296,
   "metadata": {},
   "outputs": [
    {
     "name": "stdout",
     "output_type": "stream",
     "text": [
      "     pcost       dcost       gap    pres   dres\n",
      " 0: -4.4395e-01  4.3326e+00  1e+01  1e+00  1e+00\n",
      " 1: -5.8268e+00 -3.4321e+00  5e+00  5e-01  6e-01\n",
      " 2:  4.7553e-01 -4.1590e-01  9e-01  7e-17  5e-15\n",
      " 3:  8.2995e-03 -3.8000e-03  1e-02  4e-17  3e-16\n",
      " 4:  8.3268e-05 -3.7789e-05  1e-04  2e-16  4e-17\n",
      " 5:  8.3266e-07 -3.7786e-07  1e-06  3e-16  2e-16\n",
      " 6:  8.3266e-09 -3.7786e-09  1e-08  1e-16  2e-16\n",
      "Optimal solution found.\n",
      "{'x': <2x1 matrix, tc='d'>, 'y': <0x1 matrix, tc='d'>, 's': <3x1 matrix, tc='d'>, 'z': <3x1 matrix, tc='d'>, 'status': 'optimal', 'gap': 1.2105183813130773e-08, 'relative gap': None, 'primal objective': 8.326574929943846e-09, 'dual objective': -3.778608883186781e-09, 'primal infeasibility': 1.322787507273235e-16, 'dual infeasibility': 1.6325044029792576e-16, 'primal slack': 4.1882208619692475e-10, 'dual slack': 9.446522138398042e-10, 'iterations': 6}\n",
      "[ 5.81e-09]\n",
      "[ 4.19e-10]\n",
      "\n",
      "\n"
     ]
    }
   ],
   "source": [
    "P_cvx = cvxopt.matrix(P)\n",
    "q_cvx = cvxopt.matrix(q)\n",
    "G_cvx = cvxopt.matrix(G)\n",
    "h_cvx = cvxopt.matrix(h)\n",
    "qp_sol = qp(P_cvx, q_cvx, G_cvx, h_cvx)\n",
    "print(qp_sol)\n",
    "print(qp_sol[\"x\"])\n",
    "print(qp_sol[\"y\"])"
   ]
  },
  {
   "cell_type": "markdown",
   "metadata": {},
   "source": [
    "It works! Now to convert back to NumPy matrix format."
   ]
  },
  {
   "cell_type": "code",
   "execution_count": 309,
   "metadata": {},
   "outputs": [
    {
     "data": {
      "text/plain": [
       "array([[5.81364238e-09],\n",
       "       [4.18822086e-10]])"
      ]
     },
     "execution_count": 309,
     "metadata": {},
     "output_type": "execute_result"
    }
   ],
   "source": [
    "np.array(qp_sol[\"x\"])"
   ]
  },
  {
   "cell_type": "markdown",
   "metadata": {},
   "source": [
    "Nice."
   ]
  }
 ],
 "metadata": {
  "kernelspec": {
   "display_name": "Python 3",
   "language": "python",
   "name": "python3"
  },
  "language_info": {
   "codemirror_mode": {
    "name": "ipython",
    "version": 3
   },
   "file_extension": ".py",
   "mimetype": "text/x-python",
   "name": "python",
   "nbconvert_exporter": "python",
   "pygments_lexer": "ipython3",
   "version": "3.6.8"
  }
 },
 "nbformat": 4,
 "nbformat_minor": 2
}
