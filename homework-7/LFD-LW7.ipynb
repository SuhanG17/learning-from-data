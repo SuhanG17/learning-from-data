{
 "cells": [
  {
   "cell_type": "markdown",
   "metadata": {},
   "source": [
    "# Learning From Data HW7"
   ]
  },
  {
   "cell_type": "markdown",
   "metadata": {},
   "source": [
    "Imports"
   ]
  },
  {
   "cell_type": "code",
   "execution_count": 1,
   "metadata": {},
   "outputs": [],
   "source": [
    "import numpy as np\n",
    "import sklearn as sk\n",
    "from sklearn.model_selection import train_test_split\n",
    "from sklearn.linear_model import LinearRegression\n",
    "from sklearn.metrics import mean_squared_error\n",
    "import matplotlib.pyplot as plt"
   ]
  },
  {
   "cell_type": "markdown",
   "metadata": {},
   "source": [
    "# Validation"
   ]
  },
  {
   "cell_type": "markdown",
   "metadata": {},
   "source": [
    "Load all the data"
   ]
  },
  {
   "cell_type": "code",
   "execution_count": 2,
   "metadata": {},
   "outputs": [
    {
     "name": "stdout",
     "output_type": "stream",
     "text": [
      "(25, 2)\n",
      "(10, 2)\n"
     ]
    },
    {
     "name": "stderr",
     "output_type": "stream",
     "text": [
      "C:\\Program Files\\Anaconda3\\lib\\site-packages\\sklearn\\model_selection\\_split.py:2069: FutureWarning: From version 0.21, test_size will always complement train_size unless both are specified.\n",
      "  FutureWarning)\n"
     ]
    }
   ],
   "source": [
    "data_test = np.loadtxt(\"out.dta\")\n",
    "X_test, y_test = data_test[:,:-1], data_test[:,-1]\n",
    "\n",
    "data = np.loadtxt(\"in.dta\")\n",
    "X, y = data[:,:-1], data[:,-1]\n",
    "\n",
    "X_train, X_val, y_train, y_val = train_test_split(\n",
    "    X, y, train_size=25, shuffle=False)\n",
    "\n",
    "print(X_train.shape)\n",
    "print(X_val.shape)"
   ]
  },
  {
   "cell_type": "markdown",
   "metadata": {},
   "source": [
    "Define nonlinear transformations"
   ]
  },
  {
   "cell_type": "code",
   "execution_count": 3,
   "metadata": {},
   "outputs": [],
   "source": [
    "phis = [\n",
    "    lambda X: np.ones((X.shape[0],1)),\n",
    "    lambda X: X[:,0],\n",
    "    lambda X: X[:,1],\n",
    "    lambda X: X[:,0]**2,\n",
    "    lambda X: X[:,1]**2,\n",
    "    lambda X: X[:,0]*X[:,1],\n",
    "    lambda X: np.abs(X[:,0] - X[:,1]),\n",
    "    lambda X: np.abs(X[:,0] + X[:,1]),\n",
    "]\n",
    "\n",
    "k = 3\n",
    "Zs = lambda k: lambda X: np.column_stack([phi(X) for phi in phis[:k+1]])"
   ]
  },
  {
   "cell_type": "markdown",
   "metadata": {},
   "source": [
    "# 1\n",
    "\n",
    "For which model is the classification error on the validation set smallest?"
   ]
  },
  {
   "cell_type": "code",
   "execution_count": 4,
   "metadata": {},
   "outputs": [
    {
     "name": "stdout",
     "output_type": "stream",
     "text": [
      "k= 0 validation classification error: 0.4\n",
      "k= 1 validation classification error: 0.5\n",
      "k= 2 validation classification error: 0.7\n",
      "k= 3 validation classification error: 0.3\n",
      "k= 4 validation classification error: 0.5\n",
      "k= 5 validation classification error: 0.2\n",
      "k= 6 validation classification error: 0.0\n",
      "k= 7 validation classification error: 0.1\n"
     ]
    }
   ],
   "source": [
    "for k in range(8):\n",
    "    reg1 = LinearRegression(fit_intercept=False).fit(Zs(k)(X_train), y_train)\n",
    "    y_val_pred = np.sign(reg1.predict(Zs(k)(X_val)))\n",
    "    print(\"k=\", k, \"validation classification error:\", np.mean(y_val_pred != y_val))"
   ]
  },
  {
   "cell_type": "markdown",
   "metadata": {},
   "source": [
    "The classification error is smallest for k=6. **Alternative 1D**"
   ]
  },
  {
   "cell_type": "markdown",
   "metadata": {},
   "source": [
    "# 2\n",
    "\n",
    "For which model is out-of-sample classification error smallest?"
   ]
  },
  {
   "cell_type": "code",
   "execution_count": 5,
   "metadata": {},
   "outputs": [
    {
     "name": "stdout",
     "output_type": "stream",
     "text": [
      "k= 0 test classification error: 0.472\n",
      "k= 1 test classification error: 0.488\n",
      "k= 2 test classification error: 0.648\n",
      "k= 3 test classification error: 0.42\n",
      "k= 4 test classification error: 0.416\n",
      "k= 5 test classification error: 0.188\n",
      "k= 6 test classification error: 0.084\n",
      "k= 7 test classification error: 0.072\n"
     ]
    }
   ],
   "source": [
    "for k in range(8):\n",
    "    reg2 = LinearRegression(fit_intercept=False).fit(Zs(k)(X_train), y_train)\n",
    "    y_test_pred = np.sign(reg2.predict(Zs(k)(X_test)))\n",
    "    print(\"k=\", k, \"test classification error:\", np.mean(y_test_pred != y_test))"
   ]
  },
  {
   "cell_type": "markdown",
   "metadata": {},
   "source": [
    "The out-of-sample classification error is smallest for k=7. **Alternative 2E**"
   ]
  },
  {
   "cell_type": "markdown",
   "metadata": {},
   "source": [
    "# 3\n",
    "\n",
    "Reverse the role of the training and validation sets. For which model is the classification error on the validation set smallest?"
   ]
  },
  {
   "cell_type": "code",
   "execution_count": 6,
   "metadata": {},
   "outputs": [
    {
     "name": "stdout",
     "output_type": "stream",
     "text": [
      "k= 0 validation classification error: 0.44\n",
      "k= 1 validation classification error: 0.44\n",
      "k= 2 validation classification error: 0.44\n",
      "k= 3 validation classification error: 0.28\n",
      "k= 4 validation classification error: 0.36\n",
      "k= 5 validation classification error: 0.2\n",
      "k= 6 validation classification error: 0.08\n",
      "k= 7 validation classification error: 0.12\n"
     ]
    }
   ],
   "source": [
    "# Swap validation and training data\n",
    "X_train, X_val, y_train, y_val = X_val, X_train, y_val, y_train\n",
    "\n",
    "for k in range(8):\n",
    "    reg3 = LinearRegression(fit_intercept=False).fit(Zs(k)(X_train), y_train)\n",
    "    y_val_pred = np.sign(reg3.predict(Zs(k)(X_val)))\n",
    "    print(\"k=\", k, \"validation classification error:\", np.mean(y_val_pred != y_val))\n",
    "\n",
    "# Swap validation and training data back again\n",
    "X_val, X_train, y_val, y_train = X_train, X_val, y_train, y_val"
   ]
  },
  {
   "cell_type": "markdown",
   "metadata": {},
   "source": [
    "The error is smallest for k=6. **Alternative 3D**"
   ]
  },
  {
   "cell_type": "markdown",
   "metadata": {},
   "source": [
    "# 4\n",
    "Reverse the role of the training and validation sets. For which model is the classification error on the testing set smallest?"
   ]
  },
  {
   "cell_type": "code",
   "execution_count": 7,
   "metadata": {},
   "outputs": [
    {
     "name": "stdout",
     "output_type": "stream",
     "text": [
      "k= 0 test classification error: 0.472\n",
      "k= 1 test classification error: 0.472\n",
      "k= 2 test classification error: 0.5\n",
      "k= 3 test classification error: 0.396\n",
      "k= 4 test classification error: 0.388\n",
      "k= 5 test classification error: 0.284\n",
      "k= 6 test classification error: 0.192\n",
      "k= 7 test classification error: 0.196\n"
     ]
    }
   ],
   "source": [
    "# Swap validation and training data\n",
    "X_train, X_val, y_train, y_val = X_val, X_train, y_val, y_train\n",
    "\n",
    "for k in range(8):\n",
    "    reg4 = LinearRegression(fit_intercept=False).fit(Zs(k)(X_train), y_train)\n",
    "    y_test_pred = np.sign(reg4.predict(Zs(k)(X_test)))\n",
    "    print(\"k=\", k, \"test classification error:\", np.mean(y_test_pred != y_test))\n",
    "\n",
    "# Swap validation and training data back again\n",
    "X_val, X_train, y_val, y_train = X_train, X_val, y_train, y_val"
   ]
  },
  {
   "cell_type": "markdown",
   "metadata": {},
   "source": [
    "The error is lowest for k=6, **Alternative 4D**"
   ]
  },
  {
   "cell_type": "markdown",
   "metadata": {},
   "source": [
    "# 5\n",
    "What out-of-sample classification error did the models in Problem 1 and 3 have, respectively?"
   ]
  },
  {
   "cell_type": "code",
   "execution_count": 8,
   "metadata": {},
   "outputs": [
    {
     "name": "stdout",
     "output_type": "stream",
     "text": [
      "k1= 6 test classification error: 0.084\n",
      "k3= 6 test classification error: 0.192\n"
     ]
    }
   ],
   "source": [
    "# Training with thes testing set\n",
    "k1 = 6\n",
    "reg1 = LinearRegression(fit_intercept=False).fit(Zs(k1)(X_train), y_train)\n",
    "y_test_pred = np.sign(reg1.predict(Zs(k1)(X_test)))\n",
    "print(\"k1=\", k1, \"test classification error:\", np.mean(y_test_pred != y_test))\n",
    "\n",
    "# Training with the validation set\n",
    "k3 = 6\n",
    "reg3 = LinearRegression(fit_intercept=False).fit(Zs(k3)(X_val), y_val)\n",
    "y_test_pred = np.sign(reg3.predict(Zs(k3)(X_test)))\n",
    "print(\"k3=\", k3, \"test classification error:\", np.mean(y_test_pred != y_test))"
   ]
  },
  {
   "cell_type": "markdown",
   "metadata": {},
   "source": [
    "Which is closest to **Alternative 5B**"
   ]
  },
  {
   "cell_type": "markdown",
   "metadata": {},
   "source": [
    "# 6"
   ]
  },
  {
   "cell_type": "markdown",
   "metadata": {},
   "source": [
    "Two uniformly distributed variables on [0, 1]. What is the expected value of the minimum of those two random variables?"
   ]
  },
  {
   "cell_type": "code",
   "execution_count": 9,
   "metadata": {},
   "outputs": [
    {
     "data": {
      "image/png": "[encoded data removed]",
      "text/plain": [
       "<Figure size 432x288 with 1 Axes>"
      ]
     },
     "metadata": {
      "needs_background": "light"
     },
     "output_type": "display_data"
    },
    {
     "data": {
      "text/plain": [
       "0.33337637441555956"
      ]
     },
     "execution_count": 9,
     "metadata": {},
     "output_type": "execute_result"
    }
   ],
   "source": [
    "es = np.random.rand(100000, 2)\n",
    "e = np.min(es, axis=1)\n",
    "plt.hist(e)\n",
    "plt.show()\n",
    "np.mean(e)"
   ]
  },
  {
   "cell_type": "markdown",
   "metadata": {},
   "source": [
    "$$P(e_1 < e_2) = 0.5$$"
   ]
  },
  {
   "cell_type": "markdown",
   "metadata": {},
   "source": [
    "$$ E[e_1|e_1 < x] = \\frac x2 $$"
   ]
  },
  {
   "cell_type": "markdown",
   "metadata": {},
   "source": [
    "$$ E[e] = P(e_1 < e_2) E[e_1|e_1<e_2] + P(e_2 < e_1) E[e_2|e_2<e_1] = 2 P(e_1 < e_2) E[e_1|e_1<e_2] $$"
   ]
  },
  {
   "cell_type": "markdown",
   "metadata": {},
   "source": [
    "$$ E[e] = 2\\int_{x=0}^1 P(e_1 < x) E[e_1|e_1 < x]\\, dx $$"
   ]
  },
  {
   "cell_type": "markdown",
   "metadata": {},
   "source": [
    "$$ E[e] = 2\\int_0^1 x \\cdot \\frac x2 \\, dx $$"
   ]
  },
  {
   "cell_type": "markdown",
   "metadata": {},
   "source": [
    "$$ E[e] = \\int_0^1 x^2 = \\frac13 $$"
   ]
  },
  {
   "cell_type": "markdown",
   "metadata": {},
   "source": [
    "Which is closest to **Alternative 6D: 0.4**"
   ]
  },
  {
   "cell_type": "markdown",
   "metadata": {},
   "source": [
    "# Cross Validation"
   ]
  },
  {
   "cell_type": "markdown",
   "metadata": {},
   "source": [
    "# 7"
   ]
  },
  {
   "cell_type": "markdown",
   "metadata": {},
   "source": [
    "Leave-one-out cross validation for constant and linear models.\n",
    "\n",
    "H0: b  \n",
    "H1: b + ax\n",
    "\n",
    "on the points\n",
    "\n",
    "A: (-1 ,0)  \n",
    "B: ($\\rho$, 1)  \n",
    "C: (1, 0)"
   ]
  },
  {
   "cell_type": "code",
   "execution_count": 19,
   "metadata": {
    "scrolled": false
   },
   "outputs": [
    {
     "data": {
      "image/png": "[encoded data removed]",
      "text/plain": [
       "<Figure size 432x288 with 1 Axes>"
      ]
     },
     "metadata": {
      "needs_background": "light"
     },
     "output_type": "display_data"
    },
    {
     "data": {
      "image/png": "[encoded data removed]",
      "text/plain": [
       "<Figure size 432x288 with 1 Axes>"
      ]
     },
     "metadata": {
      "needs_background": "light"
     },
     "output_type": "display_data"
    },
    {
     "data": {
      "image/png": "[encoded data removed]",
      "text/plain": [
       "<Figure size 432x288 with 1 Axes>"
      ]
     },
     "metadata": {
      "needs_background": "light"
     },
     "output_type": "display_data"
    }
   ],
   "source": [
    "rho = 4.2\n",
    "\n",
    "xA, yA = -1, 0\n",
    "xB, yB = rho, 1\n",
    "xC, yC = 1, 0\n",
    "\n",
    "def h0A(x):\n",
    "    return 1/2\n",
    "\n",
    "def h0B(x):\n",
    "    return 0\n",
    "\n",
    "def h0C(x):\n",
    "    return 1/2\n",
    "\n",
    "def h1A(x):\n",
    "    return (1-x)/(1-rho)\n",
    "\n",
    "def h1B(x):\n",
    "    return 0\n",
    "\n",
    "def h1C(x):\n",
    "    return (x+1)/(1+rho)\n",
    "\n",
    "plt.title(\"Three H1 hypotheses\")\n",
    "plt.plot([-1, 5], [h1A(-1), h1A(5)])\n",
    "plt.plot([-1, 5], [h1B(-1), h1B(5)])\n",
    "plt.plot([-1, 5], [h1C(-1), h1C(5)])\n",
    "plt.legend([\"H1A\", \"H1B\", \"H1C\"])\n",
    "plt.scatter([xA, xB, xC], [yA, yB, yC])\n",
    "plt.show()\n",
    "\n",
    "plt.title(\"Three H0 hypotheses\")\n",
    "plt.plot([-1, 5], [h0A(-5), h0A(5)])\n",
    "plt.plot([-1, 5], [h0B(-5), h0B(4)])\n",
    "plt.plot([-1, 5], [h0C(-5), h0C(5)])\n",
    "plt.legend([\"H0A\", \"H0B\", \"H0C\"])\n",
    "plt.scatter([xA, xB, xC], [yA, yB, yC])\n",
    "plt.show()\n",
    "\n",
    "plt.title(\"e0 and e1 as function of rho\")\n",
    "rr = np.linspace(0, 5, 1000)\n",
    "e0 = 1/2\n",
    "e1 = 1/3 * (1 + 4/(1-rr)**2 + 4/(1+rr)**2)\n",
    "plt.plot(rr, e1)\n",
    "plt.plot([0, 5], [e0, e0])\n",
    "plt.ylim([0, 5])\n",
    "plt.show()\n",
    "\n"
   ]
  },
  {
   "cell_type": "markdown",
   "metadata": {},
   "source": [
    "Solve for exact $\\rho$ with SymPy"
   ]
  },
  {
   "cell_type": "code",
   "execution_count": 11,
   "metadata": {},
   "outputs": [
    {
     "data": {
      "text/plain": [
       "[-I*sqrt(-9 + 4*sqrt(6)),\n",
       " I*sqrt(-9 + 4*sqrt(6)),\n",
       " -sqrt(9 + 4*sqrt(6)),\n",
       " sqrt(9 + 4*sqrt(6))]"
      ]
     },
     "execution_count": 11,
     "metadata": {},
     "output_type": "execute_result"
    }
   ],
   "source": [
    "import sympy as sp\n",
    "expr = sp.sympify(\"1/3 * (1 + 4/(1-r)**2 + 4/(1+r)**2) - 1/2\")\n",
    "sp.solve(expr, \"r\")"
   ]
  },
  {
   "cell_type": "markdown",
   "metadata": {},
   "source": [
    "And we get $\\rho = \\sqrt{9 + 4\\sqrt{6}}$"
   ]
  },
  {
   "cell_type": "markdown",
   "metadata": {},
   "source": [
    "These are the solutions of the quartic equation $\\rho^4 - 18\\rho^2 - 15 = 0$. \n",
    "The only valid solution (real and positive) is the solution shown above."
   ]
  },
  {
   "cell_type": "code",
   "execution_count": 12,
   "metadata": {},
   "outputs": [
    {
     "data": {
      "text/plain": [
       "[-I*sqrt(-9 + 4*sqrt(6)),\n",
       " I*sqrt(-9 + 4*sqrt(6)),\n",
       " -sqrt(9 + 4*sqrt(6)),\n",
       " sqrt(9 + 4*sqrt(6))]"
      ]
     },
     "execution_count": 12,
     "metadata": {},
     "output_type": "execute_result"
    }
   ],
   "source": [
    "sp.solve(sp.sympify(\"r**4 - 18*r**2 - 15\"))"
   ]
  },
  {
   "cell_type": "markdown",
   "metadata": {},
   "source": [
    "Which is **Alternative 7C**"
   ]
  },
  {
   "cell_type": "markdown",
   "metadata": {},
   "source": [
    "# PLA vs. SVM"
   ]
  },
  {
   "cell_type": "markdown",
   "metadata": {},
   "source": [
    "## Intermission: Solving quadratic optimization problems with cvxopt"
   ]
  },
  {
   "cell_type": "code",
   "execution_count": 13,
   "metadata": {
    "scrolled": true
   },
   "outputs": [],
   "source": [
    "import cvxopt"
   ]
  },
  {
   "cell_type": "markdown",
   "metadata": {},
   "source": [
    "```\n",
    "!conda install -c anaconda cvxopt\n",
    "```"
   ]
  },
  {
   "cell_type": "code",
   "execution_count": 14,
   "metadata": {},
   "outputs": [],
   "source": [
    "import cvxopt"
   ]
  },
  {
   "cell_type": "code",
   "execution_count": 15,
   "metadata": {
    "scrolled": false
   },
   "outputs": [],
   "source": [
    "#help(cvxopt.solvers.qp)"
   ]
  },
  {
   "cell_type": "markdown",
   "metadata": {},
   "source": [
    "```\n",
    "Help on function qp in module cvxopt.coneprog:\n",
    "\n",
    "qp(P, q, G=None, h=None, A=None, b=None, solver=None, kktsolver=None, initvals=None, **kwargs)\n",
    "    Solves a quadratic program\n",
    "    \n",
    "        minimize    (1/2)*x'*P*x + q'*x\n",
    "        subject to  G*x <= h\n",
    "                    A*x = b.\n",
    "    \n",
    "    \n",
    "    Input arguments.\n",
    "    \n",
    "        P is a n x n dense or sparse 'd' matrix with the lower triangular\n",
    "        part of P stored in the lower triangle.  Must be positive\n",
    "        semidefinite.\n",
    "    \n",
    "        q is an n x 1 dense 'd' matrix.\n",
    "    \n",
    "        G is an m x n dense or sparse 'd' matrix.\n",
    "    \n",
    "        h is an m x 1 dense 'd' matrix.\n",
    "    \n",
    "        A is a p x n dense or sparse 'd' matrix.\n",
    "    \n",
    "        b is a p x 1 dense 'd' matrix or None.\n",
    "    \n",
    "        solver is None or 'mosek'.\n",
    "    \n",
    "        The default values for G, h, A and b are empty matrices with\n",
    "        zero rows.\n",
    "```"
   ]
  },
  {
   "cell_type": "markdown",
   "metadata": {},
   "source": [
    "**Example** (copied from https://optimization.mccormick.northwestern.edu/index.php/Quadratic_programming#Numerical_example)."
   ]
  },
  {
   "cell_type": "markdown",
   "metadata": {},
   "source": [
    "Minimize $ f(x) = 3x_1^2 + x_2^2 + 2x_1 x_2 + x_1 + 6x_2 + 2 $\n",
    "\n",
    "such that $2x_1 + 3x_2 \\ge 4$ and $x_1\\ge 0$ and $x_2 \\ge 0$."
   ]
  },
  {
   "cell_type": "markdown",
   "metadata": {},
   "source": [
    "---"
   ]
  },
  {
   "cell_type": "markdown",
   "metadata": {},
   "source": [
    "First rewrite to matrix form.\n",
    "\n",
    "Minimize $ f(\\mathbf x) = \\frac12 \\mathbf x^T P \\mathbf x + \\mathbf q^T \\mathbf x $\n",
    "\n",
    "Minimize $ f(\\mathbf x) = \\frac12 \\mathbf x^T\n",
    "\\begin{bmatrix}\n",
    "1.5 & 1 \\\\ 1 & 0.5\n",
    "\\end{bmatrix}\n",
    "\\mathbf x +\n",
    "\\begin{bmatrix}\n",
    "1 & 6 \\\\\n",
    "\\end{bmatrix}\n",
    "\\mathbf x $"
   ]
  },
  {
   "cell_type": "markdown",
   "metadata": {},
   "source": [
    "Subject to $G \\mathbf x \\le h $.\n",
    "\n",
    "Subject to $\\begin{bmatrix}\n",
    "-2 & -3 \\\\\n",
    "-1 & 0 \\\\\n",
    "0 & -1 \\\\\n",
    "\\end{bmatrix}\n",
    "\\mathbf x \\le \\begin{bmatrix}\n",
    "4 \\\\\n",
    "0 \\\\\n",
    "0 \\\\\n",
    "\\end{bmatrix}$."
   ]
  },
  {
   "cell_type": "code",
   "execution_count": 16,
   "metadata": {},
   "outputs": [],
   "source": [
    "%matplotlib inline\n",
    "from cvxopt.solvers import qp\n",
    "\n",
    "def f_original(x):\n",
    "    return 3*x[:,0]**2 + x[:,1]**2 + 2*x[:,0]*x[:,1] + x[:,0] + 6*x[:,1] + 2\n",
    "\n",
    "def f_matrix(x):\n",
    "    P = np.array([[1.5, 1],\n",
    "                  [1, 0.5]])\n",
    "    q = np.array([[1], [6]])\n",
    "    return 1/2 * x.T @ P @ x + q.T @ x\n",
    "\n",
    "def constraints_satisfied(x):\n",
    "    G = np.array([\n",
    "        [-2, 3],\n",
    "        [-1, 0],\n",
    "        [0, -1],\n",
    "    ])\n",
    "    h = np.array([[4], [0], [0]])\n",
    "    return G @ x <= h"
   ]
  },
  {
   "cell_type": "markdown",
   "metadata": {},
   "source": [
    "Plot the function and constraints to get an idea."
   ]
  },
  {
   "cell_type": "code",
   "execution_count": 17,
   "metadata": {},
   "outputs": [
    {
     "data": {
      "image/png": "[encoded data removed]",
      "text/plain": [
       "<Figure size 432x288 with 1 Axes>"
      ]
     },
     "metadata": {
      "needs_background": "light"
     },
     "output_type": "display_data"
    }
   ],
   "source": [
    "xx, yy = np.linspace(-2, 20, 90), np.linspace(-5, 5, 190)\n",
    "XX, YY = np.meshgrid(xx, yy)\n",
    "ZZ_matrix = np.zeros(XX.shape)\n",
    "ZZ_original = np.zeros(XX.shape)\n",
    "constraints = np.zeros(XX.shape)\n",
    "\n",
    "for iy in range(XX.shape[0]):\n",
    "    for ix in range(XX.shape[1]):\n",
    "        x = np.array([[XX[iy,ix]], [YY[iy,ix]]])\n",
    "        ZZ_matrix[iy,ix] = f_matrix(x)\n",
    "        ZZ_original[iy,ix] = f_matrix(x)\n",
    "        if np.all(constraints_satisfied(x)):\n",
    "            constraints[iy,ix] = 1\n",
    "\n",
    "plt.xlabel(\"x\")\n",
    "plt.ylabel(\"y\")\n",
    "plt.contourf(XX, YY, ZZ_matrix, 20)\n",
    "plt.contour(XX, YY, constraints)\n",
    "\n",
    "plt.show()"
   ]
  },
  {
   "cell_type": "markdown",
   "metadata": {},
   "source": [
    "Looks like the minimum within the constraints is around $(0,0)$."
   ]
  },
  {
   "cell_type": "markdown",
   "metadata": {},
   "source": [
    "Now back to cvxopt again.\n",
    "```\n",
    "qp(P, q, G=None, h=None, A=None, b=None, solver=None, kktsolver=None, initvals=None, **kwargs)\n",
    "    Solves a quadratic program\n",
    "\n",
    "        minimize    (1/2)*x'*P*x + q'*x\n",
    "        subject to  G*x <= h\n",
    "                    A*x = b.\n",
    "```"
   ]
  },
  {
   "cell_type": "code",
   "execution_count": 18,
   "metadata": {},
   "outputs": [
    {
     "ename": "ValueError",
     "evalue": "use of function valued P, G, A requires a user-provided kktsolver",
     "output_type": "error",
     "traceback": [
      "\u001b[1;31m---------------------------------------------------------------------------\u001b[0m",
      "\u001b[1;31mValueError\u001b[0m                                Traceback (most recent call last)",
      "\u001b[1;32m<ipython-input-18-dd361aac8ffb>\u001b[0m in \u001b[0;36m<module>\u001b[1;34m()\u001b[0m\n\u001b[0;32m     15\u001b[0m               [0.0]])\n\u001b[0;32m     16\u001b[0m \u001b[1;33m\u001b[0m\u001b[0m\n\u001b[1;32m---> 17\u001b[1;33m \u001b[0mqp\u001b[0m\u001b[1;33m(\u001b[0m\u001b[0mP\u001b[0m\u001b[1;33m,\u001b[0m \u001b[0mq\u001b[0m\u001b[1;33m,\u001b[0m \u001b[0mG\u001b[0m\u001b[1;33m,\u001b[0m \u001b[0mh\u001b[0m\u001b[1;33m)\u001b[0m\u001b[1;33m\u001b[0m\u001b[0m\n\u001b[0m",
      "\u001b[1;32mC:\\Program Files\\Anaconda3\\lib\\site-packages\\cvxopt\\coneprog.py\u001b[0m in \u001b[0;36mqp\u001b[1;34m(P, q, G, h, A, b, solver, kktsolver, initvals, **kwargs)\u001b[0m\n\u001b[0;32m   4485\u001b[0m             'residual as dual infeasibility certificate': dinfres}\n\u001b[0;32m   4486\u001b[0m \u001b[1;33m\u001b[0m\u001b[0m\n\u001b[1;32m-> 4487\u001b[1;33m     \u001b[1;32mreturn\u001b[0m \u001b[0mconeqp\u001b[0m\u001b[1;33m(\u001b[0m\u001b[0mP\u001b[0m\u001b[1;33m,\u001b[0m \u001b[0mq\u001b[0m\u001b[1;33m,\u001b[0m \u001b[0mG\u001b[0m\u001b[1;33m,\u001b[0m \u001b[0mh\u001b[0m\u001b[1;33m,\u001b[0m \u001b[1;32mNone\u001b[0m\u001b[1;33m,\u001b[0m \u001b[0mA\u001b[0m\u001b[1;33m,\u001b[0m  \u001b[0mb\u001b[0m\u001b[1;33m,\u001b[0m \u001b[0minitvals\u001b[0m\u001b[1;33m,\u001b[0m \u001b[0mkktsolver\u001b[0m \u001b[1;33m=\u001b[0m \u001b[0mkktsolver\u001b[0m\u001b[1;33m,\u001b[0m \u001b[0moptions\u001b[0m \u001b[1;33m=\u001b[0m \u001b[0moptions\u001b[0m\u001b[1;33m)\u001b[0m\u001b[1;33m\u001b[0m\u001b[0m\n\u001b[0m",
      "\u001b[1;32mC:\\Program Files\\Anaconda3\\lib\\site-packages\\cvxopt\\coneprog.py\u001b[0m in \u001b[0;36mconeqp\u001b[1;34m(P, q, G, h, dims, A, b, initvals, kktsolver, xnewcopy, xdot, xaxpy, xscal, ynewcopy, ydot, yaxpy, yscal, **kwargs)\u001b[0m\n\u001b[0;32m   1820\u001b[0m     if (not matrixP or (not matrixG and G is not None) or\n\u001b[0;32m   1821\u001b[0m         (not matrixA and A is not None)) and not customkkt:\n\u001b[1;32m-> 1822\u001b[1;33m         raise ValueError(\"use of function valued P, G, A requires a \"\\\n\u001b[0m\u001b[0;32m   1823\u001b[0m             \"user-provided kktsolver\")\n\u001b[0;32m   1824\u001b[0m     customx = (xnewcopy != None or xdot != None or xaxpy != None or\n",
      "\u001b[1;31mValueError\u001b[0m: use of function valued P, G, A requires a user-provided kktsolver"
     ]
    }
   ],
   "source": [
    "P = np.array([[1.5, 1],\n",
    "              [1.0, 0.5]])\n",
    "\n",
    "q = np.array([[1.0], \n",
    "              [6.0]])\n",
    "\n",
    "G = np.array([\n",
    "    [-2.0, 3.0],\n",
    "    [-1.0, 0.0],\n",
    "    [0.0, -1.0],\n",
    "])\n",
    "    \n",
    "h = np.array([[4.0], \n",
    "              [0.0], \n",
    "              [0.0]])\n",
    "\n",
    "qp(P, q, G, h)"
   ]
  },
  {
   "cell_type": "markdown",
   "metadata": {},
   "source": [
    " > ValueError: use of function valued P, G, A requires a user-provided kktsolver"
   ]
  },
  {
   "cell_type": "markdown",
   "metadata": {},
   "source": [
    "After some googling, looks like cvxopt does not support NumPy matrices. \n",
    "We will have to do the conversion ourselves.\n",
    "\n",
    "> TypeError: 'q' must be a 'd' matrix with one column\n",
    "\n",
    "Also the inputs must be doubles, not integers."
   ]
  },
  {
   "cell_type": "code",
   "execution_count": null,
   "metadata": {},
   "outputs": [],
   "source": [
    "P_cvx = cvxopt.matrix(P)\n",
    "q_cvx = cvxopt.matrix(q)\n",
    "G_cvx = cvxopt.matrix(G)\n",
    "h_cvx = cvxopt.matrix(h)\n",
    "qp_sol = qp(P_cvx, q_cvx, G_cvx, h_cvx)\n",
    "print(qp_sol)\n",
    "print(qp_sol[\"x\"])\n",
    "print(qp_sol[\"y\"])"
   ]
  },
  {
   "cell_type": "markdown",
   "metadata": {},
   "source": [
    "It works! Now to convert back to NumPy matrix format."
   ]
  },
  {
   "cell_type": "code",
   "execution_count": null,
   "metadata": {},
   "outputs": [],
   "source": [
    "np.array(qp_sol[\"x\"])"
   ]
  },
  {
   "cell_type": "markdown",
   "metadata": {},
   "source": [
    "Nice."
   ]
  },
  {
   "cell_type": "markdown",
   "metadata": {},
   "source": [
    "# 8"
   ]
  },
  {
   "cell_type": "markdown",
   "metadata": {},
   "source": [
    "Choose a random linearly separable dataset on [-1, 1], [-1, 1] with N points."
   ]
  },
  {
   "cell_type": "code",
   "execution_count": 201,
   "metadata": {},
   "outputs": [],
   "source": [
    "def random_target_function():\n",
    "    x0, y0 = 2*np.random.rand()-1, 2*np.random.rand()-1\n",
    "    x1, y1 = 2*np.random.rand()-1, 2*np.random.rand()-1\n",
    "    return lambda X: np.sign(X[:,2] - (y1 - y0)/(x1 - x0)*(X[:,1] - x0) - y0)\n",
    "\n",
    "def plot_points(X, y):\n",
    "    below = np.where(y < 0)\n",
    "    above = np.where(y > 0)\n",
    "    plt.scatter(X[below,1], X[below,2])\n",
    "    plt.scatter(X[above,1], X[above,2])\n",
    "    plt.legend([\"-1\", \"+1\"])"
   ]
  },
  {
   "cell_type": "code",
   "execution_count": 203,
   "metadata": {},
   "outputs": [
    {
     "name": "stdout",
     "output_type": "stream",
     "text": [
      "     pcost       dcost       gap    pres   dres\n",
      " 0:  8.7584e-01  2.0994e+01  9e+01  2e+00  2e+01\n",
      " 1:  6.8771e+00  1.5485e+01  4e+01  1e+00  9e+00\n",
      " 2:  1.1151e+01  4.6861e+01  4e+01  9e-01  9e+00\n",
      " 3:  2.9516e+01  1.3174e+02  6e+01  8e-01  7e+00\n",
      " 4:  1.0620e+02  1.6938e+02  8e+01  4e-01  4e+00\n",
      " 5:  1.9789e+02  2.0315e+02  1e+01  5e-02  5e-01\n",
      " 6:  2.0803e+02  2.0809e+02  2e-01  5e-04  5e-03\n",
      " 7:  2.0814e+02  2.0815e+02  2e-03  5e-06  5e-05\n",
      " 8:  2.0815e+02  2.0815e+02  2e-05  5e-08  5e-07\n",
      " 9:  2.0815e+02  2.0815e+02  2e-07  5e-10  5e-09\n",
      "Optimal solution found.\n",
      "{'gap': 1.684878776014615e-07, 'dual infeasibility': 5.223425910612271e-09, 'iterations': 9, 'relative gap': 8.094706590330441e-10, 'x': <3x1 matrix, tc='d'>, 'y': <0x1 matrix, tc='d'>, 'primal objective': 208.1457501584257, 's': <30x1 matrix, tc='d'>, 'z': <30x1 matrix, tc='d'>, 'dual slack': 1.340694868682321e-12, 'dual objective': 208.1457502149976, 'primal infeasibility': 5.406300495948643e-10, 'status': 'optimal', 'primal slack': 3.597490051965637e-11}\n",
      "[[  2.75785834]\n",
      " [-10.40985019]\n",
      " [ 17.54783518]]\n"
     ]
    }
   ],
   "source": [
    "f = random_target_function()\n",
    "N = 30\n",
    "X = 2*np.random.rand(N, 3) - 1\n",
    "X[:,0] = 1\n",
    "y = f(X)\n",
    "\n",
    "P = np.eye(3)\n",
    "P[0,0] = 0\n",
    "\n",
    "G = -y[:,np.newaxis] * X\n",
    "\n",
    "h = -np.ones((N, 1))\n",
    "\n",
    "q = np.zeros((3, 1))\n",
    "\n",
    "# Solve quadratic programming with cvxopt\n",
    "P_cvx = cvxopt.matrix(P)\n",
    "q_cvx = cvxopt.matrix(q)\n",
    "G_cvx = cvxopt.matrix(G)\n",
    "h_cvx = cvxopt.matrix(h)\n",
    "qp_sol = qp(P_cvx, q_cvx, G_cvx, h_cvx)\n",
    "print(qp_sol)\n",
    "w = np.array(qp_sol[\"x\"])\n",
    "print(w)\n",
    "\n",
    "def g(X):\n",
    "    return np.sign(w.dot(X))\n",
    "\n"
   ]
  },
  {
   "cell_type": "code",
   "execution_count": 207,
   "metadata": {},
   "outputs": [
    {
     "name": "stdout",
     "output_type": "stream",
     "text": [
      "w [[  2.75785834]\n",
      " [-10.40985019]\n",
      " [ 17.54783518]]\n",
      "distance to closest: [0.04901186]\n"
     ]
    },
    {
     "data": {
      "image/png": "[encoded data removed]",
      "text/plain": [
       "<Figure size 432x288 with 1 Axes>"
      ]
     },
     "metadata": {
      "needs_background": "light"
     },
     "output_type": "display_data"
    }
   ],
   "source": [
    "print(\"w\", w)\n",
    "print(\"distance to closest:\", 1/np.sqrt(w[1]*w[1] + w[2]*w[2]))\n",
    "\n",
    "Nplot = 50\n",
    "xx = np.linspace(-1, 1, Nplot)\n",
    "yy = xx\n",
    "XX, YY = np.meshgrid(xx, yy)\n",
    "Xplot = np.zeros((Nplot**2, 3))\n",
    "Xplot[:,0] = 1\n",
    "Xplot[:,1] = XX.reshape(-1)\n",
    "Xplot[:,2] = YY.reshape(-1)\n",
    "yplot = Xplot @ w\n",
    "ZZ = yplot.reshape(XX.shape)\n",
    "plt.contourf(XX, YY, ZZ, [-1, 0, 1])\n",
    "plot_points(X, y)\n",
    "plt.show()"
   ]
  },
  {
   "cell_type": "markdown",
   "metadata": {},
   "source": [
    "We have an algorithm for SVM using quadratic programming.\n",
    "Now we need to separate the same dataset with PLA. This time using sklearn instead of implementing from scratch as in previous exercises."
   ]
  },
  {
   "cell_type": "code",
   "execution_count": 214,
   "metadata": {
    "scrolled": true
   },
   "outputs": [
    {
     "data": {
      "image/png": "[encoded data removed]",
      "text/plain": [
       "<Figure size 432x288 with 1 Axes>"
      ]
     },
     "metadata": {
      "needs_background": "light"
     },
     "output_type": "display_data"
    }
   ],
   "source": [
    "from sklearn.linear_model import Perceptron\n",
    "pla = Perceptron(fit_intercept=False, max_iter=99999)\n",
    "pla.fit(X, y)\n",
    "\n",
    "Nplot = 50\n",
    "xx = np.linspace(-1, 1, Nplot)\n",
    "yy = xx\n",
    "XX, YY = np.meshgrid(xx, yy)\n",
    "Xplot = np.zeros((Nplot**2, 3))\n",
    "Xplot[:,0] = 1\n",
    "Xplot[:,1] = XX.reshape(-1)\n",
    "Xplot[:,2] = YY.reshape(-1)\n",
    "yplot = pla.predict(Xplot)\n",
    "ZZ = yplot.reshape(XX.shape)\n",
    "plt.contourf(XX, YY, ZZ, [-1, 0, 1])\n",
    "plot_points(X, y)\n",
    "plt.show()"
   ]
  },
  {
   "cell_type": "code",
   "execution_count": 262,
   "metadata": {},
   "outputs": [],
   "source": [
    "class SVM:\n",
    "    def fit(self, X, y):\n",
    "        P = np.eye(3)\n",
    "        P[0,0] = 0\n",
    "        G = -y[:,np.newaxis] * X\n",
    "        h = -np.ones((N, 1))\n",
    "        q = np.zeros((3, 1))\n",
    "\n",
    "        P_cvx = cvxopt.matrix(P)\n",
    "        q_cvx = cvxopt.matrix(q)\n",
    "        G_cvx = cvxopt.matrix(G)\n",
    "        h_cvx = cvxopt.matrix(h)\n",
    "        cvxopt.solvers.options['show_progress'] = False\n",
    "        qp_sol = qp(P_cvx, q_cvx, G_cvx, h_cvx)\n",
    "        cvxopt.solvers.options['show_progress'] = True\n",
    "        w = np.array(qp_sol[\"x\"])\n",
    "        self.w = w\n",
    "    \n",
    "    def predict(self, X):\n",
    "        return np.sign(X @ self.w).flatten()"
   ]
  },
  {
   "cell_type": "markdown",
   "metadata": {},
   "source": [
    "All algorithms and tools ready, now to finally do the exercise.\n",
    "\n",
    "For N=10, repeat the following experiment 1000 times: Create a random dataset, fit it with SVM and PLA. Estimate the out of sample error for g_PLA and g_SVM. What percentage of time is g_SVM a better estimator than g_PLA?"
   ]
  },
  {
   "cell_type": "code",
   "execution_count": 271,
   "metadata": {},
   "outputs": [
    {
     "name": "stdout",
     "output_type": "stream",
     "text": [
      "SVM percent wins:  1.0\n",
      "SVM percent wins:  0.5494505494505495\n",
      "SVM percent wins:  0.5524861878453039\n",
      "SVM percent wins:  0.5955882352941176\n",
      "SVM percent wins:  0.590027700831025\n",
      "SVM percent wins:  0.6017699115044248\n",
      "SVM percent wins:  0.5981481481481481\n",
      "SVM percent wins:  0.5904628330995793\n",
      "SVM percent wins:  0.59375\n"
     ]
    },
    {
     "data": {
      "image/png": "[encoded data removed]",
      "text/plain": [
       "<Figure size 432x288 with 1 Axes>"
      ]
     },
     "metadata": {
      "needs_background": "light"
     },
     "output_type": "display_data"
    }
   ],
   "source": [
    "N = 10\n",
    "\n",
    "pla = Perceptron(fit_intercept=False, max_iter=900)\n",
    "svm = SVM()\n",
    "\n",
    "pla_wins = 0\n",
    "svm_wins = 0\n",
    "total = 0\n",
    "\n",
    "for i in range(1000):\n",
    "    # Create training dataset\n",
    "    f = random_target_function()\n",
    "    X = 2*np.random.rand(N, 3) - 1\n",
    "    X[:,0] = 1\n",
    "    y = f(X)\n",
    "    if np.all(y == y[0]):\n",
    "        continue\n",
    "    \n",
    "    # Create testing dataset\n",
    "    X_test = 2*np.random.rand(1000, 3) - 1\n",
    "    X_test[:,0] = 1\n",
    "    y_test = f(X_test)\n",
    "\n",
    "    \n",
    "    # Solve with PLA\n",
    "    pla.fit(X, y)\n",
    "    e_pla = np.sum(pla.predict(X_test) != y_test)\n",
    "    \n",
    "    # Solve with SVM\n",
    "    svm.fit(X, y)\n",
    "    e_svm = np.sum(svm.predict(X_test) != y_test)\n",
    "    \n",
    "    if e_svm > e_pla:\n",
    "        pla_wins += 1\n",
    "        total += 1\n",
    "    if e_pla > e_svm:\n",
    "        svm_wins += 1\n",
    "        total += 1\n",
    "        \n",
    "    if i % 100 == 0 and total > 0:\n",
    "        print (\"SVM percent wins: \", svm_wins/total)\n",
    "\n",
    "    \n",
    "Nplot = 50\n",
    "xx = np.linspace(-1, 1, Nplot)\n",
    "yy = xx\n",
    "XX, YY = np.meshgrid(xx, yy)\n",
    "Xplot = np.zeros((Nplot**2, 3))\n",
    "Xplot[:,0] = 1\n",
    "Xplot[:,1] = XX.reshape(-1)\n",
    "Xplot[:,2] = YY.reshape(-1)\n",
    "yplot = Xplot @ svm.w\n",
    "ZZ = yplot.reshape(XX.shape)\n",
    "plt.contourf(XX, YY, ZZ, [-1, 0, 1])\n",
    "plot_points(X, y)\n",
    "plt.show()"
   ]
  },
  {
   "cell_type": "markdown",
   "metadata": {},
   "source": [
    "SVM wins 60% of the time. **Alternative 8C: 60%**"
   ]
  },
  {
   "cell_type": "code",
   "execution_count": 275,
   "metadata": {},
   "outputs": [
    {
     "name": "stdout",
     "output_type": "stream",
     "text": [
      "SVM percent wins:  1.0\n",
      "mean vecs: 3.0\n",
      "SVM percent wins:  0.6021505376344086\n",
      "mean vecs: 3.0\n",
      "SVM percent wins:  0.5967741935483871\n",
      "mean vecs: 2.9950248756218905\n",
      "SVM percent wins:  0.6327272727272727\n",
      "mean vecs: 2.9966777408637872\n",
      "SVM percent wins:  0.6521739130434783\n",
      "mean vecs: 2.997506234413965\n",
      "SVM percent wins:  0.6507592190889371\n",
      "mean vecs: 2.9980039920159682\n",
      "SVM percent wins:  0.6401446654611211\n",
      "mean vecs: 3.0\n",
      "SVM percent wins:  0.6506955177743431\n",
      "mean vecs: 2.9985734664764623\n",
      "SVM percent wins:  0.6518218623481782\n",
      "mean vecs: 3.0\n",
      "SVM percent wins:  0.645083932853717\n",
      "mean vecs: 3.0011098779134295\n"
     ]
    },
    {
     "data": {
      "image/png": "[encoded data removed]",
      "text/plain": [
       "<Figure size 432x288 with 1 Axes>"
      ]
     },
     "metadata": {
      "needs_background": "light"
     },
     "output_type": "display_data"
    }
   ],
   "source": [
    "N = 100\n",
    "\n",
    "pla = Perceptron(fit_intercept=False, max_iter=900)\n",
    "svm = SVM()\n",
    "\n",
    "pla_wins = 0\n",
    "svm_wins = 0\n",
    "total = 0\n",
    "\n",
    "num_support_vectors = []\n",
    "\n",
    "for i in range(1000):\n",
    "    # Create training dataset\n",
    "    f = random_target_function()\n",
    "    X = 2*np.random.rand(N, 3) - 1\n",
    "    X[:,0] = 1\n",
    "    y = f(X)\n",
    "    if np.all(y == y[0]):\n",
    "        continue\n",
    "    \n",
    "    # Create testing dataset\n",
    "    X_test = 2*np.random.rand(1000, 3) - 1\n",
    "    X_test[:,0] = 1\n",
    "    y_test = f(X_test)\n",
    "\n",
    "    \n",
    "    # Solve with PLA\n",
    "    pla.fit(X, y)\n",
    "    e_pla = np.sum(pla.predict(X_test) != y_test)\n",
    "    \n",
    "    # Solve with SVM\n",
    "    svm.fit(X, y)\n",
    "    nvecs = np.sum(np.abs(X @ svm.w).flatten() <= 1.001)\n",
    "    num_support_vectors.append(nvecs)\n",
    "    e_svm = np.sum(svm.predict(X_test) != y_test)\n",
    "    \n",
    "    if e_svm > e_pla:\n",
    "        pla_wins += 1\n",
    "        total += 1\n",
    "    if e_pla > e_svm:\n",
    "        svm_wins += 1\n",
    "        total += 1\n",
    "        \n",
    "    if i % 100 == 0 and total > 0:\n",
    "        print (\"SVM percent wins: \", svm_wins/total)\n",
    "        print(\"mean vecs:\", np.mean(num_support_vectors))\n",
    "\n",
    "    \n",
    "Nplot = 50\n",
    "xx = np.linspace(-1, 1, Nplot)\n",
    "yy = xx\n",
    "XX, YY = np.meshgrid(xx, yy)\n",
    "Xplot = np.zeros((Nplot**2, 3))\n",
    "Xplot[:,0] = 1\n",
    "Xplot[:,1] = XX.reshape(-1)\n",
    "Xplot[:,2] = YY.reshape(-1)\n",
    "yplot = Xplot @ svm.w\n",
    "ZZ = yplot.reshape(XX.shape)\n",
    "plt.contourf(XX, YY, ZZ, [-1, 0, 1])\n",
    "plot_points(X, y)\n",
    "plt.show()"
   ]
  },
  {
   "cell_type": "markdown",
   "metadata": {},
   "source": [
    "# 9\n",
    "\n",
    "For N=100 SVM is better in around 65-70% of the cases. **Alternative 9D**"
   ]
  },
  {
   "cell_type": "markdown",
   "metadata": {},
   "source": [
    "# 10\n",
    "\n",
    "Intuitively, the number of support vectors should always be 3 for real random numbers in 2D, given infinite numerical precision.\n",
    "\n",
    "In practice we also get 3 support vectors for almost every iteration.\n",
    "\n",
    "**Alternative 10B: 3**"
   ]
  }
 ],
 "metadata": {
  "kernelspec": {
   "display_name": "Python [default]",
   "language": "python",
   "name": "python3"
  },
  "language_info": {
   "codemirror_mode": {
    "name": "ipython",
    "version": 3
   },
   "file_extension": ".py",
   "mimetype": "text/x-python",
   "name": "python",
   "nbconvert_exporter": "python",
   "pygments_lexer": "ipython3",
   "version": "3.5.6"
  }
 },
 "nbformat": 4,
 "nbformat_minor": 2
}
