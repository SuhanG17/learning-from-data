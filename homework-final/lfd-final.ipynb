{
 "cells": [
  {
   "cell_type": "markdown",
   "metadata": {},
   "source": [
    "# Learning From Data Final"
   ]
  },
  {
   "cell_type": "markdown",
   "metadata": {},
   "source": [
    "https://work.caltech.edu/homework/final.pdf"
   ]
  },
  {
   "cell_type": "markdown",
   "metadata": {},
   "source": [
    "Python imports"
   ]
  },
  {
   "cell_type": "code",
   "execution_count": 30,
   "metadata": {},
   "outputs": [],
   "source": [
    "import numpy as np\n",
    "import matplotlib.pyplot as plt"
   ]
  },
  {
   "cell_type": "markdown",
   "metadata": {},
   "source": [
    "# Nonlinear transforms"
   ]
  },
  {
   "cell_type": "markdown",
   "metadata": {},
   "source": [
    "# 1"
   ]
  },
  {
   "cell_type": "markdown",
   "metadata": {},
   "source": [
    "$\\mathcal X \\in \\mathbb R^2$"
   ]
  },
  {
   "cell_type": "markdown",
   "metadata": {},
   "source": [
    "$z$ is a linear combination of $(1, x_1, x_2, x_1x_2, x_1^2, x_2^2, \\cdots, x_1^Q, x_2^Q)$."
   ]
  },
  {
   "cell_type": "code",
   "execution_count": 9,
   "metadata": {},
   "outputs": [
    {
     "data": {
      "text/plain": [
       "65"
      ]
     },
     "execution_count": 9,
     "metadata": {},
     "output_type": "execute_result"
    }
   ],
   "source": [
    "from scipy.special import binom\n",
    "# We have 1, x_1, x_2.\n",
    "# How many ways are there to choose Q items?\n",
    "\n",
    "Q = 10\n",
    "total = 0\n",
    "for a in range(0, Q+1):\n",
    "    for b in range(0, Q+1):\n",
    "        for c in range(0, Q+1):\n",
    "            if b == 0 and c == 0:\n",
    "                continue\n",
    "            if a+b+c == Q:\n",
    "                total += 1\n",
    "                \n",
    "total"
   ]
  },
  {
   "cell_type": "code",
   "execution_count": 11,
   "metadata": {},
   "outputs": [
    {
     "data": {
      "text/plain": [
       "65"
      ]
     },
     "execution_count": 11,
     "metadata": {},
     "output_type": "execute_result"
    }
   ],
   "source": [
    "total = 0\n",
    "for a in range(0, Q+1):\n",
    "    for b in range(0, Q+1):\n",
    "        if a + b <= 10 and a + b > 0:\n",
    "            total += 1\n",
    "            \n",
    "total"
   ]
  },
  {
   "cell_type": "code",
   "execution_count": 26,
   "metadata": {},
   "outputs": [
    {
     "data": {
      "text/plain": [
       "65"
      ]
     },
     "execution_count": 26,
     "metadata": {},
     "output_type": "execute_result"
    }
   ],
   "source": [
    "import sympy as sp\n",
    "sp.expand(sp.sympify(\"1 + x + y\")**10).__str__().count(\"+\")"
   ]
  },
  {
   "cell_type": "markdown",
   "metadata": {},
   "source": [
    "According to \"stars and bars\", this can be interpeted as the number of permutations of the string `**********||`. I.e. number of different ways to divide 10 numbers in 3 categories.\n",
    "\n",
    "We subtract 1 to account for the case where all the stars were put in the box corresponding to \"1\".\n"
   ]
  },
  {
   "cell_type": "code",
   "execution_count": 29,
   "metadata": {},
   "outputs": [
    {
     "data": {
      "text/plain": [
       "65.0"
      ]
     },
     "execution_count": 29,
     "metadata": {},
     "output_type": "execute_result"
    }
   ],
   "source": [
    "Q = 10\n",
    "d = 2\n",
    "binom(Q + d, Q) - 1"
   ]
  },
  {
   "cell_type": "markdown",
   "metadata": {},
   "source": [
    "**Answer: Alternative 1E, none of the above -- 65**"
   ]
  },
  {
   "cell_type": "markdown",
   "metadata": {},
   "source": [
    "# Bias and Variance"
   ]
  },
  {
   "cell_type": "markdown",
   "metadata": {},
   "source": [
    "# 2"
   ]
  },
  {
   "cell_type": "markdown",
   "metadata": {},
   "source": [
    "$\\bar g$ is expected value of $g^{(\\mathcal D)}$ over all data sets $\\mathcal D$. \n",
    "\n",
    "When can $\\bar g \\notin \\mathcal H$?"
   ]
  },
  {
   "cell_type": "markdown",
   "metadata": {},
   "source": [
    "a: All g's would be the same, and all of them in H.  \n",
    "b: g would still be in H.  \n",
    "c: g would still be in H.  \n",
    "d: g would still be in H.  \n",
    "e: Must be correct. It is nonsense that the expected value of something in H can be outside H.  "
   ]
  },
  {
   "cell_type": "markdown",
   "metadata": {},
   "source": [
    "<p style=\"color:red;\"><b>Answer: Alternative 2E, none of the above.</b></p>"
   ]
  },
  {
   "cell_type": "markdown",
   "metadata": {},
   "source": [
    "---"
   ]
  },
  {
   "cell_type": "markdown",
   "metadata": {},
   "source": [
    "Wrong. See explanation here: http://book.caltech.edu/bookforum/showthread.php?t=4624"
   ]
  },
  {
   "cell_type": "markdown",
   "metadata": {},
   "source": [
    "The expected hypothesis is computed by taking an average of hypotheses. That is, e.g. (h1+h2)/2.\n",
    "\n",
    "Let A be a bad nondeterministic algorithm that always returns either h1 or h2 with equal probability.\n",
    "\n",
    "A logistic model is of the form $h(x) = \\theta(w^T x)$ where $\\theta(s) = \\frac{e^s}{1+e^s} = \\frac{1}{1 + e^{-s}}$\n",
    "\n",
    "Can we think of a case where the sum of two logistic hypotheses $h_1$ and $h_2$ cannot be written as $\\theta(s)$?"
   ]
  },
  {
   "cell_type": "markdown",
   "metadata": {},
   "source": [
    "Indeed, imagine if h1 always has weights (0, 1) and h2 always has weights (0, -2).\n",
    "The expected model does not have weights (0, -0.5). It is not even a logistic model. See  the following plot"
   ]
  },
  {
   "cell_type": "code",
   "execution_count": 48,
   "metadata": {},
   "outputs": [
    {
     "data": {
      "image/png": "[encoded data removed]",
      "text/plain": [
       "<Figure size 432x288 with 1 Axes>"
      ]
     },
     "metadata": {
      "needs_background": "light"
     },
     "output_type": "display_data"
    }
   ],
   "source": [
    "\n",
    "def theta(s):\n",
    "    return 1 / (1 + np.exp(-s))\n",
    "\n",
    "def h1(x0, x1):\n",
    "    w0 = 0\n",
    "    w1 = 1\n",
    "    return theta(w0 * x0 + w1 * x1)\n",
    "\n",
    "def h2(x0, x1):\n",
    "    w0 = 0\n",
    "    w1 = -2\n",
    "    return theta(w0 * x0 + w1 * x1)\n",
    "\n",
    "xx = np.linspace(-10, 10)\n",
    "plt.plot(xx, h1(1, xx))\n",
    "plt.plot(xx, h2(1, xx))\n",
    "plt.plot(xx, 1/2 * (h1(1, xx) + h2(1, xx)))\n",
    "plt.legend([\"h1\", \"h2\", \"E[h]\"])\n",
    "plt.show()"
   ]
  },
  {
   "cell_type": "markdown",
   "metadata": {},
   "source": [
    "$h_3(x)$ is clearly not a logistic function."
   ]
  },
  {
   "cell_type": "markdown",
   "metadata": {},
   "source": [
    "# Overfitting"
   ]
  },
  {
   "cell_type": "markdown",
   "metadata": {},
   "source": [
    "# 3"
   ]
  },
  {
   "cell_type": "markdown",
   "metadata": {},
   "source": [
    "Overfitting means fitting the data more than warranted. I.e. choosing a too complex model for the amount of data. Fitting to the noise."
   ]
  },
  {
   "cell_type": "markdown",
   "metadata": {},
   "source": [
    "a: If there is overfitting, there must be two or more hypotheses that have different values of E_in. -- True. We have chosen a too complex model that fits the input data too well, and in order to do that we had to compare multiple models."
   ]
  },
  {
   "cell_type": "markdown",
   "metadata": {},
   "source": [
    "b: If there is overfitting, there must be two or more hypotheses that have different values of E_out. -- True. If all hypotheses were equally good, we cannot really call this overfitting."
   ]
  },
  {
   "cell_type": "markdown",
   "metadata": {},
   "source": [
    "c: If there is overfitting, there must be two or more hypotheses that have different values of (E_out - E_in). -- ???"
   ]
  },
  {
   "cell_type": "markdown",
   "metadata": {},
   "source": [
    "d: We can always determine if there is overfitting by comparing the values of E_out - E_in. -- ???"
   ]
  },
  {
   "cell_type": "markdown",
   "metadata": {},
   "source": [
    "e: We cannot determine overfitting based on one hypothesis only. -- True."
   ]
  },
  {
   "cell_type": "markdown",
   "metadata": {},
   "source": [
    "# 4"
   ]
  },
  {
   "cell_type": "markdown",
   "metadata": {},
   "source": [
    "Deterministic noise is the error due to complexity in the target function that our model cannot approximate.\n",
    "\n",
    "Thus deterministic noise depends on our hypothesis set.\n",
    "\n",
    "**Answer: Alternative 4D: Stochastic noise does not depend on the hypothesis set.**"
   ]
  },
  {
   "cell_type": "markdown",
   "metadata": {},
   "source": [
    "# 5"
   ]
  },
  {
   "cell_type": "markdown",
   "metadata": {},
   "source": [
    "The least squares linear regression solution satisfies the constraint. Thus the regularization has no effect, and w_reg = w_lin."
   ]
  },
  {
   "cell_type": "markdown",
   "metadata": {},
   "source": [
    "**Answer: Alternative A**"
   ]
  },
  {
   "cell_type": "markdown",
   "metadata": {},
   "source": [
    "# 6"
   ]
  },
  {
   "cell_type": "markdown",
   "metadata": {},
   "source": [
    "**Answer: Alternative B -- soft-order constraints can be translated into augmented error**"
   ]
  }
 ],
 "metadata": {
  "kernelspec": {
   "display_name": "Python 3",
   "language": "python",
   "name": "python3"
  },
  "language_info": {
   "codemirror_mode": {
    "name": "ipython",
    "version": 3
   },
   "file_extension": ".py",
   "mimetype": "text/x-python",
   "name": "python",
   "nbconvert_exporter": "python",
   "pygments_lexer": "ipython3",
   "version": "3.6.8"
  }
 },
 "nbformat": 4,
 "nbformat_minor": 2
}
