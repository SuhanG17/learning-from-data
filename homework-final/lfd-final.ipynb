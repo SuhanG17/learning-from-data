{
 "cells": [
  {
   "cell_type": "markdown",
   "metadata": {},
   "source": [
    "# Learning From Data Final"
   ]
  },
  {
   "cell_type": "markdown",
   "metadata": {},
   "source": [
    "https://work.caltech.edu/homework/final.pdf"
   ]
  },
  {
   "cell_type": "markdown",
   "metadata": {},
   "source": [
    "Python imports"
   ]
  },
  {
   "cell_type": "code",
   "execution_count": 1,
   "metadata": {},
   "outputs": [],
   "source": [
    "import numpy as np\n",
    "import matplotlib.pyplot as plt"
   ]
  },
  {
   "cell_type": "markdown",
   "metadata": {},
   "source": [
    "# Nonlinear transforms"
   ]
  },
  {
   "cell_type": "markdown",
   "metadata": {},
   "source": [
    "# 1"
   ]
  },
  {
   "cell_type": "markdown",
   "metadata": {},
   "source": [
    "$\\mathcal X \\in \\mathbb R^2$"
   ]
  },
  {
   "cell_type": "markdown",
   "metadata": {},
   "source": [
    "$z$ is a linear combination of $(1, x_1, x_2, x_1x_2, x_1^2, x_2^2, \\cdots, x_1^Q, x_2^Q)$."
   ]
  },
  {
   "cell_type": "code",
   "execution_count": 2,
   "metadata": {},
   "outputs": [
    {
     "data": {
      "text/plain": [
       "65"
      ]
     },
     "execution_count": 2,
     "metadata": {},
     "output_type": "execute_result"
    }
   ],
   "source": [
    "from scipy.special import binom\n",
    "# We have 1, x_1, x_2.\n",
    "# How many ways are there to choose Q items?\n",
    "\n",
    "Q = 10\n",
    "total = 0\n",
    "for a in range(0, Q+1):\n",
    "    for b in range(0, Q+1):\n",
    "        for c in range(0, Q+1):\n",
    "            if b == 0 and c == 0:\n",
    "                continue\n",
    "            if a+b+c == Q:\n",
    "                total += 1\n",
    "                \n",
    "total"
   ]
  },
  {
   "cell_type": "code",
   "execution_count": 3,
   "metadata": {},
   "outputs": [
    {
     "data": {
      "text/plain": [
       "65"
      ]
     },
     "execution_count": 3,
     "metadata": {},
     "output_type": "execute_result"
    }
   ],
   "source": [
    "total = 0\n",
    "for a in range(0, Q+1):\n",
    "    for b in range(0, Q+1):\n",
    "        if a + b <= 10 and a + b > 0:\n",
    "            total += 1\n",
    "            \n",
    "total"
   ]
  },
  {
   "cell_type": "code",
   "execution_count": 4,
   "metadata": {},
   "outputs": [
    {
     "data": {
      "text/plain": [
       "65"
      ]
     },
     "execution_count": 4,
     "metadata": {},
     "output_type": "execute_result"
    }
   ],
   "source": [
    "import sympy as sp\n",
    "sp.expand(sp.sympify(\"1 + x + y\")**10).__str__().count(\"+\")"
   ]
  },
  {
   "cell_type": "markdown",
   "metadata": {},
   "source": [
    "According to \"stars and bars\", this can be interpeted as the number of permutations of the string `**********||`. I.e. number of different ways to divide 10 numbers in 3 categories.\n",
    "\n",
    "We subtract 1 to account for the case where all the stars were put in the box corresponding to \"1\".\n"
   ]
  },
  {
   "cell_type": "code",
   "execution_count": 5,
   "metadata": {},
   "outputs": [
    {
     "data": {
      "text/plain": [
       "65.0"
      ]
     },
     "execution_count": 5,
     "metadata": {},
     "output_type": "execute_result"
    }
   ],
   "source": [
    "Q = 10\n",
    "d = 2\n",
    "binom(Q + d, Q) - 1"
   ]
  },
  {
   "cell_type": "markdown",
   "metadata": {},
   "source": [
    "**Answer: Alternative 1E, none of the above -- 65**"
   ]
  },
  {
   "cell_type": "markdown",
   "metadata": {},
   "source": [
    "# Bias and Variance"
   ]
  },
  {
   "cell_type": "markdown",
   "metadata": {},
   "source": [
    "# 2"
   ]
  },
  {
   "cell_type": "markdown",
   "metadata": {},
   "source": [
    "$\\bar g$ is expected value of $g^{(\\mathcal D)}$ over all data sets $\\mathcal D$. \n",
    "\n",
    "When can $\\bar g \\notin \\mathcal H$?"
   ]
  },
  {
   "cell_type": "markdown",
   "metadata": {},
   "source": [
    "a: All g's would be the same, and all of them in H.  \n",
    "b: g would still be in H.  \n",
    "c: g would still be in H.  \n",
    "d: g would still be in H.  \n",
    "e: Must be correct. It is nonsense that the expected value of something in H can be outside H.  "
   ]
  },
  {
   "cell_type": "markdown",
   "metadata": {},
   "source": [
    "<p style=\"color:red;\"><b>Answer: Alternative 2E, none of the above.</b></p>"
   ]
  },
  {
   "cell_type": "markdown",
   "metadata": {},
   "source": [
    "---"
   ]
  },
  {
   "cell_type": "markdown",
   "metadata": {},
   "source": [
    "Wrong. See explanation here: http://book.caltech.edu/bookforum/showthread.php?t=4624"
   ]
  },
  {
   "cell_type": "markdown",
   "metadata": {},
   "source": [
    "The expected hypothesis is computed by taking an average of hypotheses. That is, e.g. (h1+h2)/2.\n",
    "\n",
    "Let A be a bad nondeterministic algorithm that always returns either h1 or h2 with equal probability.\n",
    "\n",
    "A logistic model is of the form $h(x) = \\theta(w^T x)$ where $\\theta(s) = \\frac{e^s}{1+e^s} = \\frac{1}{1 + e^{-s}}$\n",
    "\n",
    "Can we think of a case where the sum of two logistic hypotheses $h_1$ and $h_2$ cannot be written as $\\theta(s)$?"
   ]
  },
  {
   "cell_type": "markdown",
   "metadata": {},
   "source": [
    "Indeed, imagine if h1 always has weights (0, 1) and h2 always has weights (0, -2).\n",
    "The expected model does not have weights (0, -0.5). It is not even a logistic model. See  the following plot"
   ]
  },
  {
   "cell_type": "code",
   "execution_count": 6,
   "metadata": {},
   "outputs": [
    {
     "data": {
      "image/png": "[encoded data removed]",
      "text/plain": [
       "<Figure size 432x288 with 1 Axes>"
      ]
     },
     "metadata": {
      "needs_background": "light"
     },
     "output_type": "display_data"
    }
   ],
   "source": [
    "\n",
    "def theta(s):\n",
    "    return 1 / (1 + np.exp(-s))\n",
    "\n",
    "def h1(x0, x1):\n",
    "    w0 = 0\n",
    "    w1 = 1\n",
    "    return theta(w0 * x0 + w1 * x1)\n",
    "\n",
    "def h2(x0, x1):\n",
    "    w0 = 0\n",
    "    w1 = -2\n",
    "    return theta(w0 * x0 + w1 * x1)\n",
    "\n",
    "xx = np.linspace(-10, 10)\n",
    "plt.plot(xx, h1(1, xx))\n",
    "plt.plot(xx, h2(1, xx))\n",
    "plt.plot(xx, 1/2 * (h1(1, xx) + h2(1, xx)))\n",
    "plt.legend([\"h1\", \"h2\", \"E[h]\"])\n",
    "plt.show()"
   ]
  },
  {
   "cell_type": "markdown",
   "metadata": {},
   "source": [
    "$h_3(x)$ is clearly not a logistic function."
   ]
  },
  {
   "cell_type": "markdown",
   "metadata": {},
   "source": [
    "# Overfitting"
   ]
  },
  {
   "cell_type": "markdown",
   "metadata": {},
   "source": [
    "# 3"
   ]
  },
  {
   "cell_type": "markdown",
   "metadata": {},
   "source": [
    "Overfitting means fitting the data more than warranted. I.e. choosing a too complex model for the amount of data. Fitting to the noise."
   ]
  },
  {
   "cell_type": "markdown",
   "metadata": {},
   "source": [
    "a: If there is overfitting, there must be two or more hypotheses that have different values of E_in. -- True. We have chosen a too complex model that fits the input data too well, and in order to do that we had to compare multiple models."
   ]
  },
  {
   "cell_type": "markdown",
   "metadata": {},
   "source": [
    "b: If there is overfitting, there must be two or more hypotheses that have different values of E_out. -- True. If all hypotheses were equally good, we cannot really call this overfitting."
   ]
  },
  {
   "cell_type": "markdown",
   "metadata": {},
   "source": [
    "c: If there is overfitting, there must be two or more hypotheses that have different values of (E_out - E_in). -- ???"
   ]
  },
  {
   "cell_type": "markdown",
   "metadata": {},
   "source": [
    "d: We can always determine if there is overfitting by comparing the values of E_out - E_in. -- ???"
   ]
  },
  {
   "cell_type": "markdown",
   "metadata": {},
   "source": [
    "e: We cannot determine overfitting based on one hypothesis only. -- True."
   ]
  },
  {
   "cell_type": "markdown",
   "metadata": {},
   "source": [
    "# 4"
   ]
  },
  {
   "cell_type": "markdown",
   "metadata": {},
   "source": [
    "Deterministic noise is the error due to complexity in the target function that our model cannot approximate.\n",
    "\n",
    "Thus deterministic noise depends on our hypothesis set.\n",
    "\n",
    "**Answer: Alternative 4D: Stochastic noise does not depend on the hypothesis set.**"
   ]
  },
  {
   "cell_type": "markdown",
   "metadata": {},
   "source": [
    "# 5"
   ]
  },
  {
   "cell_type": "markdown",
   "metadata": {},
   "source": [
    "The least squares linear regression solution satisfies the constraint. Thus the regularization has no effect, and w_reg = w_lin."
   ]
  },
  {
   "cell_type": "markdown",
   "metadata": {},
   "source": [
    "**Answer: Alternative A**"
   ]
  },
  {
   "cell_type": "markdown",
   "metadata": {},
   "source": [
    "# 6"
   ]
  },
  {
   "cell_type": "markdown",
   "metadata": {},
   "source": [
    "**Answer: Alternative B -- soft-order constraints can be translated into augmented error**"
   ]
  },
  {
   "cell_type": "markdown",
   "metadata": {},
   "source": [
    "# 7"
   ]
  },
  {
   "cell_type": "code",
   "execution_count": 7,
   "metadata": {},
   "outputs": [],
   "source": [
    "data_train = np.loadtxt(\"features.train\")\n",
    "data_test = np.loadtxt(\"features.test\")\n",
    "y_train, X_train = data_train[:, :1], data_train[:, 1:]\n",
    "y_test, X_test = data_test[:, :1], data_test[:, 1:]\n"
   ]
  },
  {
   "cell_type": "markdown",
   "metadata": {},
   "source": [
    "Since I already implemented regularized least squares regression in the previous homework, I will use sklearn here."
   ]
  },
  {
   "cell_type": "markdown",
   "metadata": {},
   "source": [
    "> from sklearn.linear_model import Ridge  \n",
    "Minimizes the objective function:  \n",
    "||y - Xw||^2_2 + alpha * ||w||^2_2"
   ]
  },
  {
   "cell_type": "code",
   "execution_count": 8,
   "metadata": {},
   "outputs": [],
   "source": [
    "from sklearn.linear_model import RidgeClassifier\n",
    "\n",
    "def get_n_vs_m_dataset(ns, ms, which):\n",
    "    if which == \"train\":\n",
    "        data = data_train.copy()\n",
    "    elif which == \"test\":\n",
    "        data = data_test.copy()\n",
    "    else:\n",
    "        1/0\n",
    "    in_ns = np.isin(data[:,0], ns)\n",
    "    in_ms = np.isin(data[:,0], ms)\n",
    "    in_either = np.logical_or(in_ns, in_ms)\n",
    "    data[in_ns,0] = +1.0\n",
    "    data[in_ms,0] = -1.0\n",
    "    X, y = data[in_either,1:], data[in_either,0]\n",
    "    return np.hstack([np.ones([X.shape[0], 1]), X]), y\n",
    "    \n",
    "X, y = get_n_vs_m_dataset([5], [0, 1, 2, 3, 4, 6, 7, 8, 9], \"train\")\n",
    "\n",
    "\n",
    "def plot(X, y, s=1):\n",
    "    above = np.where(y > 0)\n",
    "    below = np.where(y < 0)\n",
    "    plt.scatter(X[below,1], X[below,2], s)\n",
    "    plt.scatter(X[above,1], X[above,2], s)\n",
    "    plt.legend([\"ms\", \"ns\"])\n",
    "    plt.xlabel(\"Intensity\")\n",
    "    plt.ylabel(\"Symmetry\")"
   ]
  },
  {
   "cell_type": "code",
   "execution_count": 9,
   "metadata": {
    "scrolled": false
   },
   "outputs": [
    {
     "data": {
      "image/png": "[encoded data removed]",
      "text/plain": [
       "<Figure size 432x288 with 1 Axes>"
      ]
     },
     "metadata": {
      "needs_background": "light"
     },
     "output_type": "display_data"
    },
    {
     "name": "stdout",
     "output_type": "stream",
     "text": [
      "0.07625840076807022\n"
     ]
    },
    {
     "data": {
      "image/png": "[encoded data removed]",
      "text/plain": [
       "<Figure size 432x288 with 1 Axes>"
      ]
     },
     "metadata": {
      "needs_background": "light"
     },
     "output_type": "display_data"
    },
    {
     "name": "stdout",
     "output_type": "stream",
     "text": [
      "0.09107118365107666\n"
     ]
    },
    {
     "data": {
      "image/png": "[encoded data removed]",
      "text/plain": [
       "<Figure size 432x288 with 1 Axes>"
      ]
     },
     "metadata": {
      "needs_background": "light"
     },
     "output_type": "display_data"
    },
    {
     "name": "stdout",
     "output_type": "stream",
     "text": [
      "0.08846523110684405\n"
     ]
    },
    {
     "data": {
      "image/png": "[encoded data removed]",
      "text/plain": [
       "<Figure size 432x288 with 1 Axes>"
      ]
     },
     "metadata": {
      "needs_background": "light"
     },
     "output_type": "display_data"
    },
    {
     "name": "stdout",
     "output_type": "stream",
     "text": [
      "0.07433822520916199\n"
     ]
    },
    {
     "data": {
      "image/png": "[encoded data removed]",
      "text/plain": [
       "<Figure size 432x288 with 1 Axes>"
      ]
     },
     "metadata": {
      "needs_background": "light"
     },
     "output_type": "display_data"
    },
    {
     "name": "stdout",
     "output_type": "stream",
     "text": [
      "0.08832807570977919\n"
     ]
    }
   ],
   "source": [
    "def plot_decision_boundary(clf):\n",
    "    N = 30000\n",
    "    X = np.zeros((N,3))\n",
    "    X[:,0] = 1\n",
    "    X[:,1] = 2*np.random.rand(N) - 1\n",
    "    X[:,2] = np.random.rand(N)*(-14) + 7\n",
    "    y = clf.predict(X)\n",
    "    plot(X, y, s=100)\n",
    "\n",
    "def in_sample_error(ns, ms):\n",
    "    X, y = get_n_vs_m_dataset(ns, ms, \"train\")\n",
    "    Z = X # = (1, x1, x2)\n",
    "    clf = RidgeClassifier(alpha=1.0, fit_intercept=False)\n",
    "    clf.fit(Z, y)\n",
    "    plot_decision_boundary(clf)\n",
    "    plot(X, y)\n",
    "    plt.show()\n",
    "    return np.mean(clf.predict(Z) != y)\n",
    "    \n",
    "print(in_sample_error([5], [0, 1, 2, 3, 4, 6, 7, 8, 9]))\n",
    "print(in_sample_error([6], [0, 1, 2, 3, 4, 5, 7, 8, 9]))\n",
    "print(in_sample_error([7], [0, 1, 2, 3, 4, 5, 6, 8, 9]))\n",
    "print(in_sample_error([8], [0, 1, 2, 3, 4, 5, 6, 7, 9]))\n",
    "print(in_sample_error([9], [0, 1, 2, 3, 4, 5, 6, 7, 8]))"
   ]
  },
  {
   "cell_type": "markdown",
   "metadata": {},
   "source": [
    "All the classifiers are horrible, but 8 vs all has the lowest E_in.\n",
    "This is since the training the estimator always guesses -1, and this one coincidentally has fewer of that that class compared to other numbers."
   ]
  },
  {
   "cell_type": "markdown",
   "metadata": {},
   "source": [
    "**Alternative 7D: 8 vs all**"
   ]
  },
  {
   "cell_type": "markdown",
   "metadata": {},
   "source": [
    "# 8"
   ]
  },
  {
   "cell_type": "code",
   "execution_count": 10,
   "metadata": {},
   "outputs": [
    {
     "data": {
      "image/png": "[encoded data removed]",
      "text/plain": [
       "<Figure size 432x288 with 1 Axes>"
      ]
     },
     "metadata": {
      "needs_background": "light"
     },
     "output_type": "display_data"
    },
    {
     "name": "stdout",
     "output_type": "stream",
     "text": [
      "0 vs all Eout 0.10662680617837568\n"
     ]
    },
    {
     "data": {
      "image/png": "[encoded data removed]",
      "text/plain": [
       "<Figure size 432x288 with 1 Axes>"
      ]
     },
     "metadata": {
      "needs_background": "light"
     },
     "output_type": "display_data"
    },
    {
     "name": "stdout",
     "output_type": "stream",
     "text": [
      "1 vs all Eout 0.02192326856003986\n"
     ]
    },
    {
     "data": {
      "image/png": "[encoded data removed]",
      "text/plain": [
       "<Figure size 432x288 with 1 Axes>"
      ]
     },
     "metadata": {
      "needs_background": "light"
     },
     "output_type": "display_data"
    },
    {
     "name": "stdout",
     "output_type": "stream",
     "text": [
      "2 vs all Eout 0.09865470852017937\n"
     ]
    },
    {
     "data": {
      "image/png": "[encoded data removed]",
      "text/plain": [
       "<Figure size 432x288 with 1 Axes>"
      ]
     },
     "metadata": {
      "needs_background": "light"
     },
     "output_type": "display_data"
    },
    {
     "name": "stdout",
     "output_type": "stream",
     "text": [
      "3 vs all Eout 0.08271051320378675\n"
     ]
    },
    {
     "data": {
      "image/png": "[encoded data removed]",
      "text/plain": [
       "<Figure size 432x288 with 1 Axes>"
      ]
     },
     "metadata": {
      "needs_background": "light"
     },
     "output_type": "display_data"
    },
    {
     "name": "stdout",
     "output_type": "stream",
     "text": [
      "4 vs all Eout 0.09965122072745392\n"
     ]
    }
   ],
   "source": [
    "def plot_decision_boundary2(clf, phi):\n",
    "    N = 30000\n",
    "    X = np.zeros((N,3))\n",
    "    X[:,0] = 1\n",
    "    X[:,1] = 2*np.random.rand(N) - 1\n",
    "    X[:,2] = np.random.rand(N)*(-14) + 7\n",
    "    y = clf.predict(phi(X))\n",
    "    plot(X, y, s=50)\n",
    "\n",
    "def phi(X):\n",
    "    Z = np.zeros((X.shape[0], 6))\n",
    "    Z[:,0] = 1\n",
    "    Z[:,1] = X[:,1]\n",
    "    Z[:,2] = X[:,2]\n",
    "    Z[:,3] = X[:,1]*X[:,2]\n",
    "    Z[:,4] = X[:,1]**2\n",
    "    Z[:,5] = X[:,2]**2\n",
    "    return Z\n",
    "\n",
    "def out_of_sample_error(ns, ms):\n",
    "    X_train, y_train = get_n_vs_m_dataset(ns, ms, \"train\")\n",
    "    X_test, y_test = get_n_vs_m_dataset(ns, ms, \"test\")\n",
    "    \n",
    "    Z_train = phi(X_train)\n",
    "    Z_test = phi(X_test)\n",
    "\n",
    "    clf = RidgeClassifier(alpha=1, fit_intercept=False)\n",
    "    clf.fit(Z_train, y_train)\n",
    "    plot_decision_boundary2(clf, phi)\n",
    "    plot(X_train, y_train)\n",
    "    plt.show()\n",
    "    return np.mean(clf.predict(Z_test) != y_test)\n",
    "    \n",
    "print(\"0 vs all Eout\", out_of_sample_error([0], [1, 2, 3, 4, 5, 6, 7, 8, 9]))\n",
    "print(\"1 vs all Eout\", out_of_sample_error([1], [0, 2, 3, 4, 5, 6, 7, 8, 9]))\n",
    "print(\"2 vs all Eout\", out_of_sample_error([2], [0, 1, 3, 4, 5, 6, 7, 8, 9]))\n",
    "print(\"3 vs all Eout\", out_of_sample_error([3], [0, 1, 2, 4, 5, 6, 7, 8, 9]))\n",
    "print(\"4 vs all Eout\", out_of_sample_error([4], [0, 1, 2, 3, 5, 6, 7, 8, 9]))"
   ]
  },
  {
   "cell_type": "markdown",
   "metadata": {},
   "source": [
    "A little gotcha here: The intercept is not penalized for sklearn's Ridge method when using fit_intercept=True.\n",
    "So instead add a ones column and set fit_intercept=False to get the desired behavior of also penalizing the intercept term w0."
   ]
  },
  {
   "cell_type": "markdown",
   "metadata": {},
   "source": [
    "**Alternative 8B: 1 vs all has the lowest E_out**"
   ]
  },
  {
   "cell_type": "markdown",
   "metadata": {},
   "source": [
    "# 9"
   ]
  },
  {
   "cell_type": "code",
   "execution_count": 11,
   "metadata": {},
   "outputs": [
    {
     "name": "stdout",
     "output_type": "stream",
     "text": [
      "1 vs all\n",
      "  No transform E_in\t 0.01522424907420107\n",
      "  No transform E_out\t 0.02242152466367713\n",
      "     Transform E_in\t 0.012343985735838706\n",
      "     Transform E_out\t 0.02192326856003986\n",
      "2 vs all\n",
      "  No transform E_in\t 0.10026059525442327\n",
      "  No transform E_out\t 0.09865470852017937\n",
      "     Transform E_in\t 0.10026059525442327\n",
      "     Transform E_out\t 0.09865470852017937\n",
      "3 vs all\n",
      "  No transform E_in\t 0.09024825126868742\n",
      "  No transform E_out\t 0.08271051320378675\n",
      "     Transform E_in\t 0.09024825126868742\n",
      "     Transform E_out\t 0.08271051320378675\n",
      "4 vs all\n",
      "  No transform E_in\t 0.08942531888629818\n",
      "  No transform E_out\t 0.09965122072745392\n",
      "     Transform E_in\t 0.08942531888629818\n",
      "     Transform E_out\t 0.09965122072745392\n",
      "5 vs all\n",
      "  No transform E_in\t 0.07625840076807022\n",
      "  No transform E_out\t 0.07972097658196313\n",
      "     Transform E_in\t 0.07625840076807022\n",
      "     Transform E_out\t 0.07922272047832586\n",
      "6 vs all\n",
      "  No transform E_in\t 0.09107118365107666\n",
      "  No transform E_out\t 0.08470353761833582\n",
      "     Transform E_in\t 0.09107118365107666\n",
      "     Transform E_out\t 0.08470353761833582\n",
      "7 vs all\n",
      "  No transform E_in\t 0.08846523110684405\n",
      "  No transform E_out\t 0.07324364723467862\n",
      "     Transform E_in\t 0.08846523110684405\n",
      "     Transform E_out\t 0.07324364723467862\n",
      "8 vs all\n",
      "  No transform E_in\t 0.07433822520916199\n",
      "  No transform E_out\t 0.08271051320378675\n",
      "     Transform E_in\t 0.07433822520916199\n",
      "     Transform E_out\t 0.08271051320378675\n",
      "9 vs all\n",
      "  No transform E_in\t 0.08832807570977919\n",
      "  No transform E_out\t 0.08819133034379671\n",
      "     Transform E_in\t 0.08832807570977919\n",
      "     Transform E_out\t 0.08819133034379671\n"
     ]
    }
   ],
   "source": [
    "def check_all(ns, ms):\n",
    "    print(\"{} vs all\".format(ns[0]))\n",
    "    X_train, y_train = get_n_vs_m_dataset(ns, ms, \"train\")\n",
    "    X_test, y_test = get_n_vs_m_dataset(ns, ms, \"test\")\n",
    "    \n",
    "    Z_train = phi(X_train)\n",
    "    Z_test = phi(X_test)\n",
    "    \n",
    "    clf = RidgeClassifier(alpha=1, fit_intercept=False)\n",
    "\n",
    "    # No transform E_in\n",
    "    clf.fit(X_train, y_train)\n",
    "    print(\"  No transform E_in\\t\", np.mean(clf.predict(X_train) != y_train))\n",
    "    # No transform E_out\n",
    "    print(\"  No transform E_out\\t\", np.mean(clf.predict(X_test) != y_test))\n",
    "    # Transform E_in\n",
    "    clf.fit(Z_train, y_train)\n",
    "    print(\"     Transform E_in\\t\", np.mean(clf.predict(Z_train) != y_train))\n",
    "    # Transform E_out\n",
    "    print(\"     Transform E_out\\t\", np.mean(clf.predict(Z_test) != y_test))\n",
    "\n",
    "check_all([1], [0, 2, 3, 4, 5, 6, 7, 8, 9])\n",
    "check_all([2], [0, 1, 3, 4, 5, 6, 7, 8, 9])\n",
    "check_all([3], [0, 1, 2, 4, 5, 6, 7, 8, 9])\n",
    "check_all([4], [0, 1, 2, 3, 5, 6, 7, 8, 9])\n",
    "check_all([5], [0, 1, 2, 3, 4, 6, 7, 8, 9])\n",
    "check_all([6], [0, 1, 2, 3, 4, 5, 7, 8, 9])\n",
    "check_all([7], [0, 1, 2, 3, 4, 5, 6, 8, 9])\n",
    "check_all([8], [0, 1, 2, 3, 4, 5, 6, 7, 9])\n",
    "check_all([9], [0, 1, 2, 3, 4, 5, 6, 7, 8])"
   ]
  },
  {
   "cell_type": "markdown",
   "metadata": {},
   "source": [
    "a: False. Doesn't look like overfitting to me.  \n",
    "b: False: No, transform doesn't improve E_out  \n",
    "c: False: There is a slight difference in out of sample performance. E.g. 5 vs all is _slightly_ better.  \n",
    "d: False: The transform sometimes sometimes has the same out of sample performance.  \n",
    "e: True: The performance is improved, but only by a small percentage."
   ]
  },
  {
   "cell_type": "code",
   "execution_count": 12,
   "metadata": {},
   "outputs": [
    {
     "name": "stdout",
     "output_type": "stream",
     "text": [
      "0.0062499999999999795\n"
     ]
    }
   ],
   "source": [
    "five_vs_all_improvement_percentage = -(0.07922272047832586 - 0.07972097658196313)/0.07972097658196313\n",
    "print(five_vs_all_improvement_percentage)"
   ]
  },
  {
   "cell_type": "markdown",
   "metadata": {},
   "source": [
    "**Alternative 9E**\n"
   ]
  },
  {
   "cell_type": "markdown",
   "metadata": {},
   "source": [
    "# 10"
   ]
  },
  {
   "cell_type": "code",
   "execution_count": 13,
   "metadata": {},
   "outputs": [
    {
     "name": "stdout",
     "output_type": "stream",
     "text": [
      "1 vs 5\n",
      "lambda=1\n",
      "     Transform E_in\t 0.005124919923126201\n",
      "     Transform E_out\t 0.025943396226415096\n"
     ]
    },
    {
     "data": {
      "image/png": "[encoded data removed]",
      "text/plain": [
       "<Figure size 432x288 with 1 Axes>"
      ]
     },
     "metadata": {
      "needs_background": "light"
     },
     "output_type": "display_data"
    },
    {
     "data": {
      "image/png": "[encoded data removed]",
      "text/plain": [
       "<Figure size 432x288 with 1 Axes>"
      ]
     },
     "metadata": {
      "needs_background": "light"
     },
     "output_type": "display_data"
    },
    {
     "name": "stdout",
     "output_type": "stream",
     "text": [
      "lambda=0.01\n",
      "     Transform E_in\t 0.004484304932735426\n",
      "     Transform E_out\t 0.02830188679245283\n"
     ]
    },
    {
     "data": {
      "image/png": "[encoded data removed]",
      "text/plain": [
       "<Figure size 432x288 with 1 Axes>"
      ]
     },
     "metadata": {
      "needs_background": "light"
     },
     "output_type": "display_data"
    },
    {
     "data": {
      "image/png": "[encoded data removed]",
      "text/plain": [
       "<Figure size 432x288 with 1 Axes>"
      ]
     },
     "metadata": {
      "needs_background": "light"
     },
     "output_type": "display_data"
    }
   ],
   "source": [
    "ns = [5]\n",
    "ms = [1]\n",
    "print(\"1 vs 5\")\n",
    "\n",
    "X_train, y_train = get_n_vs_m_dataset(ns, ms, \"train\")\n",
    "X_test, y_test = get_n_vs_m_dataset(ns, ms, \"test\")\n",
    "\n",
    "Z_train = phi(X_train)\n",
    "Z_test = phi(X_test)\n",
    "\n",
    "\n",
    "#########################################################################\n",
    "\n",
    "print(\"lambda=1\")\n",
    "clf = RidgeClassifier(alpha=1, fit_intercept=False)\n",
    "\n",
    "# Transform E_in\n",
    "clf.fit(Z_train, y_train)\n",
    "print(\"     Transform E_in\\t\", np.mean(clf.predict(Z_train) != y_train))\n",
    "# Transform E_out\n",
    "print(\"     Transform E_out\\t\", np.mean(clf.predict(Z_test) != y_test))\n",
    "\n",
    "\n",
    "plot_decision_boundary2(clf, phi)\n",
    "plot(X_train, y_train)\n",
    "plt.title(\"Training data\")\n",
    "plt.show()\n",
    "\n",
    "plot_decision_boundary2(clf, phi)\n",
    "plot(X_test, y_test)\n",
    "plt.title(\"Test data\")\n",
    "plt.show()\n",
    "\n",
    "##############################################################################\n",
    "\n",
    "print(\"lambda=0.01\")\n",
    "clf2 = RidgeClassifier(alpha=0.01, fit_intercept=False)\n",
    "\n",
    "# Transform E_in\n",
    "clf2.fit(Z_train, y_train)\n",
    "print(\"     Transform E_in\\t\", np.mean(clf2.predict(Z_train) != y_train))\n",
    "# Transform E_out\n",
    "print(\"     Transform E_out\\t\", np.mean(clf2.predict(Z_test) != y_test))\n",
    "\n",
    "plot_decision_boundary2(clf2, phi)\n",
    "plot(X_train, y_train)\n",
    "plt.title(\"Training data\")\n",
    "plt.show()\n",
    "\n",
    "plot_decision_boundary2(clf2, phi)\n",
    "plot(X_test, y_test)\n",
    "plt.title(\"Test data\")\n",
    "plt.show()"
   ]
  },
  {
   "cell_type": "markdown",
   "metadata": {},
   "source": [
    "Another gotcha: RidgeRegression in sklearn doesn't work properly with solver=\"lsqr\"?"
   ]
  },
  {
   "cell_type": "markdown",
   "metadata": {},
   "source": [
    "Anyways looks like we have overfitting, since E_in goes slightly down and E_out goes slightly up."
   ]
  },
  {
   "cell_type": "markdown",
   "metadata": {},
   "source": [
    "**Alternative 10A: Overfitting occurs**"
   ]
  },
  {
   "cell_type": "code",
   "execution_count": 14,
   "metadata": {},
   "outputs": [
    {
     "data": {
      "image/png": "[encoded data removed]",
      "text/plain": [
       "<Figure size 432x288 with 1 Axes>"
      ]
     },
     "metadata": {
      "needs_background": "light"
     },
     "output_type": "display_data"
    },
    {
     "data": {
      "image/png": "[encoded data removed]",
      "text/plain": [
       "<Figure size 432x288 with 1 Axes>"
      ]
     },
     "metadata": {
      "needs_background": "light"
     },
     "output_type": "display_data"
    }
   ],
   "source": [
    "X = np.array([\n",
    "    [1,1,0],\n",
    "    [1,0,1],\n",
    "    [1,0,-1],\n",
    "    [1,-1,0],\n",
    "    [1,0,2],\n",
    "    [1,0,-2],\n",
    "    [1,-2,0],\n",
    "])\n",
    "\n",
    "y = np.array([-1, -1, -1, +1, +1, +1, +1])\n",
    "\n",
    "def phi(X):\n",
    "    Z = np.zeros((X.shape[0], 3))\n",
    "    Z[:,0] = 1\n",
    "    Z[:,1] = X[:,2]**2 - 2*X[:,1] - 1\n",
    "    Z[:,2] = X[:,1]**2 - 2*X[:,2] + 1\n",
    "    return Z\n",
    "\n",
    "def plot(X, y):\n",
    "    above = np.where(y > 0)\n",
    "    below = np.where(y < 0)\n",
    "    plt.scatter(X[below,1], X[below,2])\n",
    "    plt.scatter(X[above,1], X[above,2])\n",
    "    plt.legend([\"+1\", \"-1\"])\n",
    "    plt.xlabel(\"z1\")\n",
    "    plt.ylabel(\"z2\")\n",
    "\n",
    "plt.title(\"X\")\n",
    "plot(X, y)\n",
    "plt.show()\n",
    "\n",
    "Z = phi(X)\n",
    "\n",
    "plt.title(\"Z\")\n",
    "plot(Z, y)\n",
    "# Draw decision boundary and support vectors\n",
    "plt.plot([0.5, 0.5], [-3, 5])\n",
    "svec_UV = np.array([[-0.5, 0], [0.5, 0], [-0.5, 0]])\n",
    "svec_XY = np.array([[0.5, 3], [0.5, 2], [0.5, -1]])\n",
    "plt.quiver(svec_XY[:,0], svec_XY[:,1], svec_UV[:,0], svec_UV[:,1])\n",
    "plt.show()"
   ]
  },
  {
   "cell_type": "markdown",
   "metadata": {},
   "source": [
    "By looking at the scatter plot it is obvious where to put the decision plane, and where the support vectors are."
   ]
  },
  {
   "cell_type": "markdown",
   "metadata": {},
   "source": [
    "(i) $$ \\mathbf w^T \\mathbf z + b = 0 $$\n",
    "\n",
    " $$ w_1 z_1 + w_2 z_2 + b = 0 $$"
   ]
  },
  {
   "cell_type": "markdown",
   "metadata": {},
   "source": [
    "Also, for each support vector $\\mathbf x_k$, we also have that:\n",
    "\n",
    "$$ w_1 x_1 + w_2 x_2 + b = 1 $$\n",
    "\n",
    "for class (+1) support vectors and (ii)\n",
    "\n",
    "$$ w_1 x_1 + w_2 x_2 + b = -1 $$\n",
    "\n",
    "for class (-1) support vectors."
   ]
  },
  {
   "cell_type": "markdown",
   "metadata": {},
   "source": [
    "Let's try:"
   ]
  },
  {
   "cell_type": "code",
   "execution_count": 15,
   "metadata": {},
   "outputs": [
    {
     "name": "stdout",
     "output_type": "stream",
     "text": [
      "wTz + b = 0 on decision boundary\n",
      "0.0\n",
      "w1z1 + w2z2 + b = 1 for positive class\n",
      "1\n",
      "w1z1 + w2z2 + b = -1 for negative class\n",
      "-1\n"
     ]
    }
   ],
   "source": [
    "w1 = -2\n",
    "w2 = 0\n",
    "b = 1\n",
    "\n",
    "# Decision boundary\n",
    "print(\"wTz + b = 0 on decision boundary\")\n",
    "z1, z2 = 0.5, 10\n",
    "print(w1*z1 + w2*z2 + b)\n",
    "\n",
    "# Positive class\n",
    "print(\"w1z1 + w2z2 + b = 1 for positive class\")\n",
    "z1, z2 = 0, 10\n",
    "print(w1*z1 + w2*z2 + b)\n",
    "\n",
    "# Negative class\n",
    "print(\"w1z1 + w2z2 + b = -1 for negative class\")\n",
    "z1, z2 = 1, 10\n",
    "print(w1*z1 + w2*z2 + b)"
   ]
  },
  {
   "cell_type": "markdown",
   "metadata": {},
   "source": [
    "The alternatives don't seem to match up with my findings here, regarding the scaling of w and b, and the direction of the plane.\n",
    "\n",
    "Some planes that are also valid, but perhaps pointing in the wrong direction or having the wrong slope (but are still maximizing the margin in Z space) are:\n",
    "\n",
    "(w1=-1, w2=0, b=0.5)   \n",
    "(w1=1, w2=0, b=-0.5)   <-- **Alternative 11C**"
   ]
  },
  {
   "cell_type": "markdown",
   "metadata": {},
   "source": [
    "# 12"
   ]
  },
  {
   "cell_type": "code",
   "execution_count": 16,
   "metadata": {},
   "outputs": [
    {
     "name": "stdout",
     "output_type": "stream",
     "text": [
      "(7, 3)\n"
     ]
    }
   ],
   "source": [
    "print(X.shape)"
   ]
  },
  {
   "cell_type": "code",
   "execution_count": 17,
   "metadata": {},
   "outputs": [
    {
     "name": "stdout",
     "output_type": "stream",
     "text": [
      "X [[ 1  1  0]\n",
      " [ 1  0  1]\n",
      " [ 1  0 -1]\n",
      " [ 1 -1  0]\n",
      " [ 1  0  2]\n",
      " [ 1  0 -2]\n",
      " [ 1 -2  0]]\n",
      "[LibSVM]Support vectors [[ 1.  0.  1.]\n",
      " [ 1.  0. -1.]\n",
      " [ 1. -1.  0.]\n",
      " [ 1.  0.  2.]\n",
      " [ 1.  0. -2.]]\n",
      "Alphas [[-0.59647182 -0.81065085  0.8887034   0.20566488  0.31275439]]\n"
     ]
    }
   ],
   "source": [
    "from sklearn.svm import SVC\n",
    "print(\"X\", X[:, 0:])\n",
    "clf = SVC(C=5e9, kernel=\"poly\", degree=2, gamma=1.0, verbose=True)\n",
    "clf.fit(X[:,0:], y)\n",
    "print(\"Support vectors\", clf.support_vectors_)\n",
    "print(\"Alphas\", clf.dual_coef_)"
   ]
  },
  {
   "cell_type": "code",
   "execution_count": 18,
   "metadata": {},
   "outputs": [
    {
     "name": "stdout",
     "output_type": "stream",
     "text": [
      "[-1 -1 -1  1  1  1  1]\n",
      "[-1 -1 -1  1  1  1  1]\n"
     ]
    }
   ],
   "source": [
    "print(clf.predict(X[:,0:]))\n",
    "print(y)"
   ]
  },
  {
   "cell_type": "code",
   "execution_count": 19,
   "metadata": {},
   "outputs": [
    {
     "data": {
      "image/png": "[encoded data removed]",
      "text/plain": [
       "<Figure size 432x288 with 1 Axes>"
      ]
     },
     "metadata": {
      "needs_background": "light"
     },
     "output_type": "display_data"
    }
   ],
   "source": [
    "def plot_decision_boundary(clf):\n",
    "    N = 10000\n",
    "    X = np.zeros((N,3))\n",
    "    X[:,0] = 1\n",
    "    X[:,1] = 10*np.random.rand(N) - 5\n",
    "    X[:,2] = 10*np.random.rand(N) - 5\n",
    "    y = clf.predict(X)\n",
    "    above = np.where(y > 0)\n",
    "    below = np.where(y < 0)\n",
    "    plt.scatter(X[above,1], X[above,2], s=50)\n",
    "    plt.scatter(X[below,1], X[below,2], s=50)\n",
    "    \n",
    "    \n",
    "plot_decision_boundary(clf)\n",
    "above = np.where(y > 0)\n",
    "below = np.where(y < 0)\n",
    "plt.scatter(X[below,1], X[below,2])\n",
    "plt.scatter(X[above,1], X[above,2])\n",
    "plt.show()\n"
   ]
  },
  {
   "cell_type": "markdown",
   "metadata": {},
   "source": [
    "Gotcha here: The ones column should be included to produce correct results. I.e. x0=1 in addition to x1 and x2."
   ]
  },
  {
   "cell_type": "markdown",
   "metadata": {},
   "source": [
    "There are 5 support vectors.\n",
    "\n",
    "**Alternative 12C (4-5)**"
   ]
  },
  {
   "cell_type": "markdown",
   "metadata": {},
   "source": [
    "# Radial Basis Functions"
   ]
  },
  {
   "cell_type": "markdown",
   "metadata": {},
   "source": [
    "# 13"
   ]
  },
  {
   "cell_type": "code",
   "execution_count": 90,
   "metadata": {},
   "outputs": [
    {
     "data": {
      "image/png": "[encoded data removed]",
      "text/plain": [
       "<Figure size 432x288 with 1 Axes>"
      ]
     },
     "metadata": {
      "needs_background": "light"
     },
     "output_type": "display_data"
    },
    {
     "name": "stdout",
     "output_type": "stream",
     "text": [
      "[LibSVM]"
     ]
    },
    {
     "data": {
      "image/png": "[encoded data removed]",
      "text/plain": [
       "<Figure size 432x288 with 1 Axes>"
      ]
     },
     "metadata": {
      "needs_background": "light"
     },
     "output_type": "display_data"
    }
   ],
   "source": [
    "def plot_decision_boundary(f):\n",
    "    N = 10000\n",
    "    X = np.zeros((N,3))\n",
    "    X[:,0] = 1\n",
    "    X[:,1] = 2*np.random.rand(N) - 1\n",
    "    X[:,2] = 2*np.random.rand(N) - 1\n",
    "    y = f(X)\n",
    "    above = np.where(y > 0)\n",
    "    below = np.where(y < 0)\n",
    "    plt.scatter(X[above,1], X[above,2], s=70)\n",
    "    plt.scatter(X[below,1], X[below,2], s=70)\n",
    "    \n",
    "def plot_data(X, y, s=None):\n",
    "    above = np.where(y > 0)\n",
    "    below = np.where(y < 0)\n",
    "    plt.scatter(X[below,1], X[below,2], s=s)\n",
    "    plt.scatter(X[above,1], X[above,2], s=s)\n",
    "\n",
    "def f(X):\n",
    "    return np.sign(X[:,2] - X[:,1] + 0.25 * np.sin(np.pi * X[:,1]))\n",
    "\n",
    "X = 2*np.random.rand(100, 3)-1\n",
    "X[:,0] = 1\n",
    "y = f(X)\n",
    "plot_decision_boundary(f)\n",
    "plt.show()\n",
    "\n",
    "svc = SVC(C=1e5, kernel=\"rbf\", gamma=1.5, verbose=True)\n",
    "svc.fit(X, y)\n",
    "plot_decision_boundary(svc.predict)\n",
    "plot_data(X, y)\n",
    "\n",
    "plt.show()\n"
   ]
  },
  {
   "cell_type": "code",
   "execution_count": 155,
   "metadata": {},
   "outputs": [
    {
     "data": {
      "image/png": "[encoded data removed]",
      "text/plain": [
       "<Figure size 432x288 with 1 Axes>"
      ]
     },
     "metadata": {
      "needs_background": "light"
     },
     "output_type": "display_data"
    }
   ],
   "source": [
    "def kmeans(X, K):\n",
    "    while True:\n",
    "        try:\n",
    "            mus = 2*np.random.rand(K, 2)-1\n",
    "            cluster_idx = np.zeros(X.shape[0])\n",
    "            # Repeat 100 times\n",
    "            for it in range(100):\n",
    "                # Find closest cluster for each point\n",
    "                for i in range(X.shape[0]):\n",
    "                    cluster_idx[i] = np.argmin(np.linalg.norm(mus - X[i,1:], axis=1))\n",
    "                # Find average position for each cluster\n",
    "                for k in range(K):\n",
    "                    Xk = X[np.where(cluster_idx == k),1:].squeeze()\n",
    "                    if Xk.shape[0] == 0:\n",
    "                        raise StopIteration\n",
    "                    mus[k,:] = np.mean(Xk, axis=0)\n",
    "\n",
    "            # Check that no centroids are empty\n",
    "            per_centroid = np.zeros(K)\n",
    "            for i in range(X.shape[0]):\n",
    "                cluster_idx[i] = np.argmin(np.linalg.norm(mus - X[i,1:], axis=1))\n",
    "            for k in range(K):\n",
    "                per_centroid = np.sum(cluster_idx == k)\n",
    "            if np.any(per_centroid == 0):\n",
    "                continue\n",
    "            return mus\n",
    "        except StopIteration as e:\n",
    "            pass # A cluster was empty -- try again\n",
    "        \n",
    "K = 9\n",
    "plot_decision_boundary(svc.predict)\n",
    "plot_data(X, y)\n",
    "plot_data(np.hstack([np.ones([K,1]), kmeans(X, K)]), np.ones(K), s=500)\n",
    "plt.show()\n"
   ]
  },
  {
   "cell_type": "markdown",
   "metadata": {},
   "source": [
    "Check how many times we get a non-separable dataset."
   ]
  },
  {
   "cell_type": "code",
   "execution_count": 120,
   "metadata": {},
   "outputs": [],
   "source": [
    "for i in range(10000):\n",
    "    X = 2*np.random.rand(100, 3)-1\n",
    "    X[:,0] = 1\n",
    "    y = f(X)\n",
    "    svc = SVC(C=1e8, kernel=\"rbf\", gamma=1.5, verbose=False)\n",
    "    svc.fit(X, y)\n",
    "    E_in = np.mean(svc.predict(X) != y)\n",
    "    if E_in > 0:\n",
    "        print(\"oh no\")\n"
   ]
  },
  {
   "cell_type": "markdown",
   "metadata": {},
   "source": [
    "Less than 0.1% of the time.\n",
    "\n",
    "**Alternative 13A**"
   ]
  },
  {
   "cell_type": "markdown",
   "metadata": {},
   "source": [
    "# 14 (Regular RBF with pseudo inverse)"
   ]
  },
  {
   "cell_type": "code",
   "execution_count": 159,
   "metadata": {
    "scrolled": false
   },
   "outputs": [
    {
     "name": "stdout",
     "output_type": "stream",
     "text": [
      "SVC: 0.0/0.023,  RBF: 0.05/0.074\n",
      "100.0 %\n",
      "SVC: 0.0/0.045,  RBF: 0.02/0.067\n",
      "100.0 %\n",
      "SVC: 0.0/0.016,  RBF: 0.05/0.065\n",
      "100.0 %\n",
      "SVC: 0.0/0.029,  RBF: 0.04/0.067\n",
      "100.0 %\n",
      "SVC: 0.0/0.015,  RBF: 0.06/0.065\n",
      "100.0 %\n",
      "SVC: 0.0/0.047,  RBF: 0.04/0.04\n",
      "83.33333333333334 %\n",
      "SVC: 0.0/0.022,  RBF: 0.04/0.057\n",
      "85.71428571428571 %\n",
      "SVC: 0.0/0.029,  RBF: 0.05/0.05\n",
      "87.5 %\n",
      "SVC: 0.0/0.01,  RBF: 0.02/0.023\n",
      "88.88888888888889 %\n",
      "SVC: 0.0/0.033,  RBF: 0.06/0.057\n",
      "90.0 %\n",
      "SVC: 0.0/0.062,  RBF: 0.05/0.077\n",
      "90.9090909090909 %\n",
      "SVC: 0.0/0.015,  RBF: 0.04/0.073\n",
      "91.66666666666666 %\n",
      "SVC: 0.0/0.037,  RBF: 0.03/0.096\n",
      "92.3076923076923 %\n",
      "SVC: 0.0/0.056,  RBF: 0.03/0.076\n",
      "92.85714285714286 %\n",
      "SVC: 0.0/0.017,  RBF: 0.02/0.031\n",
      "93.33333333333333 %\n",
      "SVC: 0.0/0.021,  RBF: 0.03/0.062\n",
      "93.75 %\n",
      "SVC: 0.0/0.033,  RBF: 0.04/0.069\n",
      "94.11764705882352 %\n",
      "SVC: 0.0/0.039,  RBF: 0.03/0.073\n",
      "94.44444444444444 %\n",
      "SVC: 0.0/0.04,  RBF: 0.06/0.04\n",
      "89.47368421052632 %\n",
      "SVC: 0.0/0.029,  RBF: 0.05/0.051\n",
      "90.0 %\n",
      "SVC: 0.0/0.035,  RBF: 0.04/0.055\n",
      "90.47619047619048 %\n",
      "SVC: 0.0/0.03,  RBF: 0.03/0.023\n",
      "86.36363636363636 %\n",
      "SVC: 0.0/0.039,  RBF: 0.06/0.046\n",
      "86.95652173913044 %\n",
      "SVC: 0.0/0.054,  RBF: 0.02/0.048\n",
      "83.33333333333334 %\n",
      "SVC: 0.0/0.041,  RBF: 0.01/0.076\n",
      "84.0 %\n",
      "SVC: 0.0/0.05,  RBF: 0.01/0.062\n",
      "84.61538461538461 %\n",
      "SVC: 0.0/0.029,  RBF: 0.02/0.026\n",
      "81.48148148148148 %\n",
      "SVC: 0.0/0.024,  RBF: 0.01/0.04\n",
      "82.14285714285714 %\n",
      "SVC: 0.0/0.042,  RBF: 0.02/0.073\n",
      "82.75862068965517 %\n",
      "SVC: 0.0/0.042,  RBF: 0.04/0.04\n",
      "80.0 %\n",
      "SVC: 0.0/0.025,  RBF: 0.09/0.076\n",
      "80.64516129032258 %\n",
      "SVC: 0.0/0.03,  RBF: 0.05/0.054\n",
      "81.25 %\n",
      "SVC: 0.0/0.035,  RBF: 0.04/0.053\n",
      "81.81818181818183 %\n",
      "SVC: 0.0/0.023,  RBF: 0.04/0.073\n",
      "82.35294117647058 %\n",
      "SVC: 0.0/0.029,  RBF: 0.0/0.038\n",
      "82.85714285714286 %\n",
      "SVC: 0.0/0.024,  RBF: 0.04/0.054\n",
      "83.33333333333334 %\n",
      "SVC: 0.0/0.019,  RBF: 0.05/0.085\n",
      "83.78378378378379 %\n",
      "SVC: 0.0/0.012,  RBF: 0.03/0.065\n",
      "84.21052631578947 %\n",
      "SVC: 0.0/0.018,  RBF: 0.02/0.068\n",
      "84.61538461538461 %\n",
      "SVC: 0.0/0.028,  RBF: 0.02/0.052\n",
      "85.0 %\n",
      "SVC: 0.0/0.028,  RBF: 0.03/0.082\n",
      "85.36585365853658 %\n",
      "SVC: 0.0/0.037,  RBF: 0.04/0.054\n",
      "85.71428571428571 %\n",
      "SVC: 0.0/0.016,  RBF: 0.06/0.05\n",
      "86.04651162790698 %\n",
      "SVC: 0.0/0.051,  RBF: 0.01/0.075\n",
      "86.36363636363636 %\n",
      "SVC: 0.0/0.038,  RBF: 0.03/0.069\n",
      "86.66666666666667 %\n",
      "SVC: 0.0/0.062,  RBF: 0.0/0.06\n",
      "84.78260869565217 %\n",
      "SVC: 0.0/0.054,  RBF: 0.05/0.094\n",
      "85.1063829787234 %\n",
      "SVC: 0.0/0.026,  RBF: 0.02/0.063\n",
      "85.41666666666666 %\n",
      "SVC: 0.0/0.007,  RBF: 0.04/0.064\n",
      "85.71428571428571 %\n",
      "SVC: 0.0/0.044,  RBF: 0.03/0.044\n",
      "84.0 %\n",
      "SVC: 0.0/0.032,  RBF: 0.03/0.061\n",
      "84.31372549019608 %\n",
      "SVC: 0.0/0.033,  RBF: 0.06/0.073\n",
      "84.61538461538461 %\n",
      "SVC: 0.0/0.041,  RBF: 0.0/0.032\n",
      "83.01886792452831 %\n",
      "SVC: 0.0/0.027,  RBF: 0.07/0.076\n",
      "83.33333333333334 %\n",
      "SVC: 0.0/0.034,  RBF: 0.05/0.103\n",
      "83.63636363636363 %\n",
      "SVC: 0.0/0.032,  RBF: 0.01/0.045\n",
      "83.92857142857143 %\n",
      "SVC: 0.0/0.017,  RBF: 0.05/0.045\n",
      "84.21052631578947 %\n",
      "SVC: 0.0/0.031,  RBF: 0.03/0.037\n",
      "84.48275862068965 %\n",
      "SVC: 0.0/0.035,  RBF: 0.03/0.074\n",
      "84.7457627118644 %\n",
      "SVC: 0.0/0.026,  RBF: 0.01/0.026\n",
      "83.33333333333334 %\n",
      "SVC: 0.0/0.04,  RBF: 0.03/0.076\n",
      "83.60655737704919 %\n",
      "SVC: 0.0/0.023,  RBF: 0.01/0.047\n",
      "83.87096774193549 %\n",
      "SVC: 0.0/0.04,  RBF: 0.01/0.038\n",
      "82.53968253968253 %\n",
      "SVC: 0.0/0.02,  RBF: 0.05/0.057\n",
      "82.8125 %\n",
      "SVC: 0.0/0.017,  RBF: 0.02/0.026\n",
      "83.07692307692308 %\n",
      "SVC: 0.0/0.013,  RBF: 0.04/0.055\n",
      "83.33333333333334 %\n",
      "SVC: 0.0/0.019,  RBF: 0.02/0.014\n",
      "82.08955223880598 %\n",
      "SVC: 0.0/0.021,  RBF: 0.04/0.058\n",
      "82.35294117647058 %\n",
      "SVC: 0.0/0.037,  RBF: 0.0/0.051\n",
      "82.6086956521739 %\n",
      "SVC: 0.0/0.016,  RBF: 0.06/0.058\n",
      "82.85714285714286 %\n",
      "SVC: 0.0/0.066,  RBF: 0.06/0.104\n",
      "83.09859154929578 %\n",
      "SVC: 0.0/0.037,  RBF: 0.03/0.101\n",
      "83.33333333333334 %\n",
      "SVC: 0.0/0.026,  RBF: 0.03/0.092\n",
      "83.56164383561644 %\n",
      "SVC: 0.0/0.025,  RBF: 0.08/0.081\n",
      "83.78378378378379 %\n",
      "SVC: 0.0/0.049,  RBF: 0.04/0.085\n",
      "84.0 %\n",
      "SVC: 0.0/0.041,  RBF: 0.02/0.043\n",
      "84.21052631578947 %\n",
      "SVC: 0.0/0.03,  RBF: 0.02/0.03\n",
      "83.11688311688312 %\n",
      "SVC: 0.0/0.048,  RBF: 0.04/0.052\n",
      "83.33333333333334 %\n",
      "SVC: 0.0/0.011,  RBF: 0.03/0.054\n",
      "83.54430379746836 %\n",
      "SVC: 0.0/0.017,  RBF: 0.03/0.082\n",
      "83.75 %\n",
      "SVC: 0.0/0.023,  RBF: 0.02/0.067\n",
      "83.9506172839506 %\n",
      "SVC: 0.0/0.037,  RBF: 0.04/0.061\n",
      "84.14634146341463 %\n",
      "SVC: 0.0/0.019,  RBF: 0.02/0.063\n",
      "84.33734939759037 %\n",
      "SVC: 0.0/0.025,  RBF: 0.04/0.069\n",
      "84.52380952380952 %\n",
      "SVC: 0.0/0.043,  RBF: 0.02/0.056\n",
      "84.70588235294117 %\n",
      "SVC: 0.0/0.053,  RBF: 0.01/0.034\n",
      "83.72093023255815 %\n",
      "SVC: 0.0/0.032,  RBF: 0.02/0.04\n",
      "83.9080459770115 %\n",
      "SVC: 0.0/0.041,  RBF: 0.05/0.056\n",
      "84.0909090909091 %\n",
      "SVC: 0.0/0.025,  RBF: 0.04/0.047\n",
      "84.26966292134831 %\n",
      "SVC: 0.0/0.021,  RBF: 0.06/0.092\n",
      "84.44444444444444 %\n",
      "SVC: 0.0/0.02,  RBF: 0.02/0.049\n",
      "84.61538461538461 %\n",
      "SVC: 0.0/0.067,  RBF: 0.06/0.058\n",
      "83.69565217391305 %\n",
      "SVC: 0.0/0.016,  RBF: 0.05/0.051\n",
      "83.87096774193549 %\n",
      "SVC: 0.0/0.044,  RBF: 0.02/0.063\n",
      "84.04255319148936 %\n",
      "SVC: 0.0/0.03,  RBF: 0.02/0.061\n",
      "84.21052631578947 %\n",
      "SVC: 0.0/0.019,  RBF: 0.02/0.035\n",
      "84.375 %\n",
      "SVC: 0.0/0.026,  RBF: 0.03/0.064\n",
      "84.5360824742268 %\n",
      "SVC: 0.0/0.03,  RBF: 0.04/0.068\n",
      "84.6938775510204 %\n",
      "SVC: 0.0/0.033,  RBF: 0.01/0.027\n",
      "83.83838383838383 %\n",
      "SVC: 0.0/0.032,  RBF: 0.05/0.081\n",
      "84.0 %\n"
     ]
    },
    {
     "data": {
      "image/png": "[encoded data removed]",
      "text/plain": [
       "<Figure size 432x288 with 1 Axes>"
      ]
     },
     "metadata": {
      "needs_background": "light"
     },
     "output_type": "display_data"
    }
   ],
   "source": [
    "class RegularRBF:\n",
    "    def __init__(self, K, gamma):\n",
    "        self.K = K\n",
    "        self.gamma = gamma\n",
    "    \n",
    "    def create_phi_matrix(self, X):\n",
    "        self.centers = kmeans(X, self.K)\n",
    "        phi = np.zeros((X.shape[0], self.K+1)) # +1 for bias term\n",
    "        for k in range(self.K):\n",
    "            dists_to_center = (X[:,1] - self.centers[k,0])**2 + (X[:,2] - self.centers[k,1])**2\n",
    "            phi[:,k+1] = dists_to_center\n",
    "        phi = np.exp(-self.gamma * phi)\n",
    "        phi[:,0] = 1 # For bias term\n",
    "        return phi\n",
    "    \n",
    "    def fit(self, X, y):\n",
    "        phi = self.create_phi_matrix(X)\n",
    "        self.w = np.linalg.lstsq(phi, y, rcond=None)[0]\n",
    "    \n",
    "    def predict(self, X):\n",
    "        # sign ( sum_k wk exp(-gamma*||x - muk||^2) + b)\n",
    "        S = np.zeros(X.shape[0]) # One row for each test point\n",
    "        for k in range(self.K):\n",
    "            dists = np.linalg.norm(X[:,1:] - self.centers[k,:], axis=1)**2 # to center_k\n",
    "            S += self.w[k+1]*np.exp(-self.gamma*dists)\n",
    "        return np.sign(S+self.w[0]) # add bias term\n",
    "\n",
    "total_wins = 0\n",
    "kernel_wins = 0\n",
    "\n",
    "for i in range(100):\n",
    "    X_train = 2*np.random.rand(100, 3)-1\n",
    "    X_train[:,0] = 1\n",
    "    y_train = f(X_train)\n",
    "    \n",
    "    X_test = 2*np.random.rand(1000, 3)-1\n",
    "    X_test[:,0] = 1\n",
    "    y_test = f(X_test)\n",
    "    \n",
    "    svc = SVC(C=1e8, kernel=\"rbf\", gamma=1.5, verbose=False)\n",
    "    svc.fit(X_train, y_train)\n",
    "    svc_E_in = np.mean(svc.predict(X_train) != y_train)\n",
    "    svc_E_out = np.mean(svc.predict(X_test) != y_test)\n",
    "\n",
    "    \n",
    "    rbf = RegularRBF(K=9, gamma=1.5)\n",
    "    rbf.fit(X_train, y_train)\n",
    "    rbf_E_in = np.mean(rbf.predict(X_train) != y_train)        \n",
    "    rbf_E_out = np.mean(rbf.predict(X_test) != y_test)\n",
    "    \n",
    "    print(\"SVC: {}/{},  RBF: {}/{}\".format(\n",
    "        svc_E_in, svc_E_out,\n",
    "        rbf_E_in, rbf_E_out,\n",
    "    ))\n",
    "    \n",
    "    total_wins += 1\n",
    "    if svc_E_out < rbf_E_out:\n",
    "        kernel_wins += 1\n",
    "    print(kernel_wins / total_wins * 100, \"%\")\n",
    "\n",
    "\n",
    "rbf = RegularRBF(K=9, gamma=1.5)\n",
    "rbf.fit(X, y)\n",
    "rbf.predict(X)\n",
    "\n",
    "plot_decision_boundary(rbf.predict)\n",
    "plot_data(X, y)\n",
    "plt.show()"
   ]
  },
  {
   "cell_type": "markdown",
   "metadata": {},
   "source": [
    "Looks like kernel version wins around 84% of the time for K=9 and gamma=1.5 in terms of E_out.\n",
    "\n",
    "**Alternative 14E**"
   ]
  },
  {
   "cell_type": "markdown",
   "metadata": {},
   "source": [
    "# 15\n",
    "\n",
    "K=12, gamma=1.5"
   ]
  },
  {
   "cell_type": "code",
   "execution_count": 162,
   "metadata": {
    "scrolled": false
   },
   "outputs": [
    {
     "name": "stdout",
     "output_type": "stream",
     "text": [
      "SVC: 0.0/0.0185,  RBF: 0.05/0.0691\n",
      "100.0 %\n",
      "SVC: 0.0/0.0363,  RBF: 0.02/0.0288\n",
      "50.0 %\n",
      "SVC: 0.0/0.0222,  RBF: 0.02/0.0708\n",
      "66.66666666666666 %\n",
      "SVC: 0.0/0.0444,  RBF: 0.02/0.0684\n",
      "75.0 %\n",
      "SVC: 0.0/0.0393,  RBF: 0.09/0.0977\n",
      "80.0 %\n",
      "SVC: 0.0/0.0298,  RBF: 0.02/0.0329\n",
      "83.33333333333334 %\n",
      "SVC: 0.0/0.0637,  RBF: 0.0/0.041\n",
      "71.42857142857143 %\n",
      "SVC: 0.0/0.0339,  RBF: 0.04/0.0349\n",
      "75.0 %\n",
      "SVC: 0.0/0.0251,  RBF: 0.04/0.0773\n",
      "77.77777777777779 %\n",
      "SVC: 0.0/0.022,  RBF: 0.01/0.0256\n",
      "80.0 %\n",
      "SVC: 0.0/0.0238,  RBF: 0.03/0.0575\n",
      "81.81818181818183 %\n",
      "SVC: 0.0/0.0438,  RBF: 0.05/0.0529\n",
      "83.33333333333334 %\n",
      "SVC: 0.0/0.0266,  RBF: 0.03/0.0681\n",
      "84.61538461538461 %\n",
      "SVC: 0.0/0.0256,  RBF: 0.03/0.0396\n",
      "85.71428571428571 %\n",
      "SVC: 0.0/0.0217,  RBF: 0.0/0.0468\n",
      "86.66666666666667 %\n",
      "SVC: 0.0/0.0231,  RBF: 0.02/0.0393\n",
      "87.5 %\n",
      "SVC: 0.0/0.0114,  RBF: 0.06/0.0511\n",
      "88.23529411764706 %\n",
      "SVC: 0.0/0.0357,  RBF: 0.02/0.0521\n",
      "88.88888888888889 %\n",
      "SVC: 0.0/0.0368,  RBF: 0.04/0.0519\n",
      "89.47368421052632 %\n",
      "SVC: 0.0/0.0323,  RBF: 0.05/0.0782\n",
      "90.0 %\n",
      "SVC: 0.0/0.0233,  RBF: 0.05/0.0568\n",
      "90.47619047619048 %\n",
      "SVC: 0.0/0.0394,  RBF: 0.05/0.0463\n",
      "90.9090909090909 %\n",
      "SVC: 0.0/0.0364,  RBF: 0.02/0.0431\n",
      "91.30434782608695 %\n",
      "SVC: 0.0/0.0401,  RBF: 0.05/0.044\n",
      "91.66666666666666 %\n",
      "SVC: 0.0/0.0386,  RBF: 0.04/0.0887\n",
      "92.0 %\n",
      "SVC: 0.0/0.019,  RBF: 0.04/0.0633\n",
      "92.3076923076923 %\n",
      "SVC: 0.0/0.0247,  RBF: 0.05/0.0491\n",
      "92.5925925925926 %\n",
      "SVC: 0.0/0.0256,  RBF: 0.05/0.0536\n",
      "92.85714285714286 %\n",
      "SVC: 0.0/0.0416,  RBF: 0.01/0.035\n",
      "89.65517241379311 %\n",
      "SVC: 0.0/0.0266,  RBF: 0.04/0.0433\n",
      "90.0 %\n",
      "SVC: 0.0/0.0198,  RBF: 0.03/0.0554\n",
      "90.32258064516128 %\n",
      "SVC: 0.0/0.0539,  RBF: 0.03/0.0791\n",
      "90.625 %\n",
      "SVC: 0.0/0.0332,  RBF: 0.02/0.078\n",
      "90.9090909090909 %\n",
      "SVC: 0.0/0.0168,  RBF: 0.05/0.0619\n",
      "91.17647058823529 %\n",
      "SVC: 0.0/0.0209,  RBF: 0.01/0.0227\n",
      "91.42857142857143 %\n",
      "SVC: 0.0/0.0307,  RBF: 0.04/0.0596\n",
      "91.66666666666666 %\n",
      "SVC: 0.0/0.0728,  RBF: 0.04/0.099\n",
      "91.8918918918919 %\n",
      "SVC: 0.0/0.0373,  RBF: 0.01/0.0462\n",
      "92.10526315789474 %\n",
      "SVC: 0.0/0.0376,  RBF: 0.04/0.0555\n",
      "92.3076923076923 %\n",
      "SVC: 0.0/0.0297,  RBF: 0.02/0.0349\n",
      "92.5 %\n",
      "SVC: 0.0/0.0336,  RBF: 0.02/0.0413\n",
      "92.6829268292683 %\n",
      "SVC: 0.0/0.0321,  RBF: 0.02/0.0509\n",
      "92.85714285714286 %\n",
      "SVC: 0.0/0.0529,  RBF: 0.01/0.0734\n",
      "93.02325581395348 %\n",
      "SVC: 0.0/0.0351,  RBF: 0.05/0.0513\n",
      "93.18181818181817 %\n",
      "SVC: 0.0/0.0382,  RBF: 0.01/0.0295\n",
      "91.11111111111111 %\n",
      "SVC: 0.0/0.0187,  RBF: 0.07/0.0478\n",
      "91.30434782608695 %\n",
      "SVC: 0.0/0.0353,  RBF: 0.02/0.0842\n",
      "91.48936170212765 %\n",
      "SVC: 0.0/0.0269,  RBF: 0.02/0.0457\n",
      "91.66666666666666 %\n",
      "SVC: 0.0/0.0412,  RBF: 0.01/0.0597\n",
      "91.83673469387756 %\n",
      "SVC: 0.0/0.0374,  RBF: 0.03/0.0505\n",
      "92.0 %\n",
      "SVC: 0.0/0.0392,  RBF: 0.05/0.0648\n",
      "92.15686274509804 %\n",
      "SVC: 0.0/0.0167,  RBF: 0.03/0.0661\n",
      "92.3076923076923 %\n",
      "SVC: 0.0/0.0178,  RBF: 0.05/0.0381\n",
      "92.45283018867924 %\n",
      "SVC: 0.0/0.0149,  RBF: 0.03/0.0731\n",
      "92.5925925925926 %\n",
      "SVC: 0.0/0.0407,  RBF: 0.0/0.0305\n",
      "90.9090909090909 %\n",
      "SVC: 0.0/0.023,  RBF: 0.01/0.029\n",
      "91.07142857142857 %\n",
      "SVC: 0.0/0.0312,  RBF: 0.04/0.049\n",
      "91.22807017543859 %\n",
      "SVC: 0.0/0.0253,  RBF: 0.02/0.0291\n",
      "91.37931034482759 %\n",
      "SVC: 0.0/0.0683,  RBF: 0.01/0.0422\n",
      "89.83050847457628 %\n",
      "SVC: 0.0/0.0153,  RBF: 0.03/0.0518\n",
      "90.0 %\n",
      "SVC: 0.0/0.0307,  RBF: 0.01/0.0625\n",
      "90.1639344262295 %\n",
      "SVC: 0.0/0.0369,  RBF: 0.03/0.0616\n",
      "90.32258064516128 %\n",
      "SVC: 0.0/0.0372,  RBF: 0.02/0.0454\n",
      "90.47619047619048 %\n",
      "SVC: 0.0/0.0173,  RBF: 0.02/0.0708\n",
      "90.625 %\n",
      "SVC: 0.0/0.0203,  RBF: 0.04/0.0518\n",
      "90.76923076923077 %\n",
      "SVC: 0.0/0.0263,  RBF: 0.04/0.0246\n",
      "89.39393939393939 %\n",
      "SVC: 0.0/0.0393,  RBF: 0.04/0.0666\n",
      "89.55223880597015 %\n",
      "SVC: 0.0/0.028,  RBF: 0.03/0.0707\n",
      "89.70588235294117 %\n",
      "SVC: 0.0/0.0384,  RBF: 0.01/0.0651\n",
      "89.85507246376811 %\n",
      "SVC: 0.0/0.0274,  RBF: 0.03/0.0888\n",
      "90.0 %\n",
      "SVC: 0.0/0.0611,  RBF: 0.03/0.085\n",
      "90.14084507042254 %\n",
      "SVC: 0.0/0.0394,  RBF: 0.01/0.051\n",
      "90.27777777777779 %\n",
      "SVC: 0.0/0.0133,  RBF: 0.04/0.0606\n",
      "90.41095890410958 %\n",
      "SVC: 0.0/0.0231,  RBF: 0.05/0.0682\n",
      "90.54054054054053 %\n",
      "SVC: 0.0/0.0481,  RBF: 0.01/0.0568\n",
      "90.66666666666666 %\n",
      "SVC: 0.0/0.0372,  RBF: 0.02/0.0491\n",
      "90.78947368421053 %\n",
      "SVC: 0.0/0.0448,  RBF: 0.03/0.0679\n",
      "90.9090909090909 %\n",
      "SVC: 0.0/0.017,  RBF: 0.02/0.0409\n",
      "91.02564102564102 %\n",
      "SVC: 0.0/0.0595,  RBF: 0.0/0.0654\n",
      "91.13924050632912 %\n",
      "SVC: 0.0/0.0465,  RBF: 0.03/0.0421\n",
      "90.0 %\n",
      "SVC: 0.0/0.0569,  RBF: 0.0/0.0554\n",
      "88.88888888888889 %\n",
      "SVC: 0.0/0.0302,  RBF: 0.01/0.0411\n",
      "89.02439024390245 %\n",
      "SVC: 0.0/0.0311,  RBF: 0.02/0.0385\n",
      "89.1566265060241 %\n",
      "SVC: 0.0/0.0215,  RBF: 0.05/0.0591\n",
      "89.28571428571429 %\n",
      "SVC: 0.0/0.027,  RBF: 0.02/0.0562\n",
      "89.41176470588236 %\n",
      "SVC: 0.0/0.0174,  RBF: 0.01/0.0326\n",
      "89.53488372093024 %\n",
      "SVC: 0.0/0.0149,  RBF: 0.06/0.069\n",
      "89.65517241379311 %\n",
      "SVC: 0.0/0.0455,  RBF: 0.01/0.0696\n",
      "89.77272727272727 %\n",
      "SVC: 0.0/0.0474,  RBF: 0.03/0.0654\n",
      "89.8876404494382 %\n",
      "SVC: 0.0/0.0199,  RBF: 0.05/0.0424\n",
      "90.0 %\n",
      "SVC: 0.0/0.0371,  RBF: 0.04/0.073\n",
      "90.10989010989012 %\n",
      "SVC: 0.0/0.0248,  RBF: 0.02/0.0526\n",
      "90.21739130434783 %\n",
      "SVC: 0.0/0.0232,  RBF: 0.04/0.0418\n",
      "90.32258064516128 %\n",
      "SVC: 0.0/0.0394,  RBF: 0.05/0.0806\n",
      "90.42553191489363 %\n",
      "SVC: 0.0/0.0235,  RBF: 0.1/0.1012\n",
      "90.52631578947368 %\n",
      "SVC: 0.0/0.014,  RBF: 0.04/0.049\n",
      "90.625 %\n",
      "SVC: 0.0/0.0291,  RBF: 0.01/0.0466\n",
      "90.72164948453609 %\n",
      "SVC: 0.0/0.038,  RBF: 0.03/0.0463\n",
      "90.81632653061224 %\n",
      "SVC: 0.0/0.039,  RBF: 0.02/0.0566\n",
      "90.9090909090909 %\n",
      "SVC: 0.0/0.0142,  RBF: 0.02/0.0394\n",
      "91.0 %\n",
      "SVC: 0.0/0.0278,  RBF: 0.03/0.0467\n",
      "91.0891089108911 %\n",
      "SVC: 0.0/0.0328,  RBF: 0.01/0.0634\n",
      "91.17647058823529 %\n",
      "SVC: 0.0/0.0324,  RBF: 0.04/0.0773\n",
      "91.2621359223301 %\n",
      "SVC: 0.0/0.0378,  RBF: 0.05/0.0679\n",
      "91.34615384615384 %\n",
      "SVC: 0.0/0.0231,  RBF: 0.05/0.047\n",
      "91.42857142857143 %\n",
      "SVC: 0.0/0.0342,  RBF: 0.02/0.0623\n",
      "91.50943396226415 %\n",
      "SVC: 0.0/0.0435,  RBF: 0.03/0.0676\n",
      "91.58878504672897 %\n",
      "SVC: 0.0/0.0269,  RBF: 0.0/0.0273\n",
      "91.66666666666666 %\n",
      "SVC: 0.0/0.0373,  RBF: 0.03/0.0582\n",
      "91.74311926605505 %\n",
      "SVC: 0.0/0.0284,  RBF: 0.04/0.0569\n",
      "91.81818181818183 %\n",
      "SVC: 0.0/0.0287,  RBF: 0.02/0.0408\n",
      "91.8918918918919 %\n",
      "SVC: 0.0/0.037,  RBF: 0.01/0.0569\n",
      "91.96428571428571 %\n",
      "SVC: 0.0/0.061,  RBF: 0.04/0.069\n",
      "92.03539823008849 %\n",
      "SVC: 0.0/0.0258,  RBF: 0.05/0.0694\n",
      "92.10526315789474 %\n",
      "SVC: 0.0/0.0303,  RBF: 0.07/0.0547\n",
      "92.17391304347827 %\n",
      "SVC: 0.0/0.039,  RBF: 0.03/0.0456\n",
      "92.24137931034483 %\n",
      "SVC: 0.0/0.0287,  RBF: 0.03/0.0482\n",
      "92.3076923076923 %\n",
      "SVC: 0.0/0.0081,  RBF: 0.04/0.0669\n",
      "92.37288135593221 %\n",
      "SVC: 0.0/0.0338,  RBF: 0.01/0.0527\n",
      "92.43697478991596 %\n",
      "SVC: 0.0/0.0351,  RBF: 0.03/0.0522\n",
      "92.5 %\n",
      "SVC: 0.0/0.0299,  RBF: 0.03/0.054\n",
      "92.56198347107438 %\n",
      "SVC: 0.0/0.0312,  RBF: 0.02/0.0653\n",
      "92.62295081967213 %\n",
      "SVC: 0.0/0.0169,  RBF: 0.01/0.0261\n",
      "92.6829268292683 %\n",
      "SVC: 0.0/0.0191,  RBF: 0.02/0.0802\n",
      "92.74193548387096 %\n",
      "SVC: 0.0/0.0308,  RBF: 0.02/0.0752\n",
      "92.80000000000001 %\n",
      "SVC: 0.0/0.0257,  RBF: 0.03/0.0532\n",
      "92.85714285714286 %\n",
      "SVC: 0.0/0.0138,  RBF: 0.04/0.0429\n",
      "92.91338582677166 %\n",
      "SVC: 0.0/0.0483,  RBF: 0.05/0.0491\n",
      "92.96875 %\n",
      "SVC: 0.0/0.0654,  RBF: 0.03/0.0539\n",
      "92.24806201550388 %\n",
      "SVC: 0.0/0.0248,  RBF: 0.05/0.0642\n",
      "92.3076923076923 %\n",
      "SVC: 0.0/0.0169,  RBF: 0.07/0.05\n",
      "92.36641221374046 %\n",
      "SVC: 0.0/0.0371,  RBF: 0.05/0.0488\n",
      "92.42424242424242 %\n",
      "SVC: 0.0/0.041,  RBF: 0.01/0.0533\n",
      "92.4812030075188 %\n",
      "SVC: 0.0/0.0171,  RBF: 0.08/0.0827\n",
      "92.53731343283582 %\n",
      "SVC: 0.0/0.0332,  RBF: 0.08/0.0703\n",
      "92.5925925925926 %\n",
      "SVC: 0.0/0.0478,  RBF: 0.03/0.0687\n",
      "92.64705882352942 %\n",
      "SVC: 0.0/0.0342,  RBF: 0.04/0.0849\n",
      "92.7007299270073 %\n",
      "SVC: 0.0/0.0295,  RBF: 0.04/0.0659\n",
      "92.7536231884058 %\n",
      "SVC: 0.0/0.0369,  RBF: 0.03/0.047\n",
      "92.80575539568345 %\n",
      "SVC: 0.0/0.0355,  RBF: 0.05/0.058\n",
      "92.85714285714286 %\n",
      "SVC: 0.0/0.0207,  RBF: 0.05/0.0583\n",
      "92.90780141843972 %\n",
      "SVC: 0.0/0.0459,  RBF: 0.03/0.0963\n",
      "92.95774647887323 %\n",
      "SVC: 0.0/0.0227,  RBF: 0.01/0.0498\n",
      "93.00699300699301 %\n",
      "SVC: 0.0/0.0301,  RBF: 0.02/0.0657\n",
      "93.05555555555556 %\n",
      "SVC: 0.0/0.044,  RBF: 0.02/0.0561\n",
      "93.10344827586206 %\n",
      "SVC: 0.0/0.0504,  RBF: 0.03/0.0641\n",
      "93.15068493150685 %\n",
      "SVC: 0.0/0.0443,  RBF: 0.03/0.0562\n",
      "93.19727891156462 %\n",
      "SVC: 0.0/0.0358,  RBF: 0.02/0.0636\n",
      "93.24324324324324 %\n",
      "SVC: 0.0/0.033,  RBF: 0.06/0.0807\n",
      "93.28859060402685 %\n",
      "SVC: 0.0/0.0334,  RBF: 0.01/0.0424\n",
      "93.33333333333333 %\n",
      "SVC: 0.0/0.0262,  RBF: 0.04/0.047\n",
      "93.37748344370861 %\n",
      "SVC: 0.0/0.0334,  RBF: 0.05/0.0641\n",
      "93.42105263157895 %\n",
      "SVC: 0.0/0.0171,  RBF: 0.04/0.0501\n",
      "93.4640522875817 %\n",
      "SVC: 0.0/0.0375,  RBF: 0.03/0.0412\n",
      "93.5064935064935 %\n",
      "SVC: 0.0/0.0373,  RBF: 0.01/0.0586\n",
      "93.54838709677419 %\n",
      "SVC: 0.0/0.0285,  RBF: 0.06/0.0583\n",
      "93.58974358974359 %\n"
     ]
    },
    {
     "name": "stdout",
     "output_type": "stream",
     "text": [
      "SVC: 0.0/0.0682,  RBF: 0.02/0.0525\n",
      "92.99363057324841 %\n",
      "SVC: 0.0/0.0238,  RBF: 0.03/0.0498\n",
      "93.0379746835443 %\n",
      "SVC: 0.0/0.0346,  RBF: 0.01/0.0195\n",
      "92.45283018867924 %\n",
      "SVC: 0.0/0.033,  RBF: 0.04/0.0356\n",
      "92.5 %\n",
      "SVC: 0.0/0.0449,  RBF: 0.02/0.0548\n",
      "92.54658385093167 %\n",
      "SVC: 0.0/0.0395,  RBF: 0.01/0.0507\n",
      "92.5925925925926 %\n",
      "SVC: 0.0/0.0124,  RBF: 0.03/0.0458\n",
      "92.63803680981594 %\n",
      "SVC: 0.0/0.0459,  RBF: 0.04/0.0501\n",
      "92.6829268292683 %\n",
      "SVC: 0.0/0.0574,  RBF: 0.04/0.0786\n",
      "92.72727272727272 %\n",
      "SVC: 0.0/0.0167,  RBF: 0.03/0.0386\n",
      "92.7710843373494 %\n",
      "SVC: 0.0/0.0148,  RBF: 0.03/0.0498\n",
      "92.81437125748504 %\n",
      "SVC: 0.0/0.0455,  RBF: 0.01/0.0751\n",
      "92.85714285714286 %\n",
      "SVC: 0.0/0.0223,  RBF: 0.03/0.0488\n",
      "92.89940828402366 %\n",
      "SVC: 0.0/0.0215,  RBF: 0.02/0.0429\n",
      "92.94117647058823 %\n",
      "SVC: 0.0/0.042,  RBF: 0.0/0.0394\n",
      "92.39766081871345 %\n",
      "SVC: 0.0/0.0437,  RBF: 0.06/0.0562\n",
      "92.44186046511628 %\n",
      "SVC: 0.0/0.0505,  RBF: 0.02/0.0761\n",
      "92.48554913294798 %\n",
      "SVC: 0.0/0.0167,  RBF: 0.05/0.0376\n",
      "92.52873563218391 %\n",
      "SVC: 0.0/0.0403,  RBF: 0.02/0.0539\n",
      "92.57142857142857 %\n",
      "SVC: 0.0/0.0121,  RBF: 0.04/0.0465\n",
      "92.61363636363636 %\n",
      "SVC: 0.0/0.0229,  RBF: 0.03/0.0718\n",
      "92.65536723163842 %\n",
      "SVC: 0.0/0.0171,  RBF: 0.05/0.0635\n",
      "92.69662921348315 %\n",
      "SVC: 0.0/0.0178,  RBF: 0.02/0.0658\n",
      "92.73743016759776 %\n",
      "SVC: 0.0/0.0273,  RBF: 0.03/0.046\n",
      "92.77777777777779 %\n",
      "SVC: 0.0/0.0267,  RBF: 0.06/0.067\n",
      "92.81767955801105 %\n",
      "SVC: 0.0/0.0144,  RBF: 0.04/0.0566\n",
      "92.85714285714286 %\n",
      "SVC: 0.0/0.0461,  RBF: 0.0/0.0609\n",
      "92.89617486338798 %\n",
      "SVC: 0.0/0.0395,  RBF: 0.05/0.0683\n",
      "92.93478260869566 %\n",
      "SVC: 0.0/0.0143,  RBF: 0.07/0.0667\n",
      "92.97297297297298 %\n",
      "SVC: 0.0/0.0334,  RBF: 0.04/0.067\n",
      "93.01075268817203 %\n",
      "SVC: 0.0/0.0305,  RBF: 0.05/0.0656\n",
      "93.04812834224599 %\n",
      "SVC: 0.0/0.0187,  RBF: 0.02/0.0295\n",
      "93.08510638297872 %\n",
      "SVC: 0.0/0.0355,  RBF: 0.04/0.0774\n",
      "93.12169312169311 %\n",
      "SVC: 0.0/0.0338,  RBF: 0.01/0.0504\n",
      "93.15789473684211 %\n",
      "SVC: 0.0/0.052,  RBF: 0.04/0.0687\n",
      "93.19371727748691 %\n",
      "SVC: 0.0/0.0251,  RBF: 0.05/0.063\n",
      "93.22916666666666 %\n",
      "SVC: 0.0/0.0458,  RBF: 0.07/0.055\n",
      "93.26424870466322 %\n",
      "SVC: 0.0/0.0447,  RBF: 0.07/0.0598\n",
      "93.29896907216495 %\n",
      "SVC: 0.0/0.0346,  RBF: 0.04/0.0534\n",
      "93.33333333333333 %\n",
      "SVC: 0.0/0.0576,  RBF: 0.0/0.0569\n",
      "92.85714285714286 %\n",
      "SVC: 0.0/0.0377,  RBF: 0.05/0.0735\n",
      "92.89340101522842 %\n",
      "SVC: 0.0/0.0459,  RBF: 0.01/0.0534\n",
      "92.92929292929293 %\n",
      "SVC: 0.0/0.0235,  RBF: 0.03/0.043\n",
      "92.96482412060301 %\n",
      "SVC: 0.0/0.0303,  RBF: 0.06/0.0714\n",
      "93.0 %\n",
      "SVC: 0.0/0.0124,  RBF: 0.05/0.046\n",
      "93.03482587064677 %\n",
      "SVC: 0.0/0.0302,  RBF: 0.01/0.0293\n",
      "92.57425742574257 %\n",
      "SVC: 0.0/0.0169,  RBF: 0.05/0.0445\n",
      "92.61083743842364 %\n",
      "SVC: 0.0/0.0364,  RBF: 0.02/0.0668\n",
      "92.64705882352942 %\n",
      "SVC: 0.0/0.0162,  RBF: 0.04/0.0495\n",
      "92.6829268292683 %\n",
      "SVC: 0.0/0.0244,  RBF: 0.04/0.0602\n",
      "92.71844660194175 %\n",
      "SVC: 0.0/0.0384,  RBF: 0.05/0.0303\n",
      "92.27053140096618 %\n",
      "SVC: 0.0/0.0279,  RBF: 0.04/0.0486\n",
      "92.3076923076923 %\n",
      "SVC: 0.0/0.034,  RBF: 0.03/0.0644\n",
      "92.34449760765551 %\n",
      "SVC: 0.0/0.0406,  RBF: 0.02/0.0651\n",
      "92.38095238095238 %\n",
      "SVC: 0.0/0.0141,  RBF: 0.02/0.0547\n",
      "92.41706161137441 %\n",
      "SVC: 0.0/0.0531,  RBF: 0.02/0.0714\n",
      "92.45283018867924 %\n",
      "SVC: 0.0/0.0477,  RBF: 0.03/0.0556\n",
      "92.48826291079813 %\n",
      "SVC: 0.0/0.0309,  RBF: 0.04/0.0465\n",
      "92.5233644859813 %\n",
      "SVC: 0.0/0.0472,  RBF: 0.07/0.0762\n",
      "92.55813953488372 %\n",
      "SVC: 0.0/0.0547,  RBF: 0.03/0.0602\n",
      "92.5925925925926 %\n",
      "SVC: 0.0/0.0461,  RBF: 0.01/0.0804\n",
      "92.62672811059907 %\n",
      "SVC: 0.0/0.0278,  RBF: 0.03/0.0423\n",
      "92.66055045871559 %\n",
      "SVC: 0.0/0.0139,  RBF: 0.04/0.0481\n",
      "92.69406392694064 %\n",
      "SVC: 0.0/0.026,  RBF: 0.02/0.0355\n",
      "92.72727272727272 %\n",
      "SVC: 0.0/0.031,  RBF: 0.04/0.0561\n",
      "92.76018099547511 %\n",
      "SVC: 0.0/0.0529,  RBF: 0.0/0.0387\n",
      "92.34234234234235 %\n",
      "SVC: 0.0/0.0277,  RBF: 0.05/0.0497\n",
      "92.37668161434978 %\n",
      "SVC: 0.0/0.0238,  RBF: 0.02/0.0447\n",
      "92.41071428571429 %\n",
      "SVC: 0.0/0.0256,  RBF: 0.04/0.0379\n",
      "92.44444444444444 %\n",
      "SVC: 0.0/0.0146,  RBF: 0.02/0.0467\n",
      "92.47787610619469 %\n",
      "SVC: 0.0/0.0354,  RBF: 0.03/0.0641\n",
      "92.51101321585902 %\n",
      "SVC: 0.0/0.0105,  RBF: 0.03/0.0535\n",
      "92.54385964912281 %\n",
      "SVC: 0.0/0.0414,  RBF: 0.01/0.0626\n",
      "92.57641921397381 %\n",
      "SVC: 0.0/0.0415,  RBF: 0.06/0.0473\n",
      "92.6086956521739 %\n",
      "SVC: 0.0/0.0215,  RBF: 0.02/0.0404\n",
      "92.64069264069265 %\n",
      "SVC: 0.0/0.0126,  RBF: 0.08/0.0678\n",
      "92.67241379310344 %\n",
      "SVC: 0.0/0.0262,  RBF: 0.04/0.0545\n",
      "92.7038626609442 %\n",
      "SVC: 0.0/0.0316,  RBF: 0.03/0.034\n",
      "92.73504273504274 %\n",
      "SVC: 0.0/0.0179,  RBF: 0.07/0.0682\n",
      "92.76595744680851 %\n",
      "SVC: 0.0/0.0214,  RBF: 0.03/0.0573\n",
      "92.79661016949152 %\n",
      "SVC: 0.0/0.0303,  RBF: 0.03/0.0244\n",
      "92.40506329113924 %\n",
      "SVC: 0.0/0.0237,  RBF: 0.05/0.0534\n",
      "92.43697478991596 %\n",
      "SVC: 0.0/0.0287,  RBF: 0.03/0.046\n",
      "92.46861924686193 %\n",
      "SVC: 0.0/0.0244,  RBF: 0.05/0.0867\n",
      "92.5 %\n",
      "SVC: 0.0/0.0413,  RBF: 0.03/0.0907\n",
      "92.5311203319502 %\n",
      "SVC: 0.0/0.0249,  RBF: 0.03/0.0412\n",
      "92.56198347107438 %\n",
      "SVC: 0.0/0.0586,  RBF: 0.02/0.0626\n",
      "92.5925925925926 %\n",
      "SVC: 0.0/0.0343,  RBF: 0.01/0.0472\n",
      "92.62295081967213 %\n",
      "SVC: 0.0/0.02,  RBF: 0.07/0.0509\n",
      "92.65306122448979 %\n",
      "SVC: 0.0/0.0301,  RBF: 0.03/0.0671\n",
      "92.6829268292683 %\n",
      "SVC: 0.0/0.0294,  RBF: 0.02/0.0444\n",
      "92.71255060728745 %\n",
      "SVC: 0.0/0.021,  RBF: 0.05/0.0517\n",
      "92.74193548387096 %\n",
      "SVC: 0.0/0.0289,  RBF: 0.01/0.0383\n",
      "92.7710843373494 %\n",
      "SVC: 0.0/0.033,  RBF: 0.03/0.0632\n",
      "92.80000000000001 %\n",
      "SVC: 0.0/0.029,  RBF: 0.06/0.0538\n",
      "92.82868525896414 %\n",
      "SVC: 0.0/0.0199,  RBF: 0.05/0.0465\n",
      "92.85714285714286 %\n",
      "SVC: 0.0/0.0336,  RBF: 0.02/0.0601\n",
      "92.88537549407114 %\n",
      "SVC: 0.0/0.0243,  RBF: 0.05/0.0707\n",
      "92.91338582677166 %\n",
      "SVC: 0.0/0.0283,  RBF: 0.06/0.0866\n",
      "92.94117647058823 %\n",
      "SVC: 0.0/0.0099,  RBF: 0.05/0.0805\n",
      "92.96875 %\n",
      "SVC: 0.0/0.0322,  RBF: 0.01/0.0255\n",
      "92.60700389105058 %\n",
      "SVC: 0.0/0.0267,  RBF: 0.03/0.0666\n",
      "92.63565891472868 %\n",
      "SVC: 0.0/0.0141,  RBF: 0.01/0.0753\n",
      "92.66409266409266 %\n",
      "SVC: 0.0/0.0342,  RBF: 0.02/0.0557\n",
      "92.6923076923077 %\n",
      "SVC: 0.0/0.0268,  RBF: 0.03/0.1015\n",
      "92.72030651340997 %\n",
      "SVC: 0.0/0.0387,  RBF: 0.03/0.0569\n",
      "92.74809160305344 %\n",
      "SVC: 0.0/0.0123,  RBF: 0.03/0.028\n",
      "92.77566539923954 %\n",
      "SVC: 0.0/0.0274,  RBF: 0.03/0.0779\n",
      "92.8030303030303 %\n",
      "SVC: 0.0/0.0211,  RBF: 0.02/0.051\n",
      "92.83018867924528 %\n",
      "SVC: 0.0/0.0124,  RBF: 0.06/0.0588\n",
      "92.85714285714286 %\n",
      "SVC: 0.0/0.023,  RBF: 0.07/0.0418\n",
      "92.88389513108615 %\n",
      "SVC: 0.0/0.0373,  RBF: 0.01/0.0553\n",
      "92.91044776119402 %\n",
      "SVC: 0.0/0.0223,  RBF: 0.04/0.0608\n",
      "92.93680297397769 %\n",
      "SVC: 0.0/0.0155,  RBF: 0.04/0.0681\n",
      "92.96296296296296 %\n",
      "SVC: 0.0/0.02,  RBF: 0.05/0.0924\n",
      "92.98892988929889 %\n",
      "SVC: 0.0/0.0345,  RBF: 0.04/0.0581\n",
      "93.01470588235294 %\n",
      "SVC: 0.0/0.0224,  RBF: 0.02/0.0458\n",
      "93.04029304029304 %\n",
      "SVC: 0.0/0.0214,  RBF: 0.05/0.053\n",
      "93.06569343065694 %\n",
      "SVC: 0.0/0.0246,  RBF: 0.03/0.0329\n",
      "93.0909090909091 %\n",
      "SVC: 0.0/0.0162,  RBF: 0.04/0.0652\n",
      "93.11594202898551 %\n",
      "SVC: 0.0/0.0221,  RBF: 0.03/0.0605\n",
      "93.14079422382672 %\n",
      "SVC: 0.0/0.0278,  RBF: 0.02/0.0677\n",
      "93.16546762589928 %\n",
      "SVC: 0.0/0.0274,  RBF: 0.02/0.0564\n",
      "93.1899641577061 %\n",
      "SVC: 0.0/0.0215,  RBF: 0.05/0.04\n",
      "93.21428571428572 %\n",
      "SVC: 0.0/0.0278,  RBF: 0.01/0.0356\n",
      "93.23843416370107 %\n",
      "SVC: 0.0/0.0429,  RBF: 0.0/0.0357\n",
      "92.90780141843972 %\n",
      "SVC: 0.0/0.04,  RBF: 0.04/0.0711\n",
      "92.93286219081273 %\n",
      "SVC: 0.0/0.0076,  RBF: 0.04/0.0632\n",
      "92.95774647887323 %\n",
      "SVC: 0.0/0.026,  RBF: 0.05/0.0355\n",
      "92.98245614035088 %\n",
      "SVC: 0.0/0.0138,  RBF: 0.01/0.0491\n",
      "93.00699300699301 %\n",
      "SVC: 0.0/0.0425,  RBF: 0.03/0.0749\n",
      "93.03135888501743 %\n",
      "SVC: 0.0/0.0282,  RBF: 0.0/0.052\n",
      "93.05555555555556 %\n",
      "SVC: 0.0/0.0502,  RBF: 0.03/0.0689\n",
      "93.07958477508652 %\n",
      "SVC: 0.0/0.0233,  RBF: 0.03/0.0401\n",
      "93.10344827586206 %\n",
      "SVC: 0.0/0.0165,  RBF: 0.03/0.0629\n",
      "93.12714776632302 %\n",
      "SVC: 0.0/0.0213,  RBF: 0.03/0.0308\n",
      "93.15068493150685 %\n",
      "SVC: 0.0/0.019,  RBF: 0.06/0.0636\n",
      "93.1740614334471 %\n",
      "SVC: 0.0/0.0329,  RBF: 0.04/0.0648\n",
      "93.19727891156462 %\n",
      "SVC: 0.0/0.0407,  RBF: 0.05/0.0699\n",
      "93.22033898305084 %\n",
      "SVC: 0.0/0.0259,  RBF: 0.03/0.053\n",
      "93.24324324324324 %\n",
      "SVC: 0.0/0.035,  RBF: 0.0/0.0535\n",
      "93.26599326599326 %\n",
      "SVC: 0.0/0.011,  RBF: 0.08/0.0793\n",
      "93.28859060402685 %\n",
      "SVC: 0.0/0.0388,  RBF: 0.02/0.0577\n",
      "93.31103678929766 %\n",
      "SVC: 0.0/0.0334,  RBF: 0.0/0.042\n",
      "93.33333333333333 %\n",
      "SVC: 0.0/0.0204,  RBF: 0.02/0.0814\n",
      "93.35548172757476 %\n",
      "SVC: 0.0/0.0213,  RBF: 0.09/0.0742\n",
      "93.37748344370861 %\n",
      "SVC: 0.0/0.0398,  RBF: 0.03/0.0559\n",
      "93.3993399339934 %\n",
      "SVC: 0.0/0.0135,  RBF: 0.05/0.0351\n",
      "93.42105263157895 %\n",
      "SVC: 0.0/0.037,  RBF: 0.04/0.0511\n",
      "93.44262295081968 %\n",
      "SVC: 0.0/0.0423,  RBF: 0.0/0.0659\n",
      "93.4640522875817 %\n",
      "SVC: 0.0/0.0312,  RBF: 0.0/0.0633\n",
      "93.48534201954396 %\n",
      "SVC: 0.0/0.038,  RBF: 0.03/0.0599\n",
      "93.5064935064935 %\n"
     ]
    },
    {
     "name": "stdout",
     "output_type": "stream",
     "text": [
      "SVC: 0.0/0.04,  RBF: 0.07/0.071\n",
      "93.52750809061489 %\n",
      "SVC: 0.0/0.0376,  RBF: 0.04/0.0547\n",
      "93.54838709677419 %\n",
      "SVC: 0.0/0.0279,  RBF: 0.05/0.0793\n",
      "93.56913183279742 %\n",
      "SVC: 0.0/0.0154,  RBF: 0.02/0.0362\n",
      "93.58974358974359 %\n",
      "SVC: 0.0/0.0312,  RBF: 0.05/0.0761\n",
      "93.61022364217251 %\n",
      "SVC: 0.0/0.0226,  RBF: 0.0/0.0346\n",
      "93.63057324840764 %\n",
      "SVC: 0.0/0.0475,  RBF: 0.08/0.0662\n",
      "93.65079365079364 %\n",
      "SVC: 0.0/0.0195,  RBF: 0.06/0.0504\n",
      "93.67088607594937 %\n",
      "SVC: 0.0/0.0087,  RBF: 0.05/0.0486\n",
      "93.69085173501577 %\n",
      "SVC: 0.0/0.0195,  RBF: 0.08/0.0826\n",
      "93.71069182389937 %\n",
      "SVC: 0.0/0.0167,  RBF: 0.03/0.064\n",
      "93.73040752351098 %\n",
      "SVC: 0.0/0.0254,  RBF: 0.02/0.0609\n",
      "93.75 %\n",
      "SVC: 0.0/0.0313,  RBF: 0.03/0.0711\n",
      "93.76947040498442 %\n",
      "SVC: 0.0/0.0399,  RBF: 0.03/0.0538\n",
      "93.7888198757764 %\n",
      "SVC: 0.0/0.1001,  RBF: 0.03/0.0788\n",
      "93.49845201238391 %\n",
      "SVC: 0.0/0.031,  RBF: 0.0/0.0214\n",
      "93.20987654320987 %\n",
      "SVC: 0.0/0.0361,  RBF: 0.06/0.0858\n",
      "93.23076923076923 %\n",
      "SVC: 0.0/0.0219,  RBF: 0.05/0.0639\n",
      "93.25153374233128 %\n",
      "SVC: 0.0/0.0163,  RBF: 0.05/0.0602\n",
      "93.27217125382263 %\n",
      "SVC: 0.0/0.0535,  RBF: 0.03/0.0788\n",
      "93.29268292682927 %\n",
      "SVC: 0.0/0.0636,  RBF: 0.01/0.0532\n",
      "93.00911854103343 %\n",
      "SVC: 0.0/0.0188,  RBF: 0.01/0.0547\n",
      "93.03030303030303 %\n",
      "SVC: 0.0/0.0364,  RBF: 0.0/0.033\n",
      "92.74924471299094 %\n",
      "SVC: 0.0/0.0605,  RBF: 0.04/0.0601\n",
      "92.46987951807229 %\n",
      "SVC: 0.0/0.0442,  RBF: 0.0/0.0551\n",
      "92.49249249249249 %\n",
      "SVC: 0.0/0.0203,  RBF: 0.03/0.0434\n",
      "92.51497005988024 %\n",
      "SVC: 0.0/0.0418,  RBF: 0.03/0.0731\n",
      "92.53731343283582 %\n",
      "SVC: 0.0/0.0139,  RBF: 0.05/0.0476\n",
      "92.55952380952381 %\n",
      "SVC: 0.0/0.033,  RBF: 0.03/0.0644\n",
      "92.58160237388724 %\n",
      "SVC: 0.0/0.0111,  RBF: 0.03/0.0473\n",
      "92.60355029585799 %\n",
      "SVC: 0.0/0.0155,  RBF: 0.02/0.0667\n",
      "92.62536873156341 %\n",
      "SVC: 0.0/0.0201,  RBF: 0.01/0.0429\n",
      "92.64705882352942 %\n",
      "SVC: 0.0/0.02,  RBF: 0.02/0.0651\n",
      "92.66862170087975 %\n",
      "SVC: 0.0/0.052,  RBF: 0.01/0.0325\n",
      "92.39766081871345 %\n",
      "SVC: 0.0/0.034,  RBF: 0.02/0.0575\n",
      "92.4198250728863 %\n",
      "SVC: 0.0/0.0392,  RBF: 0.02/0.0561\n",
      "92.44186046511628 %\n",
      "SVC: 0.0/0.0295,  RBF: 0.06/0.0848\n",
      "92.46376811594203 %\n",
      "SVC: 0.0/0.0304,  RBF: 0.03/0.0877\n",
      "92.48554913294798 %\n",
      "SVC: 0.0/0.0323,  RBF: 0.01/0.0697\n",
      "92.507204610951 %\n",
      "SVC: 0.0/0.0388,  RBF: 0.0/0.0387\n",
      "92.24137931034483 %\n",
      "SVC: 0.0/0.0169,  RBF: 0.02/0.0557\n",
      "92.26361031518626 %\n",
      "SVC: 0.0/0.0265,  RBF: 0.06/0.0888\n",
      "92.28571428571428 %\n",
      "SVC: 0.0/0.0303,  RBF: 0.02/0.0263\n",
      "92.02279202279202 %\n",
      "SVC: 0.0/0.0614,  RBF: 0.04/0.0789\n",
      "92.04545454545455 %\n",
      "SVC: 0.0/0.0194,  RBF: 0.03/0.0354\n",
      "92.06798866855524 %\n",
      "SVC: 0.0/0.0195,  RBF: 0.04/0.0298\n",
      "92.09039548022598 %\n",
      "SVC: 0.0/0.0164,  RBF: 0.01/0.0572\n",
      "92.11267605633803 %\n",
      "SVC: 0.0/0.0289,  RBF: 0.03/0.0416\n",
      "92.13483146067416 %\n",
      "SVC: 0.0/0.0539,  RBF: 0.03/0.0514\n",
      "91.87675070028011 %\n",
      "SVC: 0.0/0.04,  RBF: 0.01/0.0219\n",
      "91.62011173184358 %\n",
      "SVC: 0.0/0.0419,  RBF: 0.02/0.0335\n",
      "91.36490250696379 %\n",
      "SVC: 0.0/0.0221,  RBF: 0.02/0.0346\n",
      "91.38888888888889 %\n",
      "SVC: 0.0/0.039,  RBF: 0.04/0.0603\n",
      "91.41274238227147 %\n",
      "SVC: 0.0/0.0371,  RBF: 0.01/0.0309\n",
      "91.16022099447514 %\n",
      "SVC: 0.0/0.0191,  RBF: 0.04/0.0384\n",
      "91.18457300275482 %\n",
      "SVC: 0.0/0.0261,  RBF: 0.04/0.0663\n",
      "91.20879120879121 %\n",
      "SVC: 0.0/0.0248,  RBF: 0.06/0.0762\n",
      "91.23287671232877 %\n",
      "SVC: 0.0/0.0397,  RBF: 0.03/0.084\n",
      "91.2568306010929 %\n",
      "SVC: 0.0/0.0448,  RBF: 0.03/0.0691\n",
      "91.28065395095368 %\n",
      "SVC: 0.0/0.0329,  RBF: 0.01/0.0376\n",
      "91.30434782608695 %\n",
      "SVC: 0.0/0.0201,  RBF: 0.01/0.0515\n",
      "91.32791327913279 %\n",
      "SVC: 0.0/0.0211,  RBF: 0.03/0.0663\n",
      "91.35135135135135 %\n",
      "SVC: 0.0/0.0179,  RBF: 0.02/0.04\n",
      "91.37466307277629 %\n",
      "SVC: 0.0/0.0157,  RBF: 0.04/0.0406\n",
      "91.39784946236558 %\n",
      "SVC: 0.0/0.0341,  RBF: 0.01/0.015\n",
      "91.15281501340483 %\n",
      "SVC: 0.0/0.0168,  RBF: 0.03/0.055\n",
      "91.17647058823529 %\n",
      "SVC: 0.0/0.031,  RBF: 0.04/0.062\n",
      "91.2 %\n",
      "SVC: 0.0/0.0239,  RBF: 0.03/0.0395\n",
      "91.22340425531915 %\n",
      "SVC: 0.0/0.0231,  RBF: 0.08/0.0705\n",
      "91.24668435013263 %\n",
      "SVC: 0.0/0.0156,  RBF: 0.03/0.0619\n",
      "91.26984126984127 %\n",
      "SVC: 0.0/0.027,  RBF: 0.05/0.09\n",
      "91.2928759894459 %\n",
      "SVC: 0.0/0.0308,  RBF: 0.04/0.0527\n",
      "91.3157894736842 %\n",
      "SVC: 0.0/0.0157,  RBF: 0.07/0.0503\n",
      "91.33858267716536 %\n",
      "SVC: 0.0/0.0168,  RBF: 0.04/0.0565\n",
      "91.36125654450262 %\n",
      "SVC: 0.0/0.042,  RBF: 0.03/0.0567\n",
      "91.38381201044386 %\n",
      "SVC: 0.0/0.0298,  RBF: 0.04/0.0584\n",
      "91.40625 %\n",
      "SVC: 0.0/0.0359,  RBF: 0.04/0.0725\n",
      "91.42857142857143 %\n",
      "SVC: 0.0/0.0204,  RBF: 0.01/0.0212\n",
      "91.45077720207254 %\n",
      "SVC: 0.0/0.0382,  RBF: 0.03/0.0492\n",
      "91.47286821705426 %\n",
      "SVC: 0.0/0.0468,  RBF: 0.01/0.0482\n",
      "91.49484536082474 %\n",
      "SVC: 0.0/0.031,  RBF: 0.02/0.0596\n",
      "91.51670951156812 %\n",
      "SVC: 0.0/0.0306,  RBF: 0.01/0.046\n",
      "91.53846153846153 %\n",
      "SVC: 0.0/0.0223,  RBF: 0.06/0.0634\n",
      "91.56010230179028 %\n",
      "SVC: 0.0/0.014,  RBF: 0.01/0.0261\n",
      "91.58163265306123 %\n",
      "SVC: 0.0/0.0465,  RBF: 0.01/0.0453\n",
      "91.34860050890585 %\n",
      "SVC: 0.0/0.0331,  RBF: 0.03/0.0579\n",
      "91.37055837563452 %\n",
      "SVC: 0.0/0.0475,  RBF: 0.02/0.0537\n",
      "91.39240506329114 %\n",
      "SVC: 0.0/0.0178,  RBF: 0.02/0.0371\n",
      "91.41414141414141 %\n",
      "SVC: 0.0/0.0164,  RBF: 0.03/0.0353\n",
      "91.43576826196474 %\n",
      "SVC: 0.0/0.0279,  RBF: 0.05/0.0596\n",
      "91.4572864321608 %\n",
      "SVC: 0.0/0.0506,  RBF: 0.02/0.0391\n",
      "91.22807017543859 %\n",
      "SVC: 0.0/0.0223,  RBF: 0.04/0.047\n",
      "91.25 %\n",
      "SVC: 0.0/0.0314,  RBF: 0.01/0.0436\n",
      "91.2718204488778 %\n",
      "SVC: 0.0/0.0152,  RBF: 0.01/0.0451\n",
      "91.29353233830845 %\n",
      "SVC: 0.0/0.0331,  RBF: 0.03/0.0613\n",
      "91.3151364764268 %\n",
      "SVC: 0.0/0.0239,  RBF: 0.03/0.0457\n",
      "91.33663366336634 %\n",
      "SVC: 0.0/0.0368,  RBF: 0.04/0.0566\n",
      "91.35802469135803 %\n",
      "SVC: 0.0/0.0235,  RBF: 0.01/0.0532\n",
      "91.37931034482759 %\n",
      "SVC: 0.0/0.0203,  RBF: 0.02/0.063\n",
      "91.4004914004914 %\n",
      "SVC: 0.0/0.0294,  RBF: 0.07/0.0699\n",
      "91.42156862745098 %\n",
      "SVC: 0.0/0.0101,  RBF: 0.07/0.0832\n",
      "91.44254278728606 %\n",
      "SVC: 0.0/0.0359,  RBF: 0.02/0.0548\n",
      "91.46341463414635 %\n",
      "SVC: 0.0/0.0138,  RBF: 0.04/0.0658\n",
      "91.48418491484185 %\n",
      "SVC: 0.0/0.0506,  RBF: 0.02/0.0628\n",
      "91.50485436893204 %\n",
      "SVC: 0.0/0.0193,  RBF: 0.06/0.0644\n",
      "91.52542372881356 %\n",
      "SVC: 0.0/0.0215,  RBF: 0.02/0.0652\n",
      "91.54589371980676 %\n",
      "SVC: 0.0/0.0612,  RBF: 0.01/0.0525\n",
      "91.32530120481928 %\n",
      "SVC: 0.0/0.0283,  RBF: 0.01/0.067\n",
      "91.34615384615384 %\n",
      "SVC: 0.0/0.0282,  RBF: 0.03/0.0518\n",
      "91.36690647482014 %\n",
      "SVC: 0.0/0.0388,  RBF: 0.03/0.0542\n",
      "91.38755980861244 %\n",
      "SVC: 0.0/0.0281,  RBF: 0.03/0.059\n",
      "91.40811455847255 %\n",
      "SVC: 0.0/0.0391,  RBF: 0.03/0.0587\n",
      "91.42857142857143 %\n",
      "SVC: 0.0/0.0244,  RBF: 0.07/0.095\n",
      "91.44893111638956 %\n",
      "SVC: 0.0/0.0387,  RBF: 0.01/0.0815\n",
      "91.4691943127962 %\n",
      "SVC: 0.0/0.0279,  RBF: 0.04/0.0585\n",
      "91.48936170212765 %\n",
      "SVC: 0.0/0.023,  RBF: 0.07/0.0558\n",
      "91.50943396226415 %\n",
      "SVC: 0.0/0.0274,  RBF: 0.0/0.047\n",
      "91.52941176470588 %\n",
      "SVC: 0.0/0.0272,  RBF: 0.04/0.0895\n",
      "91.54929577464789 %\n",
      "SVC: 0.0/0.0402,  RBF: 0.01/0.0482\n",
      "91.56908665105387 %\n",
      "SVC: 0.0/0.0297,  RBF: 0.01/0.0488\n",
      "91.58878504672897 %\n",
      "SVC: 0.0/0.0293,  RBF: 0.01/0.043\n",
      "91.6083916083916 %\n",
      "SVC: 0.0/0.0338,  RBF: 0.02/0.0661\n",
      "91.62790697674419 %\n",
      "SVC: 0.0/0.0118,  RBF: 0.04/0.0564\n",
      "91.64733178654292 %\n",
      "SVC: 0.0/0.0117,  RBF: 0.01/0.052\n",
      "91.66666666666666 %\n",
      "SVC: 0.0/0.0383,  RBF: 0.03/0.0877\n",
      "91.68591224018475 %\n",
      "SVC: 0.0/0.0421,  RBF: 0.01/0.0274\n",
      "91.47465437788019 %\n",
      "SVC: 0.0/0.0234,  RBF: 0.01/0.0494\n",
      "91.49425287356323 %\n",
      "SVC: 0.0/0.0346,  RBF: 0.03/0.0281\n",
      "91.28440366972477 %\n",
      "SVC: 0.0/0.0378,  RBF: 0.03/0.0647\n",
      "91.30434782608695 %\n",
      "SVC: 0.0/0.0426,  RBF: 0.02/0.0331\n",
      "91.0958904109589 %\n",
      "SVC: 0.0/0.015,  RBF: 0.04/0.0513\n",
      "91.11617312072893 %\n",
      "SVC: 0.0/0.054,  RBF: 0.01/0.0453\n",
      "90.9090909090909 %\n",
      "SVC: 0.0/0.0562,  RBF: 0.0/0.0328\n",
      "90.702947845805 %\n",
      "SVC: 0.0/0.0498,  RBF: 0.0/0.0775\n",
      "90.72398190045249 %\n",
      "SVC: 0.0/0.0381,  RBF: 0.07/0.0778\n",
      "90.74492099322799 %\n",
      "SVC: 0.0/0.0267,  RBF: 0.01/0.0393\n",
      "90.76576576576578 %\n",
      "SVC: 0.0/0.0266,  RBF: 0.05/0.0488\n",
      "90.78651685393258 %\n",
      "SVC: 0.0/0.0289,  RBF: 0.03/0.0372\n",
      "90.80717488789237 %\n",
      "SVC: 0.0/0.0289,  RBF: 0.02/0.0337\n",
      "90.82774049217002 %\n",
      "SVC: 0.0/0.028,  RBF: 0.04/0.0507\n",
      "90.84821428571429 %\n",
      "SVC: 0.0/0.0552,  RBF: 0.04/0.0709\n",
      "90.8685968819599 %\n",
      "SVC: 0.0/0.0647,  RBF: 0.0/0.0656\n",
      "90.88888888888889 %\n",
      "SVC: 0.0/0.0321,  RBF: 0.03/0.0389\n",
      "90.9090909090909 %\n",
      "SVC: 0.0/0.0495,  RBF: 0.03/0.0597\n",
      "90.929203539823 %\n",
      "SVC: 0.0/0.0473,  RBF: 0.01/0.0671\n",
      "90.94922737306842 %\n",
      "SVC: 0.0/0.0493,  RBF: 0.05/0.0733\n",
      "90.96916299559471 %\n",
      "SVC: 0.0/0.0349,  RBF: 0.05/0.0568\n",
      "90.98901098901099 %\n",
      "SVC: 0.0/0.0346,  RBF: 0.05/0.0398\n",
      "91.00877192982456 %\n",
      "SVC: 0.0/0.0203,  RBF: 0.04/0.0407\n",
      "91.02844638949672 %\n",
      "SVC: 0.0/0.0229,  RBF: 0.03/0.0371\n",
      "91.0480349344978 %\n",
      "SVC: 0.0/0.0115,  RBF: 0.02/0.0472\n",
      "91.06753812636165 %\n",
      "SVC: 0.0/0.0266,  RBF: 0.03/0.0803\n",
      "91.08695652173913 %\n"
     ]
    },
    {
     "name": "stdout",
     "output_type": "stream",
     "text": [
      "SVC: 0.0/0.0341,  RBF: 0.07/0.061\n",
      "91.1062906724512 %\n",
      "SVC: 0.0/0.0286,  RBF: 0.04/0.0493\n",
      "91.12554112554112 %\n",
      "SVC: 0.0/0.0216,  RBF: 0.03/0.068\n",
      "91.14470842332614 %\n",
      "SVC: 0.0/0.022,  RBF: 0.02/0.0378\n",
      "91.16379310344827 %\n",
      "SVC: 0.0/0.0361,  RBF: 0.04/0.0712\n",
      "91.18279569892474 %\n",
      "SVC: 0.0/0.0255,  RBF: 0.04/0.0628\n",
      "91.20171673819742 %\n",
      "SVC: 0.0/0.0488,  RBF: 0.05/0.0881\n",
      "91.22055674518201 %\n",
      "SVC: 0.0/0.0173,  RBF: 0.06/0.0741\n",
      "91.23931623931624 %\n",
      "SVC: 0.0/0.0327,  RBF: 0.03/0.0414\n",
      "91.25799573560768 %\n",
      "SVC: 0.0/0.0338,  RBF: 0.04/0.0753\n",
      "91.27659574468086 %\n",
      "SVC: 0.0/0.0242,  RBF: 0.02/0.0563\n",
      "91.29511677282377 %\n",
      "SVC: 0.0/0.032,  RBF: 0.02/0.0553\n",
      "91.3135593220339 %\n",
      "SVC: 0.0/0.0223,  RBF: 0.02/0.0472\n",
      "91.33192389006342 %\n",
      "SVC: 0.0/0.0193,  RBF: 0.03/0.0513\n",
      "91.35021097046413 %\n",
      "SVC: 0.0/0.0292,  RBF: 0.02/0.0483\n",
      "91.36842105263158 %\n",
      "SVC: 0.0/0.0225,  RBF: 0.03/0.046\n",
      "91.38655462184873 %\n",
      "SVC: 0.0/0.0466,  RBF: 0.02/0.0723\n",
      "91.40461215932913 %\n",
      "SVC: 0.0/0.051,  RBF: 0.02/0.0803\n",
      "91.42259414225941 %\n",
      "SVC: 0.0/0.0245,  RBF: 0.03/0.0601\n",
      "91.44050104384134 %\n",
      "SVC: 0.0/0.0521,  RBF: 0.03/0.077\n",
      "91.45833333333333 %\n",
      "SVC: 0.0/0.0464,  RBF: 0.04/0.0553\n",
      "91.47609147609148 %\n",
      "SVC: 0.0/0.0288,  RBF: 0.02/0.0538\n",
      "91.49377593360995 %\n",
      "SVC: 0.0/0.0094,  RBF: 0.02/0.0694\n",
      "91.51138716356108 %\n",
      "SVC: 0.0/0.0345,  RBF: 0.0/0.0499\n",
      "91.52892561983471 %\n",
      "SVC: 0.0/0.0528,  RBF: 0.03/0.0449\n",
      "91.34020618556701 %\n",
      "SVC: 0.0/0.0313,  RBF: 0.03/0.0355\n",
      "91.35802469135803 %\n",
      "SVC: 0.0/0.0211,  RBF: 0.04/0.0555\n",
      "91.37577002053389 %\n",
      "SVC: 0.0/0.0125,  RBF: 0.03/0.0536\n",
      "91.39344262295081 %\n",
      "SVC: 0.0/0.0252,  RBF: 0.02/0.0567\n",
      "91.41104294478528 %\n",
      "SVC: 0.0/0.0109,  RBF: 0.04/0.0497\n",
      "91.42857142857143 %\n",
      "SVC: 0.0/0.035,  RBF: 0.03/0.0816\n",
      "91.44602851323829 %\n",
      "SVC: 0.0/0.0293,  RBF: 0.01/0.0396\n",
      "91.46341463414635 %\n",
      "SVC: 0.0/0.0151,  RBF: 0.01/0.0464\n",
      "91.48073022312373 %\n",
      "SVC: 0.0/0.0674,  RBF: 0.03/0.081\n",
      "91.49797570850203 %\n",
      "SVC: 0.0/0.0269,  RBF: 0.05/0.0966\n",
      "91.51515151515152 %\n",
      "SVC: 0.0/0.0359,  RBF: 0.02/0.0589\n",
      "91.53225806451613 %\n",
      "SVC: 0.0/0.0541,  RBF: 0.04/0.0617\n",
      "91.54929577464789 %\n",
      "SVC: 0.0/0.0207,  RBF: 0.01/0.0655\n",
      "91.56626506024097 %\n",
      "SVC: 0.0/0.0176,  RBF: 0.04/0.0794\n",
      "91.58316633266533 %\n",
      "SVC: 0.0/0.058,  RBF: 0.04/0.0431\n",
      "91.4 %\n",
      "SVC: 0.0/0.0396,  RBF: 0.03/0.0402\n",
      "91.41716566866268 %\n",
      "SVC: 0.0/0.0259,  RBF: 0.01/0.0244\n",
      "91.23505976095618 %\n",
      "SVC: 0.0/0.0286,  RBF: 0.06/0.0447\n",
      "91.25248508946322 %\n",
      "SVC: 0.0/0.0342,  RBF: 0.02/0.0612\n",
      "91.26984126984127 %\n",
      "SVC: 0.0/0.0245,  RBF: 0.02/0.0357\n",
      "91.2871287128713 %\n",
      "SVC: 0.0/0.0287,  RBF: 0.06/0.0795\n",
      "91.30434782608695 %\n",
      "SVC: 0.0/0.0302,  RBF: 0.02/0.0548\n",
      "91.3214990138067 %\n",
      "SVC: 0.0/0.0454,  RBF: 0.0/0.0399\n",
      "91.14173228346458 %\n",
      "SVC: 0.0/0.0492,  RBF: 0.03/0.0401\n",
      "90.96267190569745 %\n",
      "SVC: 0.0/0.0148,  RBF: 0.04/0.071\n",
      "90.98039215686275 %\n",
      "SVC: 0.0/0.0144,  RBF: 0.05/0.0381\n",
      "90.99804305283757 %\n",
      "SVC: 0.0/0.028,  RBF: 0.06/0.0795\n",
      "91.015625 %\n",
      "SVC: 0.0/0.022,  RBF: 0.02/0.0581\n",
      "91.03313840155946 %\n",
      "SVC: 0.0/0.0297,  RBF: 0.03/0.069\n",
      "91.05058365758755 %\n",
      "SVC: 0.0/0.0181,  RBF: 0.07/0.0428\n",
      "91.06796116504854 %\n",
      "SVC: 0.0/0.0579,  RBF: 0.04/0.0716\n",
      "91.08527131782945 %\n",
      "SVC: 0.0/0.0242,  RBF: 0.05/0.0603\n",
      "91.10251450676982 %\n",
      "SVC: 0.0/0.0396,  RBF: 0.01/0.029\n",
      "90.92664092664093 %\n",
      "SVC: 0.0/0.0457,  RBF: 0.01/0.0649\n",
      "90.94412331406551 %\n",
      "SVC: 0.0/0.0462,  RBF: 0.03/0.0604\n",
      "90.96153846153847 %\n",
      "SVC: 0.0/0.046,  RBF: 0.03/0.0714\n",
      "90.97888675623801 %\n",
      "SVC: 0.0/0.0287,  RBF: 0.03/0.0289\n",
      "90.99616858237547 %\n",
      "SVC: 0.0/0.0649,  RBF: 0.01/0.0671\n",
      "91.01338432122371 %\n",
      "SVC: 0.0/0.0161,  RBF: 0.01/0.0432\n",
      "91.03053435114504 %\n",
      "SVC: 0.0/0.0457,  RBF: 0.02/0.0853\n",
      "91.04761904761904 %\n"
     ]
    },
    {
     "ename": "KeyboardInterrupt",
     "evalue": "",
     "output_type": "error",
     "traceback": [
      "\u001b[0;31m---------------------------------------------------------------------------\u001b[0m",
      "\u001b[0;31mKeyboardInterrupt\u001b[0m                         Traceback (most recent call last)",
      "\u001b[0;32m<ipython-input-162-dfbc83538424>\u001b[0m in \u001b[0;36m<module>\u001b[0;34m\u001b[0m\n\u001b[1;32m     19\u001b[0m \u001b[0;34m\u001b[0m\u001b[0m\n\u001b[1;32m     20\u001b[0m     \u001b[0mrbf\u001b[0m \u001b[0;34m=\u001b[0m \u001b[0mRegularRBF\u001b[0m\u001b[0;34m(\u001b[0m\u001b[0mK\u001b[0m\u001b[0;34m=\u001b[0m\u001b[0;36m9\u001b[0m\u001b[0;34m,\u001b[0m \u001b[0mgamma\u001b[0m\u001b[0;34m=\u001b[0m\u001b[0;36m1.5\u001b[0m\u001b[0;34m)\u001b[0m\u001b[0;34m\u001b[0m\u001b[0;34m\u001b[0m\u001b[0m\n\u001b[0;32m---> 21\u001b[0;31m     \u001b[0mrbf\u001b[0m\u001b[0;34m.\u001b[0m\u001b[0mfit\u001b[0m\u001b[0;34m(\u001b[0m\u001b[0mX_train\u001b[0m\u001b[0;34m,\u001b[0m \u001b[0my_train\u001b[0m\u001b[0;34m)\u001b[0m\u001b[0;34m\u001b[0m\u001b[0;34m\u001b[0m\u001b[0m\n\u001b[0m\u001b[1;32m     22\u001b[0m     \u001b[0mrbf_E_in\u001b[0m \u001b[0;34m=\u001b[0m \u001b[0mnp\u001b[0m\u001b[0;34m.\u001b[0m\u001b[0mmean\u001b[0m\u001b[0;34m(\u001b[0m\u001b[0mrbf\u001b[0m\u001b[0;34m.\u001b[0m\u001b[0mpredict\u001b[0m\u001b[0;34m(\u001b[0m\u001b[0mX_train\u001b[0m\u001b[0;34m)\u001b[0m \u001b[0;34m!=\u001b[0m \u001b[0my_train\u001b[0m\u001b[0;34m)\u001b[0m\u001b[0;34m\u001b[0m\u001b[0;34m\u001b[0m\u001b[0m\n\u001b[1;32m     23\u001b[0m     \u001b[0mrbf_E_out\u001b[0m \u001b[0;34m=\u001b[0m \u001b[0mnp\u001b[0m\u001b[0;34m.\u001b[0m\u001b[0mmean\u001b[0m\u001b[0;34m(\u001b[0m\u001b[0mrbf\u001b[0m\u001b[0;34m.\u001b[0m\u001b[0mpredict\u001b[0m\u001b[0;34m(\u001b[0m\u001b[0mX_test\u001b[0m\u001b[0;34m)\u001b[0m \u001b[0;34m!=\u001b[0m \u001b[0my_test\u001b[0m\u001b[0;34m)\u001b[0m\u001b[0;34m\u001b[0m\u001b[0;34m\u001b[0m\u001b[0m\n",
      "\u001b[0;32m<ipython-input-159-35bd354d8161>\u001b[0m in \u001b[0;36mfit\u001b[0;34m(self, X, y)\u001b[0m\n\u001b[1;32m     15\u001b[0m \u001b[0;34m\u001b[0m\u001b[0m\n\u001b[1;32m     16\u001b[0m     \u001b[0;32mdef\u001b[0m \u001b[0mfit\u001b[0m\u001b[0;34m(\u001b[0m\u001b[0mself\u001b[0m\u001b[0;34m,\u001b[0m \u001b[0mX\u001b[0m\u001b[0;34m,\u001b[0m \u001b[0my\u001b[0m\u001b[0;34m)\u001b[0m\u001b[0;34m:\u001b[0m\u001b[0;34m\u001b[0m\u001b[0;34m\u001b[0m\u001b[0m\n\u001b[0;32m---> 17\u001b[0;31m         \u001b[0mphi\u001b[0m \u001b[0;34m=\u001b[0m \u001b[0mself\u001b[0m\u001b[0;34m.\u001b[0m\u001b[0mcreate_phi_matrix\u001b[0m\u001b[0;34m(\u001b[0m\u001b[0mX\u001b[0m\u001b[0;34m)\u001b[0m\u001b[0;34m\u001b[0m\u001b[0;34m\u001b[0m\u001b[0m\n\u001b[0m\u001b[1;32m     18\u001b[0m         \u001b[0mself\u001b[0m\u001b[0;34m.\u001b[0m\u001b[0mw\u001b[0m \u001b[0;34m=\u001b[0m \u001b[0mnp\u001b[0m\u001b[0;34m.\u001b[0m\u001b[0mlinalg\u001b[0m\u001b[0;34m.\u001b[0m\u001b[0mlstsq\u001b[0m\u001b[0;34m(\u001b[0m\u001b[0mphi\u001b[0m\u001b[0;34m,\u001b[0m \u001b[0my\u001b[0m\u001b[0;34m,\u001b[0m \u001b[0mrcond\u001b[0m\u001b[0;34m=\u001b[0m\u001b[0;32mNone\u001b[0m\u001b[0;34m)\u001b[0m\u001b[0;34m[\u001b[0m\u001b[0;36m0\u001b[0m\u001b[0;34m]\u001b[0m\u001b[0;34m\u001b[0m\u001b[0;34m\u001b[0m\u001b[0m\n\u001b[1;32m     19\u001b[0m \u001b[0;34m\u001b[0m\u001b[0m\n",
      "\u001b[0;32m<ipython-input-159-35bd354d8161>\u001b[0m in \u001b[0;36mcreate_phi_matrix\u001b[0;34m(self, X)\u001b[0m\n\u001b[1;32m      5\u001b[0m \u001b[0;34m\u001b[0m\u001b[0m\n\u001b[1;32m      6\u001b[0m     \u001b[0;32mdef\u001b[0m \u001b[0mcreate_phi_matrix\u001b[0m\u001b[0;34m(\u001b[0m\u001b[0mself\u001b[0m\u001b[0;34m,\u001b[0m \u001b[0mX\u001b[0m\u001b[0;34m)\u001b[0m\u001b[0;34m:\u001b[0m\u001b[0;34m\u001b[0m\u001b[0;34m\u001b[0m\u001b[0m\n\u001b[0;32m----> 7\u001b[0;31m         \u001b[0mself\u001b[0m\u001b[0;34m.\u001b[0m\u001b[0mcenters\u001b[0m \u001b[0;34m=\u001b[0m \u001b[0mkmeans\u001b[0m\u001b[0;34m(\u001b[0m\u001b[0mX\u001b[0m\u001b[0;34m,\u001b[0m \u001b[0mself\u001b[0m\u001b[0;34m.\u001b[0m\u001b[0mK\u001b[0m\u001b[0;34m)\u001b[0m\u001b[0;34m\u001b[0m\u001b[0;34m\u001b[0m\u001b[0m\n\u001b[0m\u001b[1;32m      8\u001b[0m         \u001b[0mphi\u001b[0m \u001b[0;34m=\u001b[0m \u001b[0mnp\u001b[0m\u001b[0;34m.\u001b[0m\u001b[0mzeros\u001b[0m\u001b[0;34m(\u001b[0m\u001b[0;34m(\u001b[0m\u001b[0mX\u001b[0m\u001b[0;34m.\u001b[0m\u001b[0mshape\u001b[0m\u001b[0;34m[\u001b[0m\u001b[0;36m0\u001b[0m\u001b[0;34m]\u001b[0m\u001b[0;34m,\u001b[0m \u001b[0mself\u001b[0m\u001b[0;34m.\u001b[0m\u001b[0mK\u001b[0m\u001b[0;34m+\u001b[0m\u001b[0;36m1\u001b[0m\u001b[0;34m)\u001b[0m\u001b[0;34m)\u001b[0m \u001b[0;31m# +1 for bias term\u001b[0m\u001b[0;34m\u001b[0m\u001b[0;34m\u001b[0m\u001b[0m\n\u001b[1;32m      9\u001b[0m         \u001b[0;32mfor\u001b[0m \u001b[0mk\u001b[0m \u001b[0;32min\u001b[0m \u001b[0mrange\u001b[0m\u001b[0;34m(\u001b[0m\u001b[0mself\u001b[0m\u001b[0;34m.\u001b[0m\u001b[0mK\u001b[0m\u001b[0;34m)\u001b[0m\u001b[0;34m:\u001b[0m\u001b[0;34m\u001b[0m\u001b[0;34m\u001b[0m\u001b[0m\n",
      "\u001b[0;32m<ipython-input-155-89997514c7e5>\u001b[0m in \u001b[0;36mkmeans\u001b[0;34m(X, K)\u001b[0m\n\u001b[1;32m      8\u001b[0m                 \u001b[0;31m# Find closest cluster for each point\u001b[0m\u001b[0;34m\u001b[0m\u001b[0;34m\u001b[0m\u001b[0;34m\u001b[0m\u001b[0m\n\u001b[1;32m      9\u001b[0m                 \u001b[0;32mfor\u001b[0m \u001b[0mi\u001b[0m \u001b[0;32min\u001b[0m \u001b[0mrange\u001b[0m\u001b[0;34m(\u001b[0m\u001b[0mX\u001b[0m\u001b[0;34m.\u001b[0m\u001b[0mshape\u001b[0m\u001b[0;34m[\u001b[0m\u001b[0;36m0\u001b[0m\u001b[0;34m]\u001b[0m\u001b[0;34m)\u001b[0m\u001b[0;34m:\u001b[0m\u001b[0;34m\u001b[0m\u001b[0;34m\u001b[0m\u001b[0m\n\u001b[0;32m---> 10\u001b[0;31m                     \u001b[0mcluster_idx\u001b[0m\u001b[0;34m[\u001b[0m\u001b[0mi\u001b[0m\u001b[0;34m]\u001b[0m \u001b[0;34m=\u001b[0m \u001b[0mnp\u001b[0m\u001b[0;34m.\u001b[0m\u001b[0margmin\u001b[0m\u001b[0;34m(\u001b[0m\u001b[0mnp\u001b[0m\u001b[0;34m.\u001b[0m\u001b[0mlinalg\u001b[0m\u001b[0;34m.\u001b[0m\u001b[0mnorm\u001b[0m\u001b[0;34m(\u001b[0m\u001b[0mmus\u001b[0m \u001b[0;34m-\u001b[0m \u001b[0mX\u001b[0m\u001b[0;34m[\u001b[0m\u001b[0mi\u001b[0m\u001b[0;34m,\u001b[0m\u001b[0;36m1\u001b[0m\u001b[0;34m:\u001b[0m\u001b[0;34m]\u001b[0m\u001b[0;34m,\u001b[0m \u001b[0maxis\u001b[0m\u001b[0;34m=\u001b[0m\u001b[0;36m1\u001b[0m\u001b[0;34m)\u001b[0m\u001b[0;34m)\u001b[0m\u001b[0;34m\u001b[0m\u001b[0;34m\u001b[0m\u001b[0m\n\u001b[0m\u001b[1;32m     11\u001b[0m                 \u001b[0;31m# Find average position for each cluster\u001b[0m\u001b[0;34m\u001b[0m\u001b[0;34m\u001b[0m\u001b[0;34m\u001b[0m\u001b[0m\n\u001b[1;32m     12\u001b[0m                 \u001b[0;32mfor\u001b[0m \u001b[0mk\u001b[0m \u001b[0;32min\u001b[0m \u001b[0mrange\u001b[0m\u001b[0;34m(\u001b[0m\u001b[0mK\u001b[0m\u001b[0;34m)\u001b[0m\u001b[0;34m:\u001b[0m\u001b[0;34m\u001b[0m\u001b[0;34m\u001b[0m\u001b[0m\n",
      "\u001b[0;31mKeyboardInterrupt\u001b[0m: "
     ]
    }
   ],
   "source": [
    "\n",
    "total_wins = 0\n",
    "kernel_wins = 0\n",
    "\n",
    "for i in range(1000):\n",
    "    X_train = 2*np.random.rand(100, 3)-1\n",
    "    X_train[:,0] = 1\n",
    "    y_train = f(X_train)\n",
    "    \n",
    "    X_test = 2*np.random.rand(10000, 3)-1\n",
    "    X_test[:,0] = 1\n",
    "    y_test = f(X_test)\n",
    "    \n",
    "    svc = SVC(C=1e8, kernel=\"rbf\", gamma=1.5, verbose=False)\n",
    "    svc.fit(X_train, y_train)\n",
    "    svc_E_in = np.mean(svc.predict(X_train) != y_train)\n",
    "    svc_E_out = np.mean(svc.predict(X_test) != y_test)\n",
    "\n",
    "    \n",
    "    rbf = RegularRBF(K=9, gamma=1.5)\n",
    "    rbf.fit(X_train, y_train)\n",
    "    rbf_E_in = np.mean(rbf.predict(X_train) != y_train)        \n",
    "    rbf_E_out = np.mean(rbf.predict(X_test) != y_test)\n",
    "    \n",
    "    print(\"SVC: {}/{},  RBF: {}/{}\".format(\n",
    "        svc_E_in, svc_E_out,\n",
    "        rbf_E_in, rbf_E_out,\n",
    "    ))\n",
    "    \n",
    "    total_wins += 1\n",
    "    if svc_E_out < rbf_E_out:\n",
    "        kernel_wins += 1\n",
    "    print(kernel_wins / total_wins * 100, \"%\")\n",
    "\n",
    "\n",
    "rbf = RegularRBF(K=12, gamma=1.5)\n",
    "rbf.fit(X, y)\n",
    "rbf.predict(X)\n",
    "\n",
    "plot_decision_boundary(rbf.predict)\n",
    "plot_data(X, y)\n",
    "plt.show()"
   ]
  },
  {
   "cell_type": "markdown",
   "metadata": {},
   "source": [
    "SVM with RBF kernel wins above 90% of the time.\n",
    "\n",
    "**Alternative 15E**"
   ]
  },
  {
   "cell_type": "markdown",
   "metadata": {},
   "source": [
    "# 16\n",
    "\n",
    "Compare Ein, Eout for regular RBF with K=9 and K=12."
   ]
  },
  {
   "cell_type": "code",
   "execution_count": 167,
   "metadata": {
    "scrolled": false
   },
   "outputs": [
    {
     "name": "stdout",
     "output_type": "stream",
     "text": [
      "RBF9: 0.01/0.0526,  RBF12: 0.0/0.0306\n",
      "RBF9: 0.03/0.071,  RBF12: 0.03/0.0794\n",
      "RBF9: 0.04/0.0583,  RBF12: 0.02/0.045\n",
      "RBF9: 0.03/0.0372,  RBF12: 0.02/0.0173\n",
      "RBF9: 0.03/0.0486,  RBF12: 0.02/0.0528\n",
      "RBF9: 0.04/0.0552,  RBF12: 0.01/0.0357\n",
      "RBF9: 0.06/0.085,  RBF12: 0.03/0.051\n",
      "RBF9: 0.03/0.0542,  RBF12: 0.02/0.044\n",
      "RBF9: 0.03/0.0674,  RBF12: 0.03/0.0711\n",
      "RBF9: 0.08/0.0729,  RBF12: 0.06/0.0667\n",
      "RBF9: 0.03/0.0442,  RBF12: 0.02/0.0419\n",
      "RBF9: 0.06/0.0604,  RBF12: 0.03/0.0344\n",
      "RBF9: 0.04/0.0636,  RBF12: 0.02/0.0532\n",
      "RBF9: 0.02/0.0392,  RBF12: 0.01/0.0275\n",
      "RBF9: 0.03/0.0494,  RBF12: 0.03/0.0393\n",
      "RBF9: 0.03/0.0505,  RBF12: 0.03/0.0572\n",
      "RBF9: 0.04/0.0484,  RBF12: 0.04/0.0241\n",
      "RBF9: 0.02/0.0537,  RBF12: 0.01/0.0519\n",
      "RBF9: 0.03/0.069,  RBF12: 0.04/0.0757\n",
      "RBF9: 0.01/0.0676,  RBF12: 0.0/0.0669\n",
      "RBF9: 0.05/0.0886,  RBF12: 0.01/0.0576\n",
      "RBF9: 0.04/0.0596,  RBF12: 0.02/0.0385\n",
      "RBF9: 0.07/0.0649,  RBF12: 0.03/0.0667\n",
      "RBF9: 0.01/0.0511,  RBF12: 0.01/0.05\n",
      "RBF9: 0.01/0.03,  RBF12: 0.0/0.0403\n",
      "RBF9: 0.02/0.0565,  RBF12: 0.02/0.0495\n",
      "RBF9: 0.04/0.0697,  RBF12: 0.03/0.0432\n",
      "RBF9: 0.01/0.0378,  RBF12: 0.01/0.0444\n",
      "RBF9: 0.0/0.0801,  RBF12: 0.01/0.0762\n",
      "RBF9: 0.05/0.0708,  RBF12: 0.01/0.017\n",
      "RBF9: 0.01/0.0577,  RBF12: 0.01/0.0515\n",
      "RBF9: 0.0/0.0505,  RBF12: 0.0/0.0416\n",
      "RBF9: 0.01/0.0641,  RBF12: 0.01/0.1102\n",
      "RBF9: 0.03/0.057,  RBF12: 0.01/0.0419\n",
      "RBF9: 0.06/0.0683,  RBF12: 0.01/0.0469\n",
      "RBF9: 0.04/0.0522,  RBF12: 0.02/0.0345\n",
      "RBF9: 0.08/0.0484,  RBF12: 0.07/0.0523\n",
      "RBF9: 0.04/0.0767,  RBF12: 0.01/0.0483\n",
      "RBF9: 0.02/0.0576,  RBF12: 0.02/0.0455\n",
      "RBF9: 0.01/0.042,  RBF12: 0.0/0.032\n",
      "RBF9: 0.07/0.0715,  RBF12: 0.01/0.0403\n",
      "RBF9: 0.02/0.0575,  RBF12: 0.0/0.0544\n",
      "RBF9: 0.04/0.0484,  RBF12: 0.01/0.0391\n",
      "RBF9: 0.04/0.0707,  RBF12: 0.01/0.031\n",
      "RBF9: 0.06/0.0693,  RBF12: 0.03/0.0635\n",
      "RBF9: 0.01/0.0785,  RBF12: 0.01/0.0572\n",
      "RBF9: 0.02/0.0602,  RBF12: 0.01/0.0423\n",
      "RBF9: 0.02/0.0438,  RBF12: 0.02/0.0411\n",
      "RBF9: 0.04/0.0311,  RBF12: 0.0/0.0322\n",
      "RBF9: 0.02/0.0467,  RBF12: 0.0/0.0313\n",
      "RBF9: 0.06/0.0561,  RBF12: 0.06/0.0486\n",
      "RBF9: 0.02/0.055,  RBF12: 0.02/0.0164\n",
      "RBF9: 0.06/0.0599,  RBF12: 0.04/0.0427\n",
      "RBF9: 0.02/0.0409,  RBF12: 0.02/0.0429\n",
      "RBF9: 0.03/0.0608,  RBF12: 0.01/0.03\n",
      "RBF9: 0.05/0.0537,  RBF12: 0.02/0.018\n",
      "RBF9: 0.02/0.0462,  RBF12: 0.01/0.0338\n",
      "RBF9: 0.06/0.0811,  RBF12: 0.02/0.0435\n",
      "RBF9: 0.06/0.0765,  RBF12: 0.02/0.0728\n",
      "RBF9: 0.09/0.0769,  RBF12: 0.03/0.0621\n",
      "RBF9: 0.03/0.0455,  RBF12: 0.02/0.0361\n",
      "RBF9: 0.01/0.0491,  RBF12: 0.01/0.0549\n",
      "RBF9: 0.04/0.0835,  RBF12: 0.04/0.0574\n",
      "RBF9: 0.02/0.0597,  RBF12: 0.0/0.0446\n",
      "RBF9: 0.03/0.0634,  RBF12: 0.01/0.046\n",
      "RBF9: 0.01/0.0378,  RBF12: 0.03/0.0396\n",
      "RBF9: 0.03/0.0326,  RBF12: 0.02/0.0246\n",
      "RBF9: 0.06/0.0567,  RBF12: 0.05/0.0377\n",
      "RBF9: 0.02/0.0333,  RBF12: 0.04/0.0345\n",
      "RBF9: 0.04/0.0886,  RBF12: 0.02/0.0477\n",
      "RBF9: 0.04/0.0628,  RBF12: 0.04/0.0541\n",
      "RBF9: 0.0/0.027,  RBF12: 0.0/0.0284\n",
      "RBF9: 0.01/0.0296,  RBF12: 0.0/0.0244\n",
      "RBF9: 0.01/0.0396,  RBF12: 0.01/0.0294\n",
      "RBF9: 0.04/0.0484,  RBF12: 0.03/0.0337\n",
      "RBF9: 0.03/0.0341,  RBF12: 0.03/0.0347\n",
      "RBF9: 0.07/0.0685,  RBF12: 0.03/0.0416\n",
      "RBF9: 0.06/0.089,  RBF12: 0.05/0.0782\n",
      "RBF9: 0.05/0.0505,  RBF12: 0.05/0.0463\n",
      "RBF9: 0.05/0.0584,  RBF12: 0.02/0.0375\n",
      "RBF9: 0.03/0.0668,  RBF12: 0.01/0.0461\n",
      "RBF9: 0.04/0.0509,  RBF12: 0.01/0.0495\n",
      "RBF9: 0.02/0.029,  RBF12: 0.0/0.0195\n",
      "RBF9: 0.0/0.0343,  RBF12: 0.04/0.049\n",
      "RBF9: 0.01/0.0504,  RBF12: 0.01/0.0603\n",
      "RBF9: 0.03/0.0372,  RBF12: 0.02/0.0339\n",
      "RBF9: 0.04/0.0609,  RBF12: 0.02/0.0545\n",
      "RBF9: 0.03/0.0913,  RBF12: 0.03/0.0577\n",
      "RBF9: 0.02/0.0345,  RBF12: 0.02/0.0359\n",
      "RBF9: 0.01/0.0378,  RBF12: 0.01/0.0388\n",
      "RBF9: 0.08/0.0399,  RBF12: 0.04/0.0233\n",
      "RBF9: 0.05/0.0531,  RBF12: 0.03/0.051\n",
      "RBF9: 0.03/0.0617,  RBF12: 0.01/0.0517\n",
      "RBF9: 0.04/0.0688,  RBF12: 0.01/0.0393\n",
      "RBF9: 0.03/0.0354,  RBF12: 0.03/0.0297\n",
      "RBF9: 0.08/0.0866,  RBF12: 0.03/0.0552\n",
      "RBF9: 0.05/0.0543,  RBF12: 0.04/0.039\n",
      "RBF9: 0.02/0.042,  RBF12: 0.02/0.0382\n",
      "RBF9: 0.04/0.082,  RBF12: 0.03/0.061\n",
      "RBF9: 0.07/0.0692,  RBF12: 0.03/0.037\n",
      "RBF9: 0.02/0.0504,  RBF12: 0.0/0.0352\n",
      "RBF9: 0.01/0.0359,  RBF12: 0.01/0.0234\n",
      "RBF9: 0.02/0.0372,  RBF12: 0.02/0.037\n",
      "RBF9: 0.04/0.0474,  RBF12: 0.02/0.0265\n",
      "RBF9: 0.02/0.0284,  RBF12: 0.03/0.0368\n",
      "RBF9: 0.02/0.0253,  RBF12: 0.02/0.0336\n",
      "RBF9: 0.04/0.0599,  RBF12: 0.02/0.0481\n",
      "RBF9: 0.05/0.0607,  RBF12: 0.03/0.0448\n",
      "RBF9: 0.02/0.0594,  RBF12: 0.0/0.0536\n",
      "RBF9: 0.04/0.0623,  RBF12: 0.04/0.05\n",
      "RBF9: 0.03/0.062,  RBF12: 0.02/0.043\n",
      "RBF9: 0.03/0.066,  RBF12: 0.03/0.0594\n",
      "RBF9: 0.05/0.064,  RBF12: 0.02/0.0341\n",
      "RBF9: 0.04/0.0368,  RBF12: 0.01/0.061\n",
      "RBF9: 0.02/0.0406,  RBF12: 0.01/0.0475\n",
      "RBF9: 0.04/0.0627,  RBF12: 0.01/0.0494\n",
      "RBF9: 0.02/0.0624,  RBF12: 0.01/0.0353\n",
      "RBF9: 0.05/0.0594,  RBF12: 0.02/0.0603\n",
      "RBF9: 0.02/0.0613,  RBF12: 0.02/0.055\n",
      "RBF9: 0.05/0.0717,  RBF12: 0.04/0.0336\n",
      "RBF9: 0.06/0.0762,  RBF12: 0.03/0.0496\n",
      "RBF9: 0.04/0.0664,  RBF12: 0.01/0.0479\n",
      "RBF9: 0.06/0.0684,  RBF12: 0.05/0.0421\n",
      "RBF9: 0.04/0.0591,  RBF12: 0.01/0.0578\n",
      "RBF9: 0.03/0.0806,  RBF12: 0.04/0.0622\n",
      "RBF9: 0.04/0.0496,  RBF12: 0.01/0.0397\n",
      "RBF9: 0.05/0.0995,  RBF12: 0.03/0.081\n",
      "RBF9: 0.02/0.0766,  RBF12: 0.02/0.0715\n",
      "RBF9: 0.0/0.057,  RBF12: 0.0/0.0599\n",
      "RBF9: 0.01/0.0555,  RBF12: 0.01/0.0446\n",
      "RBF9: 0.0/0.0749,  RBF12: 0.01/0.0666\n",
      "RBF9: 0.04/0.0684,  RBF12: 0.02/0.0662\n",
      "RBF9: 0.03/0.0722,  RBF12: 0.01/0.0399\n",
      "RBF9: 0.02/0.0576,  RBF12: 0.03/0.0423\n",
      "RBF9: 0.02/0.0307,  RBF12: 0.0/0.0293\n",
      "RBF9: 0.05/0.0388,  RBF12: 0.02/0.0572\n",
      "RBF9: 0.04/0.071,  RBF12: 0.02/0.0747\n",
      "RBF9: 0.01/0.0438,  RBF12: 0.0/0.0385\n",
      "RBF9: 0.03/0.0581,  RBF12: 0.0/0.0286\n",
      "RBF9: 0.03/0.0925,  RBF12: 0.02/0.096\n",
      "RBF9: 0.03/0.0499,  RBF12: 0.02/0.0588\n",
      "RBF9: 0.02/0.0534,  RBF12: 0.03/0.0694\n",
      "RBF9: 0.03/0.0386,  RBF12: 0.01/0.0233\n",
      "RBF9: 0.04/0.0547,  RBF12: 0.03/0.0365\n",
      "RBF9: 0.03/0.1166,  RBF12: 0.01/0.0634\n",
      "RBF9: 0.03/0.044,  RBF12: 0.02/0.0409\n",
      "RBF9: 0.02/0.0549,  RBF12: 0.01/0.0391\n",
      "RBF9: 0.03/0.0437,  RBF12: 0.02/0.037\n",
      "RBF9: 0.02/0.0454,  RBF12: 0.01/0.0344\n",
      "RBF9: 0.08/0.0515,  RBF12: 0.01/0.0292\n",
      "12\n",
      "4\n",
      "6\n",
      "89\n",
      "0\n"
     ]
    }
   ],
   "source": [
    "case_a = 0\n",
    "case_b = 0\n",
    "case_c = 0\n",
    "case_d = 0\n",
    "case_e = 0\n",
    "\n",
    "for i in range(150):\n",
    "    X_train = 2*np.random.rand(100, 3)-1\n",
    "    X_train[:,0] = 1\n",
    "    y_train = f(X_train)\n",
    "    \n",
    "    X_test = 2*np.random.rand(10000, 3)-1\n",
    "    X_test[:,0] = 1\n",
    "    y_test = f(X_test)\n",
    "    \n",
    "    rbf9 = RegularRBF(K=9, gamma=1.5)\n",
    "    rbf9.fit(X_train, y_train)\n",
    "    rbf9_E_in = np.mean(rbf9.predict(X_train) != y_train)        \n",
    "    rbf9_E_out = np.mean(rbf9.predict(X_test) != y_test)\n",
    "    \n",
    "    rbf12 = RegularRBF(K=12, gamma=1.5)\n",
    "    rbf12.fit(X_train, y_train)\n",
    "    rbf12_E_in = np.mean(rbf12.predict(X_train) != y_train)        \n",
    "    rbf12_E_out = np.mean(rbf12.predict(X_test) != y_test)\n",
    "    \n",
    "    print(\"RBF9: {}/{},  RBF12: {}/{}\".format(\n",
    "        rbf9_E_in, rbf9_E_out,\n",
    "        rbf12_E_in, rbf12_E_out,\n",
    "    ))\n",
    "    \n",
    "    if rbf12_E_in < rbf9_E_in and rbf12_E_out > rbf9_E_out:\n",
    "        case_a += 1\n",
    "    if rbf12_E_in > rbf9_E_in and rbf12_E_out < rbf9_E_out:\n",
    "        case_b += 1\n",
    "    if rbf12_E_in > rbf9_E_in and rbf12_E_out > rbf9_E_out:\n",
    "        case_c += 1\n",
    "    if rbf12_E_in < rbf9_E_in and rbf12_E_out < rbf9_E_out:\n",
    "        case_d += 1\n",
    "    if rbf12_E_in == rbf9_E_in and rbf12_E_out == rbf9_E_out:\n",
    "        case_e += 1\n",
    "        \n",
    "print(case_a)\n",
    "print(case_b)\n",
    "print(case_c)\n",
    "print(case_d)\n",
    "print(case_e)"
   ]
  },
  {
   "cell_type": "markdown",
   "metadata": {},
   "source": [
    "Landslide victory for **Alternative 16D: Both E_in and E_out go down**"
   ]
  },
  {
   "cell_type": "markdown",
   "metadata": {},
   "source": [
    "# 17\n",
    "\n",
    "K=9, going from gamma=1.5 to gamma=2.0"
   ]
  },
  {
   "cell_type": "code",
   "execution_count": 168,
   "metadata": {},
   "outputs": [
    {
     "name": "stdout",
     "output_type": "stream",
     "text": [
      "RBF1: 0.02/0.0464,  RBF2: 0.01/0.0661\n",
      "RBF1: 0.03/0.0685,  RBF2: 0.04/0.0727\n",
      "RBF1: 0.01/0.0391,  RBF2: 0.02/0.0457\n",
      "RBF1: 0.03/0.0598,  RBF2: 0.02/0.0582\n",
      "RBF1: 0.01/0.0759,  RBF2: 0.01/0.0699\n",
      "RBF1: 0.06/0.0693,  RBF2: 0.07/0.0517\n",
      "RBF1: 0.01/0.0288,  RBF2: 0.01/0.0472\n",
      "RBF1: 0.03/0.0757,  RBF2: 0.04/0.0874\n",
      "RBF1: 0.01/0.0636,  RBF2: 0.02/0.0523\n",
      "RBF1: 0.01/0.0356,  RBF2: 0.01/0.0383\n",
      "RBF1: 0.02/0.086,  RBF2: 0.02/0.0773\n",
      "RBF1: 0.07/0.0748,  RBF2: 0.03/0.0748\n",
      "RBF1: 0.01/0.062,  RBF2: 0.0/0.0395\n",
      "RBF1: 0.03/0.0742,  RBF2: 0.05/0.0681\n",
      "RBF1: 0.04/0.0714,  RBF2: 0.04/0.0798\n",
      "RBF1: 0.04/0.0444,  RBF2: 0.03/0.0362\n",
      "RBF1: 0.02/0.0676,  RBF2: 0.03/0.077\n",
      "RBF1: 0.08/0.063,  RBF2: 0.08/0.0682\n",
      "RBF1: 0.04/0.0669,  RBF2: 0.05/0.0751\n",
      "RBF1: 0.02/0.0524,  RBF2: 0.02/0.0359\n",
      "RBF1: 0.02/0.0468,  RBF2: 0.03/0.065\n",
      "RBF1: 0.05/0.0771,  RBF2: 0.06/0.0681\n",
      "RBF1: 0.04/0.0629,  RBF2: 0.09/0.0721\n",
      "RBF1: 0.05/0.0574,  RBF2: 0.06/0.0605\n",
      "RBF1: 0.01/0.0525,  RBF2: 0.02/0.0705\n",
      "RBF1: 0.02/0.0583,  RBF2: 0.02/0.0619\n",
      "RBF1: 0.03/0.0319,  RBF2: 0.03/0.0355\n",
      "RBF1: 0.01/0.0529,  RBF2: 0.0/0.0772\n",
      "RBF1: 0.04/0.0445,  RBF2: 0.02/0.062\n",
      "RBF1: 0.01/0.0292,  RBF2: 0.03/0.0432\n",
      "RBF1: 0.03/0.0823,  RBF2: 0.03/0.0824\n",
      "RBF1: 0.02/0.0592,  RBF2: 0.05/0.0869\n",
      "RBF1: 0.04/0.0394,  RBF2: 0.02/0.042\n",
      "RBF1: 0.01/0.0453,  RBF2: 0.03/0.0438\n",
      "RBF1: 0.01/0.0664,  RBF2: 0.02/0.0727\n",
      "RBF1: 0.05/0.0484,  RBF2: 0.04/0.0462\n",
      "RBF1: 0.03/0.0457,  RBF2: 0.03/0.0483\n",
      "RBF1: 0.01/0.0479,  RBF2: 0.03/0.0659\n",
      "RBF1: 0.03/0.0551,  RBF2: 0.06/0.0619\n",
      "RBF1: 0.06/0.0745,  RBF2: 0.04/0.0476\n",
      "RBF1: 0.02/0.0568,  RBF2: 0.02/0.0648\n",
      "RBF1: 0.03/0.0763,  RBF2: 0.03/0.0624\n",
      "RBF1: 0.02/0.0809,  RBF2: 0.03/0.0792\n",
      "RBF1: 0.02/0.0922,  RBF2: 0.01/0.0737\n",
      "RBF1: 0.03/0.0302,  RBF2: 0.05/0.0472\n",
      "RBF1: 0.04/0.0683,  RBF2: 0.06/0.0668\n",
      "RBF1: 0.02/0.0391,  RBF2: 0.01/0.0373\n",
      "RBF1: 0.04/0.0809,  RBF2: 0.03/0.0578\n",
      "RBF1: 0.05/0.0637,  RBF2: 0.08/0.0648\n",
      "RBF1: 0.03/0.1059,  RBF2: 0.03/0.1092\n",
      "4\n",
      "7\n",
      "16\n",
      "8\n",
      "0\n"
     ]
    }
   ],
   "source": [
    "case_a = 0\n",
    "case_b = 0\n",
    "case_c = 0\n",
    "case_d = 0\n",
    "case_e = 0\n",
    "\n",
    "for i in range(50):\n",
    "    X_train = 2*np.random.rand(100, 3)-1\n",
    "    X_train[:,0] = 1\n",
    "    y_train = f(X_train)\n",
    "    \n",
    "    X_test = 2*np.random.rand(10000, 3)-1\n",
    "    X_test[:,0] = 1\n",
    "    y_test = f(X_test)\n",
    "    \n",
    "    rbf1 = RegularRBF(K=9, gamma=1.5)\n",
    "    rbf1.fit(X_train, y_train)\n",
    "    rbf1_E_in = np.mean(rbf1.predict(X_train) != y_train)        \n",
    "    rbf1_E_out = np.mean(rbf1.predict(X_test) != y_test)\n",
    "    \n",
    "    rbf2 = RegularRBF(K=9, gamma=2)\n",
    "    rbf2.fit(X_train, y_train)\n",
    "    rbf2_E_in = np.mean(rbf2.predict(X_train) != y_train)        \n",
    "    rbf2_E_out = np.mean(rbf2.predict(X_test) != y_test)\n",
    "    \n",
    "    print(\"RBF1: {}/{},  RBF2: {}/{}\".format(\n",
    "        rbf1_E_in, rbf1_E_out,\n",
    "        rbf2_E_in, rbf2_E_out,\n",
    "    ))\n",
    "    \n",
    "    if rbf2_E_in < rbf1_E_in and rbf2_E_out > rbf1_E_out:\n",
    "        case_a += 1\n",
    "    if rbf2_E_in > rbf1_E_in and rbf2_E_out < rbf1_E_out:\n",
    "        case_b += 1\n",
    "    if rbf2_E_in > rbf1_E_in and rbf2_E_out > rbf1_E_out:\n",
    "        case_c += 1\n",
    "    if rbf2_E_in < rbf1_E_in and rbf2_E_out < rbf1_E_out:\n",
    "        case_d += 1\n",
    "    if rbf2_E_in == rbf1_E_in and rbf2_E_out == rbf1_E_out:\n",
    "        case_e += 1\n",
    "        \n",
    "print(case_a)\n",
    "print(case_b)\n",
    "print(case_c)\n",
    "print(case_d)\n",
    "print(case_e)"
   ]
  },
  {
   "cell_type": "code",
   "execution_count": 169,
   "metadata": {},
   "outputs": [
    {
     "data": {
      "image/png": "[encoded data removed]",
      "text/plain": [
       "<Figure size 432x288 with 1 Axes>"
      ]
     },
     "metadata": {
      "needs_background": "light"
     },
     "output_type": "display_data"
    },
    {
     "data": {
      "image/png": "[encoded data removed]",
      "text/plain": [
       "<Figure size 432x288 with 1 Axes>"
      ]
     },
     "metadata": {
      "needs_background": "light"
     },
     "output_type": "display_data"
    }
   ],
   "source": [
    "plot_decision_boundary(rbf1.predict)\n",
    "plot_data(X, y)\n",
    "plt.show()\n",
    "\n",
    "plot_decision_boundary(rbf2.predict)\n",
    "plot_data(X, y)\n",
    "plt.show()"
   ]
  },
  {
   "cell_type": "markdown",
   "metadata": {},
   "source": [
    "Looks like higher gamma causes more local variations (=more potential for overfitting?)."
   ]
  },
  {
   "cell_type": "markdown",
   "metadata": {},
   "source": [
    "**Alternative 17C: Both Ein and Eout go up** seems to win."
   ]
  },
  {
   "cell_type": "markdown",
   "metadata": {},
   "source": [
    "# 18"
   ]
  },
  {
   "cell_type": "code",
   "execution_count": 172,
   "metadata": {},
   "outputs": [
    {
     "name": "stdout",
     "output_type": "stream",
     "text": [
      "0.01\n"
     ]
    }
   ],
   "source": [
    "times_Ein_zero = 0\n",
    "times_Ein_positive = 0\n",
    "\n",
    "for i in range(100):\n",
    "    X_train = 2*np.random.rand(100, 3)-1\n",
    "    X_train[:,0] = 1\n",
    "    y_train = f(X_train)\n",
    "    \n",
    "    rbf = RegularRBF(K=9, gamma=1.5)\n",
    "    rbf.fit(X_train, y_train)\n",
    "    rbf_E_in = np.mean(rbf.predict(X_train) != y_train)\n",
    "    \n",
    "    if rbf_E_in == 0:\n",
    "        times_Ein_zero += 1\n",
    "    else:\n",
    "        times_Ein_positive += 1\n",
    "print(times_Ein_zero / (times_Ein_zero + times_Ein_positive))\n"
   ]
  },
  {
   "cell_type": "markdown",
   "metadata": {},
   "source": [
    "Regular RBF with K=9 and gamma=1.5 achieves Ein=0 a very small percentage of the time.\n",
    "\n",
    "**Alternative 18A: less than 10% of the time**"
   ]
  },
  {
   "cell_type": "markdown",
   "metadata": {},
   "source": [
    "# Bayesian Priors"
   ]
  },
  {
   "cell_type": "markdown",
   "metadata": {},
   "source": [
    "# 19"
   ]
  },
  {
   "cell_type": "markdown",
   "metadata": {},
   "source": [
    "**Alternative 19B**: THe posterior increases linearly over [0,1]"
   ]
  },
  {
   "cell_type": "markdown",
   "metadata": {},
   "source": [
    "# 20"
   ]
  },
  {
   "cell_type": "markdown",
   "metadata": {},
   "source": [
    "Let g2(x) = 2, g(x) = 1, g1(x) = 0, out of sample dataset = (x=0, y=3)."
   ]
  },
  {
   "cell_type": "code",
   "execution_count": 179,
   "metadata": {},
   "outputs": [
    {
     "name": "stdout",
     "output_type": "stream",
     "text": [
      "E_out (g1) = 1\n",
      "E_out (g2) = 1\n",
      "E_out (g) = 0.0\n",
      "Smaller of E_out(g1) and E_out(g2) = 1\n",
      "Average of E_out(g1) and E_out(g2) = 1.0\n"
     ]
    }
   ],
   "source": [
    "y1 = 1\n",
    "x1 = 0\n",
    "\n",
    "def g1(x):\n",
    "    return 0\n",
    "\n",
    "def g2(x):\n",
    "    return 2\n",
    "\n",
    "def g(x):\n",
    "    return 1/2 * (g1(x) + g2(x))\n",
    "\n",
    "print(\"E_out (g1) =\", (y1 - g1(x1))**2)\n",
    "print(\"E_out (g2) =\", (y1 - g2(x1))**2)\n",
    "print(\"E_out (g) =\", (y1 - g(x1))**2)\n",
    "print(\"Smaller of E_out(g1) and E_out(g2) =\", min((y1 - g1(x1))**2, (y1 - g2(x1))**2))\n",
    "print(\"Average of E_out(g1) and E_out(g2) =\", 0.5*((y1 - g1(x1))**2 + (y1 - g2(x1))**2))"
   ]
  },
  {
   "cell_type": "markdown",
   "metadata": {},
   "source": [
    "a) False. E out(g) CAN be worse than Eout(g1)\n",
    "\n",
    "b) False. E out(g) CAN be worse than smaller of Eout(g1) and Eout(g2)\n",
    "\n",
    "c) True. **Alternative 20C** (using cauchy schwarz)\n",
    "\n",
    "d) False. If g=f, then E_out(g) is zero while both E_out(g1) and E_out(g2) are positive.\n",
    "\n",
    "e) False."
   ]
  }
 ],
 "metadata": {
  "kernelspec": {
   "display_name": "Python 3",
   "language": "python",
   "name": "python3"
  },
  "language_info": {
   "codemirror_mode": {
    "name": "ipython",
    "version": 3
   },
   "file_extension": ".py",
   "mimetype": "text/x-python",
   "name": "python",
   "nbconvert_exporter": "python",
   "pygments_lexer": "ipython3",
   "version": "3.6.8"
  }
 },
 "nbformat": 4,
 "nbformat_minor": 2
}
